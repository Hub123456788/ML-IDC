{
 "cells": [
  {
   "cell_type": "markdown",
   "metadata": {
    "nbgrader": {
     "grade": false,
     "grade_id": "cell-6bd0516e7cb654f5",
     "locked": true,
     "schema_version": 1,
     "solution": false
    }
   },
   "source": [
    "# Exercise 2: Decision Trees\n",
    "\n",
    "In this assignment you will implement a Decision Tree algorithm as learned in class.\n",
    "\n",
    "## Read the following instructions carefully:\n",
    "\n",
    "1. This jupyter notebook contains all the step by step instructions needed for this exercise.\n",
    "1. Submission includes this notebook only with the exercise number and your ID as the filename. For example: `hw2_123456789_987654321.ipynb` if you submitted in pairs and `hw2_123456789.ipynb` if you submitted the exercise alone.\n",
    "1. Write **efficient vectorized** code whenever possible. Some calculations in this exercise take several minutes when implemented efficiently, and might take much longer otherwise. Unnecessary loops will result in point deduction.\n",
    "1. You are responsible for the correctness of your code and should add as many tests as you see fit. Tests will not be graded nor checked.\n",
    "1. Write your functions in this notebook only. **Do not create Python modules and import them**.\n",
    "1. You are allowed to use functions and methods from the [Python Standard Library](https://docs.python.org/3/library/) and [numpy](https://www.numpy.org/devdocs/reference/) only. **Do not import anything else.**\n",
    "1. Your code must run without errors. Make sure your `numpy` version is at least 1.15.4 and that you are using at least python 3.6. Changes of the configuration we provided are at your own risk. Any code that cannot run will not be graded.\n",
    "1. Write your own code. Cheating will not be tolerated.\n",
    "1. Answers to qualitative questions should be written in **markdown** cells (with $\\LaTeX$ support). Answers that will be written in commented code blocks will not be checked.\n",
    "\n",
    "## In this exercise you will perform the following:\n",
    "1. Practice OOP in python.\n",
    "2. Implement two impurity measures: Gini and Entropy.\n",
    "3. Construct a decision tree algorithm.\n",
    "4. Prune the tree to achieve better results.\n",
    "5. Visualize your results."
   ]
  },
  {
   "cell_type": "markdown",
   "metadata": {},
   "source": [
    "# I have read and understood the instructions: *** ,206328734 ***"
   ]
  },
  {
   "cell_type": "code",
   "execution_count": 2,
   "metadata": {
    "nbgrader": {
     "grade": false,
     "grade_id": "cell-ed9fe7b1026e33cb",
     "locked": true,
     "schema_version": 1,
     "solution": false
    }
   },
   "outputs": [],
   "source": [
    "import numpy as np\n",
    "import pandas as pd\n",
    "import matplotlib.pyplot as plt\n",
    "\n",
    "# make matplotlib figures appear inline in the notebook\n",
    "%matplotlib inline\n",
    "plt.rcParams['figure.figsize'] = (10.0, 8.0) # set default size of plots\n",
    "plt.rcParams['image.interpolation'] = 'nearest'\n",
    "plt.rcParams['image.cmap'] = 'gray'\n",
    "\n",
    "# Ignore warnings\n",
    "import warnings\n",
    "warnings.filterwarnings('ignore')"
   ]
  },
  {
   "cell_type": "markdown",
   "metadata": {
    "nbgrader": {
     "grade": false,
     "grade_id": "cell-c6ac605270c2b091",
     "locked": true,
     "schema_version": 1,
     "solution": false
    }
   },
   "source": [
    "## Warmup - OOP in python\n",
    "\n",
    "Our desicion tree will be implemented using a dedicated python class. Python classes are very similar to classes in Java.\n",
    "\n",
    "\n",
    "You can use the following [site](https://jeffknupp.com/blog/2014/06/18/improve-your-python-python-classes-and-object-oriented-programming/) to learn about classes in python."
   ]
  },
  {
   "cell_type": "code",
   "execution_count": null,
   "metadata": {},
   "outputs": [],
   "source": [
    "class Node(object):\n",
    "    def __init__(self, data):\n",
    "        self.data = data\n",
    "        self.children = []\n",
    "\n",
    "    def add_child(self, node):\n",
    "        self.children.append(node)"
   ]
  },
  {
   "cell_type": "code",
   "execution_count": null,
   "metadata": {},
   "outputs": [],
   "source": [
    "n = Node(5)\n",
    "p = Node(6)\n",
    "q = Node(7)\n",
    "n.add_child(p)\n",
    "n.add_child(q)\n",
    "n.children"
   ]
  },
  {
   "cell_type": "markdown",
   "metadata": {
    "nbgrader": {
     "grade": false,
     "grade_id": "cell-2f1ceb251c649b62",
     "locked": true,
     "schema_version": 1,
     "solution": false
    }
   },
   "source": [
    "## Data preprocessing\n",
    "\n",
    "For the following exercise, we will use a dataset containing mushroom data `agaricus-lepiota.csv`. \n",
    "\n",
    "This data set includes descriptions of hypothetical samples corresponding to 23 species of gilled mushrooms in the Agaricus and Lepiota Family. Each species is identified as definitely edible, definitely poisonous, or of unknown edibility and not recommended. This latter class was combined with the poisonous\n",
    "one (=there are only two classes **edible** and **poisonous**). \n",
    "    \n",
    "The dataset contains 8124 observations with 22 features:\n",
    "1. cap-shape: bell=b,conical=c,convex=x,flat=f,knobbed=k,sunken=s\n",
    "2. cap-surface: fibrous=f,grooves=g,scaly=y,smooth=s\n",
    "3. cap-color: brown=n,buff=b,cinnamon=c,gray=g,green=r,pink=p,purple=u,red=e,white=w,yellow=y\n",
    "4. bruises: bruises=t,no=f\n",
    "5. odor: almond=a,anise=l,creosote=c,fishy=y,foul=f, musty=m,none=n,pungent=p,spicy=s\n",
    "6. gill-attachment: attached=a,descending=d,free=f,notched=n\n",
    "7. gill-spacing: close=c,crowded=w,distant=d\n",
    "8. gill-size: broad=b,narrow=n\n",
    "9. gill-color: black=k,brown=n,buff=b,chocolate=h,gray=g,green=r,orange=o,pink=p,purple=u,red=e,white=w,yellow=y\n",
    "10. stalk-shape: enlarging=e,tapering=t\n",
    "11. stalk-root: bulbous=b,club=c,cup=u,equal=e,rhizomorphs=z,rooted=r\n",
    "12. stalk-surface-above-ring: fibrous=f,scaly=y,silky=k,smooth=s\n",
    "13. stalk-surface-below-ring: fibrous=f,scaly=y,silky=k,smooth=s\n",
    "14. stalk-color-above-ring: brown=n,buff=b,cinnamon=c,gray=g,orange=o,pink=p,red=e,white=w,yellow=y\n",
    "15. stalk-color-below-ring: brown=n,buff=b,cinnamon=c,gray=g,orange=o,pink=p,red=e,white=w,yellow=y\n",
    "16. veil-type: partial=p,universal=u\n",
    "17. veil-color: brown=n,orange=o,white=w,yellow=y\n",
    "18. ring-number: none=n,one=o,two=t\n",
    "19. ring-type: cobwebby=c,evanescent=e,flaring=f,large=l,none=n,pendant=p,sheathing=s,zone=z\n",
    "20. spore-print-color: black=k,brown=n,buff=b,chocolate=h,green=r,orange=o,purple=u,white=w,yellow=y\n",
    "21. population: abundant=a,clustered=c,numerous=n,scattered=s,several=v,solitary=y\n",
    "22. habitat: grasses=g,leaves=l,meadows=m,paths=p,urban=u,waste=w,woods=d\n",
    "\n",
    "First, we will read and explore the data using pandas and the `.read_csv` method. Pandas is an open source library providing high-performance, easy-to-use data structures and data analysis tools for the Python programming language."
   ]
  },
  {
   "cell_type": "code",
   "execution_count": 3,
   "metadata": {
    "nbgrader": {
     "grade": false,
     "grade_id": "cell-d79cb4542926ad3f",
     "locked": true,
     "schema_version": 1,
     "solution": false
    }
   },
   "outputs": [],
   "source": [
    "# load dataset\n",
    "data = pd.read_csv('agaricus-lepiota.csv')"
   ]
  },
  {
   "cell_type": "markdown",
   "metadata": {},
   "source": [
    "One of the advantages of the Decision Tree algorithm is that almost no preprocessing is required. However, finding missing values is always required."
   ]
  },
  {
   "cell_type": "code",
   "execution_count": 4,
   "metadata": {},
   "outputs": [],
   "source": [
    "#############################################################################\n",
    "# TODO: Find the columns with missing values and remove them from the data.#\n",
    "#############################################################################\n",
    "missing_values = [\"n/a\", \"na\", \"--\"]\n",
    "data = pd.read_csv('agaricus-lepiota.csv',na_values = missing_values)\n",
    "#############################################################################\n",
    "#                             END OF YOUR CODE                              #\n",
    "#############################################################################"
   ]
  },
  {
   "cell_type": "markdown",
   "metadata": {},
   "source": [
    "We will split the dataset to `Training` and `Testing` datasets."
   ]
  },
  {
   "cell_type": "code",
   "execution_count": 5,
   "metadata": {},
   "outputs": [
    {
     "name": "stdout",
     "output_type": "stream",
     "text": [
      "Training dataset shape:  (6093, 22)\n",
      "Testing dataset shape:  (2031, 22)\n"
     ]
    }
   ],
   "source": [
    "from sklearn.model_selection import train_test_split\n",
    "# Making sure the last column will hold the labels\n",
    "X, y = data.drop('class', axis=1), data['class']\n",
    "X = np.column_stack([X,y])\n",
    "# split dataset using random_state to get the same split each time\n",
    "X_train, X_test = train_test_split(X, random_state=99)\n",
    "\n",
    "print(\"Training dataset shape: \", X_train.shape)\n",
    "print(\"Testing dataset shape: \", X_test.shape)"
   ]
  },
  {
   "cell_type": "code",
   "execution_count": null,
   "metadata": {},
   "outputs": [],
   "source": [
    "y.shape"
   ]
  },
  {
   "cell_type": "markdown",
   "metadata": {
    "nbgrader": {
     "grade": false,
     "grade_id": "cell-fd7b0191f3f1e897",
     "locked": true,
     "schema_version": 1,
     "solution": false
    }
   },
   "source": [
    "## Impurity Measures\n",
    "\n",
    "Impurity is a measure of how often a randomly chosen element from the set would be incorrectly labeled if it was randomly labeled according to the distribution of labels in the subset. Implement the functions `calc_gini` and `calc_entropy`. You are encouraged to test your implementation (10 points)."
   ]
  },
  {
   "cell_type": "code",
   "execution_count": 6,
   "metadata": {},
   "outputs": [],
   "source": [
    "def calc_gini(data):\n",
    "    \"\"\"\n",
    "    Calculate gini impurity measure of a dataset.\n",
    " \n",
    "    Input:\n",
    "    - data: any dataset where the last column holds the labels.\n",
    "    \n",
    " \n",
    "    Returns the gini impurity.    \n",
    "    \"\"\"\n",
    "    gini = 0.0\n",
    "    ###########################################################################\n",
    "    # TODO: Implement the function.                                           #\n",
    "    ###########################################################################\n",
    "    if len(data.shape) == 1:\n",
    "        label = np.array(data)\n",
    "    else:\n",
    "        label = np.array(data[:, -1])\n",
    "    counts = np.array(np.unique(label, return_counts=True)).T\n",
    "    counts = np.square((np.array(counts[:, -1])) / len(label))\n",
    "    gini = np.sum(counts)\n",
    "    ###########################################################################\n",
    "    #                             END OF YOUR CODE                            #\n",
    "    ###########################################################################\n",
    "    return 1 - gini"
   ]
  },
  {
   "cell_type": "code",
   "execution_count": 7,
   "metadata": {},
   "outputs": [],
   "source": [
    "def calc_entropy(data):\n",
    "    \"\"\"\n",
    "    Calculate the entropy of a dataset.\n",
    "\n",
    "    Input:\n",
    "    - data: any dataset where the last column holds the labels.\n",
    "\n",
    "    Returns the entropy of the dataset.    \n",
    "    \"\"\"\n",
    "    entropy = 0.0\n",
    "    ###########################################################################\n",
    "    # TODO: Implement the function.                                           #\n",
    "    ###########################################################################\n",
    "    if len(data.shape) == 1:\n",
    "        label = np.array(data)\n",
    "    else:\n",
    "        label = np.array(data[:, -1])\n",
    "    counts = np.array(np.unique(label, return_counts=True)).T\n",
    "    prob = (np.array(counts[:, -1])) / len(label)\n",
    "    entropy = - np.sum(prob * np.log2(np.array(prob, dtype=float)))\n",
    "    ###########################################################################\n",
    "    #                             END OF YOUR CODE                            #\n",
    "    ###########################################################################\n",
    "    return entropy"
   ]
  },
  {
   "cell_type": "code",
   "execution_count": 8,
   "metadata": {
    "scrolled": true
   },
   "outputs": [
    {
     "data": {
      "text/plain": [
       "(0.4995636322379775, 0.9993703627906085)"
      ]
     },
     "execution_count": 8,
     "metadata": {},
     "output_type": "execute_result"
    }
   ],
   "source": [
    "##### Your Tests Here #####\n",
    "calc_gini(X),calc_entropy(X)"
   ]
  },
  {
   "cell_type": "markdown",
   "metadata": {},
   "source": [
    "## Goodness of Split\n",
    "\n",
    "Given a feature the Goodnees of Split measures the reduction in the impurity if we split the data according to the feature.\n",
    "$$\n",
    "\\Delta\\varphi(S, A) = \\varphi(S) - \\sum_{v\\in Values(A)} \\frac{|S_v|}{|S|}\\varphi(S_v)\n",
    "$$\n",
    "\n",
    "In our implementation the goodness_of_split function will return either the Goodness of Split or the Gain Ratio as learned in class. You'll control the return value with the `gain_ratio` parameter. If this parameter will set to False (the default value) it will return the regular Goodness of Split. If it will set to True it will return the Gain Ratio.\n",
    "$$\n",
    "GainRatio(S,A)=\\frac{InformationGain(S,A)}{SplitInformation(S,A)}\n",
    "$$\n",
    "Where:\n",
    "$$\n",
    "InformationGain(S,A)=Goodness\\ of\\ Split\\ calculated\\ with\\ Entropy\\ as\\ the\\ Impurity\\ function \\\\\n",
    "SplitInformation(S,A)=- \\sum_{a\\in A} \\frac{|S_a|}{|S|}\\log\\frac{|S_a|}{|S|}\n",
    "$$\n",
    "NOTE: you can add more parameters to the function and you can also add more returning variables (The given parameters and the given returning variable should not be touch). (10 Points)"
   ]
  },
  {
   "cell_type": "code",
   "execution_count": 9,
   "metadata": {},
   "outputs": [],
   "source": [
    "def goodness_of_split(data, feature, impurity_func,gain_ratio=False):\n",
    "    \"\"\"\n",
    "    Calculate the goodness of split of a dataset given a feature and impurity function.\n",
    "\n",
    "    Input:\n",
    "    - data: any dataset where the last column holds the labels.\n",
    "    - feature: the feature index.\n",
    "    - impurity func: a function that calculates the impurity.\n",
    "    - gain_ratio: goodness of split or gain ratio flag.\n",
    "\n",
    "    Returns the goodness of split (or the Gain Ration).  \n",
    "    \"\"\"\n",
    "    ###########################################################################\n",
    "    # TODO: Implement the function.                                           #\n",
    "    ###########################################################################\n",
    "    goodness = 0\n",
    "    vals, counts = np.unique(data[:, feature], return_counts=True)\n",
    "    weighted_gain = 0\n",
    "    if gain_ratio:\n",
    "        total_entropy = calc_entropy(data)\n",
    "        for i in range(len(vals)):\n",
    "            weighted_gain += (counts[i] / data.shape[0]) * calc_entropy(data[data[:, feature] == vals[i]])\n",
    "        information_gain = total_entropy - weighted_gain\n",
    "        div = (- np.sum(counts / data.shape[0] * np.log2(counts / data.shape[0])))\n",
    "        if not div:\n",
    "            goodness = 0\n",
    "        else:\n",
    "            goodness = information_gain / div\n",
    "    else:\n",
    "        total_impurity = impurity_func(data)\n",
    "        for i in range(len(vals)):\n",
    "            weighted_gain += (counts[i] / data.shape[0]) * impurity_func(data[data[:, feature] == vals[i]])\n",
    "        goodness = total_impurity - weighted_gain\n",
    "    ###########################################################################\n",
    "    #                             END OF YOUR CODE                            #\n",
    "    ###########################################################################\n",
    "    return goodness    "
   ]
  },
  {
   "cell_type": "markdown",
   "metadata": {},
   "source": [
    "## Building a Decision Tree\n",
    "\n",
    "Use a Python class to construct the decision tree. Your class should support the following functionality:\n",
    "\n",
    "1. Initiating a node for a decision tree. You will need to use several class methods and class attributes and you are free to use them as you see fit. We recommend that every node will hold the feature and value used for the split and its children.\n",
    "2. Your code should support both Gini and Entropy as impurity measures. \n",
    "3. The provided data includes categorical data. In this exercise, when splitting a node create the number of children needed according to the attribute unique values.\n",
    "\n",
    "Complete the class `DecisionNode`. The structure of this class is entirely up to you. \n",
    "\n",
    "Complete the function `build_tree`. This function should get the training dataset and the impurity as inputs, initiate a root for the decision tree and construct the tree according to the procedure you learned in class. (30 points)"
   ]
  },
  {
   "cell_type": "code",
   "execution_count": 10,
   "metadata": {},
   "outputs": [],
   "source": [
    "class DecisionNode:\n",
    "    def __init__(self, data, feature, value, parent=None):\n",
    "        self.feature = feature  # column index of criteria being tested\n",
    "        self.value = value\n",
    "        self.children = []\n",
    "        self.parent = parent\n",
    "        self.count = None\n",
    "        self.data = data\n",
    "        self.depth = 0\n",
    "\n",
    "    def add_child(self, node):\n",
    "        self.children.append(node)\n",
    "\n",
    "    def is_leaf(self):\n",
    "        return len(self.children) == 0\n",
    "\n",
    "    def count_nodes(self):\n",
    "        x = 1\n",
    "        for j in self.children:\n",
    "            x += j.count_nodes()\n",
    "        return x\n",
    "\n",
    "    def calc_major(self, data):\n",
    "        return np.array(np.unique(data, return_counts=True))\n",
    "\n",
    "    @staticmethod\n",
    "    def attribute_to_class(data, impurity_func, gain_ratio=False):\n",
    "        max_gain = -1.0\n",
    "        max_index = 0\n",
    "        for feature in range(data.shape[1] - 1):\n",
    "            curr_goodness = goodness_of_split(data, feature, impurity_func, gain_ratio)\n",
    "            if curr_goodness > max_gain:\n",
    "                max_gain = curr_goodness\n",
    "                max_index = feature\n",
    "        return max_index, max_gain\n",
    "\n",
    "    def add_tree(self, data, impurity, gain_ratio=False, chi=1, root_tree_depth=0, max_depth=1000, parent=None):\n",
    "\n",
    "        if self.depth == max_depth:\n",
    "            return\n",
    "\n",
    "        if not impurity(self.data):\n",
    "            return\n",
    "\n",
    "        if self.data.shape[1] == 1:\n",
    "            return\n",
    "\n",
    "        max_index, max_gain = self.attribute_to_class(self.data, impurity, gain_ratio)\n",
    "        self.feature = max_index\n",
    "        self.parent = parent\n",
    "\n",
    "        if not max_gain:\n",
    "            return\n",
    "\n",
    "        labels = np.unique(data[:, self.feature])\n",
    "        for j in range(labels.shape[0]):\n",
    "            new_child = DecisionNode(data[data[:, self.feature] == labels[j]], -1, -1)\n",
    "            new_child.value = labels[j]\n",
    "            new_child.feature = self.feature\n",
    "            new_child.parent = self\n",
    "            new_child.depth = self.depth + 1\n",
    "            new_child.count = np.array(np.unique(data[data[:, self.feature] == labels[j]][:, -1], return_counts=True))\n",
    "            self.add_child(new_child)\n",
    "            self.children[j].add_tree(data[data[:, self.feature] == labels[j]], impurity, gain_ratio, chi,\n",
    "                                      root_tree_depth, parent=self)"
   ]
  },
  {
   "cell_type": "code",
   "execution_count": 11,
   "metadata": {},
   "outputs": [],
   "source": [
    "def build_tree(data, impurity, gain_ratio=False, chi=1, max_depth=1000, parent=None):\n",
    "    root = DecisionNode(data, -1, -1)\n",
    "    root_tree_depth = 0\n",
    "    root.add_tree(data, impurity, gain_ratio, chi, root_tree_depth, max_depth=1000, parent=None)\n",
    "    ###########################################################################\n",
    "    #                             END OF YOUR CODE                            #\n",
    "    ###########################################################################\n",
    "    return root"
   ]
  },
  {
   "cell_type": "code",
   "execution_count": 12,
   "metadata": {},
   "outputs": [],
   "source": [
    "# python supports passing a function as an argument to another function.\n",
    "tree_gini = build_tree(data=X_train, impurity=calc_gini) # gini and goodness of split\n",
    "tree_entropy = build_tree(data=X_train, impurity=calc_entropy) # entropy and goodness of split\n",
    "tree_entropy_gain_ratio = build_tree(data=X_train, impurity=calc_entropy, gain_ratio=True) # entropy and gain ratio"
   ]
  },
  {
   "cell_type": "markdown",
   "metadata": {},
   "source": [
    "## Tree evaluation\n",
    "\n",
    "Complete the functions `predict` and `calc_accuracy`. (10 points)"
   ]
  },
  {
   "cell_type": "code",
   "execution_count": 13,
   "metadata": {},
   "outputs": [],
   "source": [
    "def predict(node, instance):\n",
    "    \"\"\"\n",
    "    Predict a given instance using the decision tree\n",
    " \n",
    "    Input:\n",
    "    - root: the root of the decision tree.\n",
    "    - instance: an row vector from the dataset. Note that the last element \n",
    "                of this vector is the label of the instance.\n",
    " \n",
    "    Output: the prediction of the instance.\n",
    "    \"\"\"\n",
    "    ###########################################################################\n",
    "    # TODO: Implement the function.                                           #\n",
    "    ###########################################################################\n",
    "    prediction = None\n",
    "    now = node\n",
    "    back = None\n",
    "    while len(now.children) != 0 and back != now:\n",
    "        next_child_to_go = False\n",
    "        for children in now.children:\n",
    "            if children.value == instance[now.feature]:\n",
    "                back = now\n",
    "                now = children\n",
    "                next_child_to_go = True\n",
    "                break\n",
    "        if not next_child_to_go:\n",
    "            break\n",
    "    values, counter = np.unique(now.data[:, -1], return_counts=True)\n",
    "    prediction = values[np.argmax(counter)]\n",
    "    ###########################################################################\n",
    "    #                             END OF YOUR CODE                            #\n",
    "    ###########################################################################\n",
    "    return prediction"
   ]
  },
  {
   "cell_type": "code",
   "execution_count": 14,
   "metadata": {},
   "outputs": [],
   "source": [
    "def calc_accuracy(node, dataset):\n",
    "    \"\"\"\n",
    "    Predict a given dataset using the decision tree\n",
    " \n",
    "    Input:\n",
    "    - node: a node in the decision tree.\n",
    "    - dataset: the dataset on which the accuracy is evaluated\n",
    " \n",
    "    Output: the accuracy of the decision tree on the given dataset (%).\n",
    "    \"\"\"\n",
    "    accuracy = 0\n",
    "    ###########################################################################\n",
    "    # TODO: Implement the function.                                           #\n",
    "    ###########################################################################\n",
    "    goodpredict = 0\n",
    "    for fet in dataset:\n",
    "        curr_predict = predict(node, fet)\n",
    "        if curr_predict == fet[-1]:\n",
    "            goodpredict += 1\n",
    "    accuracy = goodpredict / (dataset.shape[0])\n",
    "    ###########################################################################\n",
    "    #                             END OF YOUR CODE                            #\n",
    "    ###########################################################################\n",
    "    return accuracy "
   ]
  },
  {
   "cell_type": "markdown",
   "metadata": {},
   "source": [
    "After building the three trees using the training set, you should calculate the accuracy on the test set. For each tree print the training and test accuracy. Select the tree that gave you the best test accuracy. For the rest of the exercise, use that tree (when you asked to build another tree use the same impurity function and same gain_ratio flag). "
   ]
  },
  {
   "cell_type": "code",
   "execution_count": 15,
   "metadata": {},
   "outputs": [
    {
     "name": "stdout",
     "output_type": "stream",
     "text": [
      "0.7749876907927129 0.7725258493353028 0.7853274249138356\n"
     ]
    },
    {
     "data": {
      "text/plain": [
       "3231"
      ]
     },
     "execution_count": 15,
     "metadata": {},
     "output_type": "execute_result"
    }
   ],
   "source": [
    "one = calc_accuracy(tree_gini, X_test)\n",
    "two = calc_accuracy(tree_entropy, X_test)\n",
    "three = calc_accuracy(tree_entropy_gain_ratio, X_test)\n",
    "print(one,two,three)\n",
    "#best tree is tree_entropy_gain_ratio"
   ]
  },
  {
   "cell_type": "markdown",
   "metadata": {},
   "source": [
    "## Post pruning\n",
    "\n",
    "Iterate over all nodes in the tree that have at least a single child which is a leaf. For each such node, replace it with its most popular class. Calculate the accuracy on the testing dataset, pick the node that results in the highest testing accuracy and permanently change it in the tree. Repeat this process until you are left with a single node in the tree (the root). Finally, create a plot of the training and testing accuracies as a function of the number of nodes in the tree. (15 points)"
   ]
  },
  {
   "cell_type": "code",
   "execution_count": 16,
   "metadata": {},
   "outputs": [],
   "source": [
    "def post_pruning(root, train_data, test_data):\n",
    "    \n",
    "    acuury = {\n",
    "        'train': [calc_accuracy(root, train_data)],\n",
    "        'test': [calc_accuracy(root, test_data)]\n",
    "    }\n",
    "    curr_data = {\n",
    "        'train': train_data,\n",
    "        'test': test_data\n",
    "    }\n",
    "\n",
    "    nodes_size = [root.count_nodes()]\n",
    "    node = root\n",
    "    while not root.is_leaf():\n",
    "        curr_leaves = {}\n",
    "        prune_leaves(root, node, curr_data, curr_leaves)\n",
    "        best = max(curr_leaves.keys(), key=lambda l: curr_leaves[l])\n",
    "\n",
    "        best.children = []\n",
    "        nodes_size.append(root.count_nodes())\n",
    "        acuury['test'].append(curr_leaves[best])\n",
    "        acuury['train'].append(calc_accuracy(root, curr_data['train']))\n",
    "    return acuury, nodes_size\n",
    "\n",
    "\n",
    "def prune_leaves(root, node, curr_data, curr_leaves):\n",
    "    if node.is_leaf():\n",
    "        children = np.copy(node.parent.children)\n",
    "        if node.parent is not None:\n",
    "            node.parent.children = []\n",
    "        curr_leaves[node.parent] = calc_accuracy(root, curr_data['test'])\n",
    "        node.parent.children = children\n",
    "        return\n",
    "\n",
    "    for child in node.children:\n",
    "        prune_leaves(root, child, curr_data, curr_leaves)\n",
    "        \n",
    "# a , b = post_pruning(tree_gini, X_train, X_test) \n",
    "# c , d = post_pruning(tree_entropy, X_train, X_test)\n",
    "e , f = post_pruning(tree_entropy_gain_ratio, X_train, X_test)"
   ]
  },
  {
   "cell_type": "code",
   "execution_count": 21,
   "metadata": {
    "scrolled": true
   },
   "outputs": [
    {
     "name": "stdout",
     "output_type": "stream",
     "text": [
      "{'train': [0.9963892991957984, 0.9939274577383883, 0.9903167569341867, 0.9894961431150501, 0.987526669949122, 0.9868701788938126, 0.9852289512555391, 0.9821106187428196, 0.9747250943705892, 0.9719350073855244, 0.9438700147710487, 0.9414081733136386, 0.9386180863285738, 0.9356638765796816, 0.9348432627605449, 0.9336944034137535, 0.9320531757754801, 0.9304119481372066, 0.9299195798457246, 0.9292630887904152, 0.9282783522074511, 0.9281142294436239, 0.9264730018053504, 0.9236829148202855, 0.9172821270310192, 0.9115378302970623, 0.9110454620055801, 0.9102248481864434, 0.9094042343673068, 0.9087477433119974, 0.90858362054817, 0.9074347612013787, 0.9067782701460693, 0.9064500246184146, 0.9062859018545872, 0.9061217790907599, 0.9059576563269326, 0.9057935335631052, 0.9038240603971771, 0.9020187099950763, 0.901854587231249, 0.9016904644674216, 0.9011980961759396, 0.900869850648285, 0.9007057278844576, 0.9005416051206302, 0.9003774823568029, 0.9003774823568029, 0.9002133595929755, 0.9002133595929755, 0.9002133595929755, 0.9000492368291482, 0.8998851140653209, 0.8998851140653209, 0.8995568685376661, 0.8992286230100115, 0.8989003774823568, 0.8987362547185295, 0.8985721319547021, 0.8985721319547021, 0.8980797636632201, 0.8980797636632201, 0.8974232726079108, 0.8972591498440834, 0.897095027080256, 0.8964385360249466, 0.8956179222058099, 0.8954537994419826, 0.8952896766781553, 0.8951255539143279, 0.8951255539143279, 0.8885606433612342, 0.5176431971114394], 'test': [0.7853274249138356, 0.7902511078286558, 0.794190054160512, 0.7976366322008862, 0.8005908419497785, 0.8030526834071886, 0.8055145248645987, 0.8079763663220089, 0.8143771541112752, 0.8183161004431314, 0.8355489906450024, 0.8380108321024126, 0.8404726735598228, 0.844903988183161, 0.8468734613490891, 0.8498276710979813, 0.8517971442639094, 0.8542589857213195, 0.8557360905957656, 0.8572131954702117, 0.8596750369276218, 0.8611521418020679, 0.8626292466765141, 0.8655834564254062, 0.8685376661742984, 0.8744460856720827, 0.8759231905465288, 0.8778926637124569, 0.8788774002954209, 0.879862136878385, 0.880846873461349, 0.8818316100443131, 0.8828163466272771, 0.8833087149187593, 0.8838010832102413, 0.8842934515017233, 0.8847858197932054, 0.8852781880846874, 0.8857705563761694, 0.8862629246676514, 0.8867552929591335, 0.8872476612506155, 0.8877400295420975, 0.8882323978335795, 0.8887247661250616, 0.8887247661250616, 0.8887247661250616, 0.8887247661250616, 0.8887247661250616, 0.8887247661250616, 0.8887247661250616, 0.8887247661250616, 0.8887247661250616, 0.8887247661250616, 0.8887247661250616, 0.8887247661250616, 0.8887247661250616, 0.8887247661250616, 0.8887247661250616, 0.8887247661250616, 0.8887247661250616, 0.8887247661250616, 0.8887247661250616, 0.8887247661250616, 0.8887247661250616, 0.8887247661250616, 0.8887247661250616, 0.8882323978335795, 0.8877400295420975, 0.8872476612506155, 0.8872476612506155, 0.8852781880846874, 0.5061546036435254]} [3251, 3183, 3033, 3007, 2944, 2925, 2868, 2767, 2511, 2420, 1746, 1673, 1586, 1471, 1425, 1384, 1320, 1254, 1231, 1210, 1186, 1182, 1135, 1043, 864, 666, 649, 615, 597, 574, 570, 547, 512, 503, 498, 493, 484, 469, 417, 359, 357, 353, 338, 332, 325, 315, 302, 300, 296, 294, 292, 288, 280, 276, 257, 242, 226, 207, 202, 200, 189, 185, 159, 145, 129, 88, 44, 42, 26, 21, 18, 10, 1]\n"
     ]
    },
    {
     "data": {
      "image/png": "[encoded data removed]",
      "text/plain": [
       "<Figure size 720x576 with 1 Axes>"
      ]
     },
     "metadata": {
      "needs_background": "light"
     },
     "output_type": "display_data"
    }
   ],
   "source": [
    "# print(a,b)\n",
    "# print(c,d)\n",
    "print(e,f)\n",
    "# arr_a_train = np.array(a['train'][:-1])\n",
    "# arr_a_test = np.array(a['test'][:-1])\n",
    "# arr_b = np.array(b[1:])\n",
    "# plt.plot(arr_b,arr_a_train, label=\"train\")\n",
    "# plt.plot(arr_b,arr_a_test, label=\"test\")\n",
    "# plt.xlabel('number of nodes')\n",
    "# plt.ylabel('Accuracy %')\n",
    "# plt.title('Accuracy as a function of the number of nodes in the tree=tree_gini')\n",
    "# plt.legend()\n",
    "# plt.show()\n",
    "# arr_c_train = np.array(c['train'][:-1])\n",
    "# arr_c_test = np.array(c['test'][:-1])\n",
    "# arr_d = np.array(d[1:])\n",
    "# plt.plot(arr_d,arr_c_train, label=\"train\")\n",
    "# plt.plot(arr_d,arr_c_test, label=\"test\")\n",
    "# plt.xlabel('number of nodes')\n",
    "# plt.ylabel('Accuracy %')\n",
    "# plt.title('Accuracy as a function of the number of nodes in the tree=tree_entropy')\n",
    "# plt.legend()\n",
    "# plt.show()\n",
    "arr_e_train = np.array(e['train'][:-1])\n",
    "arr_e_test = np.array(e['test'][:-1])\n",
    "arr_f = np.array(f[1:])\n",
    "plt.plot(arr_f,arr_e_train, label=\"train\")\n",
    "plt.plot(arr_f,arr_e_test, label=\"test\")\n",
    "plt.xlabel('number of nodes')\n",
    "plt.ylabel('Accuracy %')\n",
    "plt.title('Accuracy as a function of the number of nodes in the tree')\n",
    "plt.legend()\n",
    "plt.show()"
   ]
  },
  {
   "cell_type": "markdown",
   "metadata": {},
   "source": [
    "## Chi square pre-pruning\n",
    "\n",
    "Consider the following p-value cut-off values: [1 (no pruning), 0.5, 0.25, 0.1, 0.05, 0.0001 (max pruning)]. For each value, construct a tree and prune it according to the cut-off value. Next, calculate the training and testing accuracy. On a single plot, draw the training and testing accuracy as a function of the tuple (p-value, tree depth). Mark the best result on the graph with red circle. (15 points)"
   ]
  },
  {
   "cell_type": "code",
   "execution_count": null,
   "metadata": {},
   "outputs": [],
   "source": [
    "### Chi square table values ###\n",
    "# The first key is the degree of freedom \n",
    "# The second key is the p-value cut-off\n",
    "# The values are the chi-statistic that you need to use in the pruning\n",
    "chi_table = {1: {0.5 : 0.45,\n",
    "                 0.25 : 1.32,\n",
    "                 0.1 : 2.71,\n",
    "                 0.05 : 3.84,\n",
    "                 0.0001 : 100000},\n",
    "             2: {0.5 : 1.39,\n",
    "                 0.25 : 2.77,\n",
    "                 0.1 : 4.60,\n",
    "                 0.05 : 5.99,\n",
    "                 0.0001 : 100000},\n",
    "             3: {0.5 : 2.37,\n",
    "                 0.25 : 4.11,\n",
    "                 0.1 : 6.25,\n",
    "                 0.05 : 7.82,\n",
    "                 0.0001 : 100000},\n",
    "             4: {0.5 : 3.36,\n",
    "                 0.25 : 5.38,\n",
    "                 0.1 : 7.78,\n",
    "                 0.05 : 9.49,\n",
    "                 0.0001 : 100000},\n",
    "             5: {0.5 : 4.35,\n",
    "                 0.25 : 6.63,\n",
    "                 0.1 : 9.24,\n",
    "                 0.05 : 11.07,\n",
    "                 0.0001 : 100000},\n",
    "             6: {0.5 : 5.35,\n",
    "                 0.25 : 7.84,\n",
    "                 0.1 : 10.64,\n",
    "                 0.05 : 12.59,\n",
    "                 0.0001 : 100000},\n",
    "             7: {0.5 : 6.35,\n",
    "                 0.25 : 9.04,\n",
    "                 0.1 : 12.01,\n",
    "                 0.05 : 14.07,\n",
    "                 0.0001 : 100000},\n",
    "             8: {0.5 : 7.34,\n",
    "                 0.25 : 10.22,\n",
    "                 0.1 : 13.36,\n",
    "                 0.05 : 15.51,\n",
    "                 0.0001 : 100000},\n",
    "             9: {0.5 : 8.34,\n",
    "                 0.25 : 11.39,\n",
    "                 0.1 : 14.68,\n",
    "                 0.05 : 16.92,\n",
    "                 0.0001 : 100000},\n",
    "             10: {0.5 : 9.34,\n",
    "                  0.25 : 12.55,\n",
    "                  0.1 : 15.99,\n",
    "                  0.05 : 18.31,\n",
    "                  0.0001 : 100000},\n",
    "             11: {0.5 : 10.34,\n",
    "                  0.25 : 13.7,\n",
    "                  0.1 : 17.27,\n",
    "                  0.05 : 19.68,\n",
    "                  0.0001 : 100000}}"
   ]
  },
  {
   "cell_type": "code",
   "execution_count": null,
   "metadata": {},
   "outputs": [],
   "source": [
    "#### Your code here ####"
   ]
  },
  {
   "cell_type": "markdown",
   "metadata": {},
   "source": [
    "Build the best 2 trees:\n",
    "1. tree_post_pruning - the best tree according to post pruning\n",
    "1. tree_chi - the best tree according to chi square pruning"
   ]
  },
  {
   "cell_type": "code",
   "execution_count": null,
   "metadata": {},
   "outputs": [],
   "source": [
    "#### Your code here ####"
   ]
  },
  {
   "cell_type": "markdown",
   "metadata": {},
   "source": [
    "## Number of Nodes\n",
    "\n",
    "Of the two trees above we will choose the one with fewer nodes. Complete the function counts_nodes and print the number of nodes in each tree. (5 points) "
   ]
  },
  {
   "cell_type": "code",
   "execution_count": 19,
   "metadata": {},
   "outputs": [],
   "source": [
    "def count_nodes(node):\n",
    "    \"\"\"\n",
    "    Count the number of node in a given tree\n",
    " \n",
    "    Input:\n",
    "    - node: a node in the decision tree.\n",
    " \n",
    "    Output: the number of node in the tree.\n",
    "    \"\"\"\n",
    "    ###########################################################################\n",
    "    # TODO: Implement the function.                                           #\n",
    "    ###########################################################################  \n",
    "    return node.count_nodes()\n",
    "    ###########################################################################\n",
    "    #                             END OF YOUR CODE                            #\n",
    "    ###########################################################################"
   ]
  },
  {
   "cell_type": "markdown",
   "metadata": {},
   "source": [
    "## Print the tree\n",
    "\n",
    "Complete the function `print_tree` and execute it on your chosen tree. Your tree should be visualized clearly. You can use the following example as a reference:\n",
    "```\n",
    "[ROOT, feature=X0],\n",
    "  [X0=a, feature=X2]\n",
    "    [X2=c, leaf]: [{1.0: 10}]\n",
    "    [X2=d, leaf]: [{0.0: 10}]\n",
    "  [X0=y, feature=X5], \n",
    "    [X5=a, leaf]: [{1.0: 5}]\n",
    "    [X5=s, leaf]: [{0.0: 10}]\n",
    "  [X0=e, leaf]: [{0.0: 25, 1.0: 50}]\n",
    "```\n",
    "In each brackets:\n",
    "* The first argument is the parent feature with the value that led to current node\n",
    "* The second argument is the selected feature of the current node\n",
    "* If the current node is a leaf, you need to print also the labels and their counts\n",
    "\n",
    "(5 points)"
   ]
  },
  {
   "cell_type": "code",
   "execution_count": 18,
   "metadata": {},
   "outputs": [],
   "source": [
    "# you can change the function signeture\n",
    "def print_tree(node,labels, depth=0, parent_feature='ROOT'):\n",
    "    '''\n",
    "    prints the tree according to the example above\n",
    "\n",
    "    Input:\n",
    "    - node: a node in the decision tree\n",
    "\n",
    "    This function has no return value\n",
    "    '''\n",
    "    ###########################################################################\n",
    "    # TODO: Implement the function.                                           #\n",
    "    ###########################################################################\n",
    "    num_of_spaces = depth * \"  \"\n",
    "    if node.value == -1:\n",
    "        print(f\"[ROOT, feature={node.feature}],\")\n",
    "    elif node.is_leaf():\n",
    "        first = np.count_nonzero(node.data[:, -1] == labels[0])\n",
    "        second = np.count_nonzero(node.data[:, -1] == labels[1])\n",
    "        to_str1 = f\"{labels[0]}: {first}\" if first != 0 else \"\"\n",
    "        to_str2 = f\"{labels[1]}: {second}\" if second != 0 else \"\"\n",
    "        final = \"\" if (first == 0 or second == 0) else \", \"\n",
    "        print(num_of_spaces, f\"[X{parent_feature}={node.value}, leaf]: [{to_str1}{final}{to_str2}]\")\n",
    "    else:\n",
    "        print(num_of_spaces, f\"[X{parent_feature}={node.value}, feature=X{node.feature}],\")\n",
    "    for child in node.children:\n",
    "        print_tree(child, labels, depth=depth + 1, parent_feature=node.feature)\n",
    "    ###########################################################################\n",
    "    #                             END OF YOUR CODE                            #\n",
    "    ###########################################################################"
   ]
  },
  {
   "cell_type": "code",
   "execution_count": null,
   "metadata": {},
   "outputs": [],
   "source": [
    "print_tree(tree_gini,('p', 'e'))"
   ]
  }
 ],
 "metadata": {
  "celltoolbar": "Create Assignment",
  "kernelspec": {
   "display_name": "Python 3",
   "language": "python",
   "name": "python3"
  },
  "language_info": {
   "codemirror_mode": {
    "name": "ipython",
    "version": 3
   },
   "file_extension": ".py",
   "mimetype": "text/x-python",
   "name": "python",
   "nbconvert_exporter": "python",
   "pygments_lexer": "ipython3",
   "version": "3.9.4"
  }
 },
 "nbformat": 4,
 "nbformat_minor": 2
}
