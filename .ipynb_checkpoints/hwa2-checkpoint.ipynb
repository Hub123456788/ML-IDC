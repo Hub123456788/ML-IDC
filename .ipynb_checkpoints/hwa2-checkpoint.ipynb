{
 "cells": [
  {
   "cell_type": "markdown",
   "metadata": {
    "nbgrader": {
     "grade": false,
     "grade_id": "cell-6bd0516e7cb654f5",
     "locked": true,
     "schema_version": 1,
     "solution": false
    }
   },
   "source": [
    "# Exercise 2: Decision Trees\n",
    "\n",
    "In this assignment you will implement a Decision Tree algorithm as learned in class.\n",
    "\n",
    "## Read the following instructions carefully:\n",
    "\n",
    "1. This jupyter notebook contains all the step by step instructions needed for this exercise.\n",
    "1. Submission includes this notebook only with the exercise number and your ID as the filename. For example: `hw2_123456789_987654321.ipynb` if you submitted in pairs and `hw2_123456789.ipynb` if you submitted the exercise alone.\n",
    "1. Write **efficient vectorized** code whenever possible. Some calculations in this exercise take several minutes when implemented efficiently, and might take much longer otherwise. Unnecessary loops will result in point deduction.\n",
    "1. You are responsible for the correctness of your code and should add as many tests as you see fit. Tests will not be graded nor checked.\n",
    "1. Write your functions in this notebook only. **Do not create Python modules and import them**.\n",
    "1. You are allowed to use functions and methods from the [Python Standard Library](https://docs.python.org/3/library/) and [numpy](https://www.numpy.org/devdocs/reference/) only. **Do not import anything else.**\n",
    "1. Your code must run without errors. Make sure your `numpy` version is at least 1.15.4 and that you are using at least python 3.6. Changes of the configuration we provided are at your own risk. Any code that cannot run will not be graded.\n",
    "1. Write your own code. Cheating will not be tolerated.\n",
    "1. Answers to qualitative questions should be written in **markdown** cells (with $\\LaTeX$ support). Answers that will be written in commented code blocks will not be checked.\n",
    "\n",
    "## In this exercise you will perform the following:\n",
    "1. Practice OOP in python.\n",
    "2. Implement two impurity measures: Gini and Entropy.\n",
    "3. Construct a decision tree algorithm.\n",
    "4. Prune the tree to achieve better results.\n",
    "5. Visualize your results."
   ]
  },
  {
   "cell_type": "markdown",
   "metadata": {},
   "source": [
    "# I have read and understood the instructions: *** ,206328734 ***"
   ]
  },
  {
   "cell_type": "code",
   "execution_count": 1,
   "metadata": {
    "nbgrader": {
     "grade": false,
     "grade_id": "cell-ed9fe7b1026e33cb",
     "locked": true,
     "schema_version": 1,
     "solution": false
    }
   },
   "outputs": [],
   "source": [
    "import numpy as np\n",
    "import pandas as pd\n",
    "import matplotlib.pyplot as plt\n",
    "\n",
    "# make matplotlib figures appear inline in the notebook\n",
    "%matplotlib inline\n",
    "plt.rcParams['figure.figsize'] = (10.0, 8.0) # set default size of plots\n",
    "plt.rcParams['image.interpolation'] = 'nearest'\n",
    "plt.rcParams['image.cmap'] = 'gray'\n",
    "\n",
    "# Ignore warnings\n",
    "import warnings\n",
    "warnings.filterwarnings('ignore')"
   ]
  },
  {
   "cell_type": "markdown",
   "metadata": {
    "nbgrader": {
     "grade": false,
     "grade_id": "cell-c6ac605270c2b091",
     "locked": true,
     "schema_version": 1,
     "solution": false
    }
   },
   "source": [
    "## Warmup - OOP in python\n",
    "\n",
    "Our desicion tree will be implemented using a dedicated python class. Python classes are very similar to classes in Java.\n",
    "\n",
    "\n",
    "You can use the following [site](https://jeffknupp.com/blog/2014/06/18/improve-your-python-python-classes-and-object-oriented-programming/) to learn about classes in python."
   ]
  },
  {
   "cell_type": "code",
   "execution_count": 2,
   "metadata": {},
   "outputs": [],
   "source": [
    "class Node(object):\n",
    "    def __init__(self, data):\n",
    "        self.data = data\n",
    "        self.children = []\n",
    "\n",
    "    def add_child(self, node):\n",
    "        self.children.append(node)"
   ]
  },
  {
   "cell_type": "code",
   "execution_count": 3,
   "metadata": {},
   "outputs": [
    {
     "data": {
      "text/plain": [
       "[<__main__.Node at 0x2a44376ed60>, <__main__.Node at 0x2a44376e190>]"
      ]
     },
     "execution_count": 3,
     "metadata": {},
     "output_type": "execute_result"
    }
   ],
   "source": [
    "n = Node(5)\n",
    "p = Node(6)\n",
    "q = Node(7)\n",
    "n.add_child(p)\n",
    "n.add_child(q)\n",
    "n.children"
   ]
  },
  {
   "cell_type": "markdown",
   "metadata": {
    "nbgrader": {
     "grade": false,
     "grade_id": "cell-2f1ceb251c649b62",
     "locked": true,
     "schema_version": 1,
     "solution": false
    }
   },
   "source": [
    "## Data preprocessing\n",
    "\n",
    "For the following exercise, we will use a dataset containing mushroom data `agaricus-lepiota.csv`. \n",
    "\n",
    "This data set includes descriptions of hypothetical samples corresponding to 23 species of gilled mushrooms in the Agaricus and Lepiota Family. Each species is identified as definitely edible, definitely poisonous, or of unknown edibility and not recommended. This latter class was combined with the poisonous\n",
    "one (=there are only two classes **edible** and **poisonous**). \n",
    "    \n",
    "The dataset contains 8124 observations with 22 features:\n",
    "1. cap-shape: bell=b,conical=c,convex=x,flat=f,knobbed=k,sunken=s\n",
    "2. cap-surface: fibrous=f,grooves=g,scaly=y,smooth=s\n",
    "3. cap-color: brown=n,buff=b,cinnamon=c,gray=g,green=r,pink=p,purple=u,red=e,white=w,yellow=y\n",
    "4. bruises: bruises=t,no=f\n",
    "5. odor: almond=a,anise=l,creosote=c,fishy=y,foul=f, musty=m,none=n,pungent=p,spicy=s\n",
    "6. gill-attachment: attached=a,descending=d,free=f,notched=n\n",
    "7. gill-spacing: close=c,crowded=w,distant=d\n",
    "8. gill-size: broad=b,narrow=n\n",
    "9. gill-color: black=k,brown=n,buff=b,chocolate=h,gray=g,green=r,orange=o,pink=p,purple=u,red=e,white=w,yellow=y\n",
    "10. stalk-shape: enlarging=e,tapering=t\n",
    "11. stalk-root: bulbous=b,club=c,cup=u,equal=e,rhizomorphs=z,rooted=r\n",
    "12. stalk-surface-above-ring: fibrous=f,scaly=y,silky=k,smooth=s\n",
    "13. stalk-surface-below-ring: fibrous=f,scaly=y,silky=k,smooth=s\n",
    "14. stalk-color-above-ring: brown=n,buff=b,cinnamon=c,gray=g,orange=o,pink=p,red=e,white=w,yellow=y\n",
    "15. stalk-color-below-ring: brown=n,buff=b,cinnamon=c,gray=g,orange=o,pink=p,red=e,white=w,yellow=y\n",
    "16. veil-type: partial=p,universal=u\n",
    "17. veil-color: brown=n,orange=o,white=w,yellow=y\n",
    "18. ring-number: none=n,one=o,two=t\n",
    "19. ring-type: cobwebby=c,evanescent=e,flaring=f,large=l,none=n,pendant=p,sheathing=s,zone=z\n",
    "20. spore-print-color: black=k,brown=n,buff=b,chocolate=h,green=r,orange=o,purple=u,white=w,yellow=y\n",
    "21. population: abundant=a,clustered=c,numerous=n,scattered=s,several=v,solitary=y\n",
    "22. habitat: grasses=g,leaves=l,meadows=m,paths=p,urban=u,waste=w,woods=d\n",
    "\n",
    "First, we will read and explore the data using pandas and the `.read_csv` method. Pandas is an open source library providing high-performance, easy-to-use data structures and data analysis tools for the Python programming language."
   ]
  },
  {
   "cell_type": "code",
   "execution_count": 4,
   "metadata": {
    "nbgrader": {
     "grade": false,
     "grade_id": "cell-d79cb4542926ad3f",
     "locked": true,
     "schema_version": 1,
     "solution": false
    }
   },
   "outputs": [],
   "source": [
    "# load dataset\n",
    "data = pd.read_csv('agaricus-lepiota.csv')"
   ]
  },
  {
   "cell_type": "markdown",
   "metadata": {},
   "source": [
    "One of the advantages of the Decision Tree algorithm is that almost no preprocessing is required. However, finding missing values is always required."
   ]
  },
  {
   "cell_type": "code",
   "execution_count": 5,
   "metadata": {},
   "outputs": [],
   "source": [
    "#############################################################################\n",
    "# TODO: Find the columns with missing values and remove them from the data.#\n",
    "#############################################################################\n",
    "missing_values = [\"n/a\", \"na\", \"--\"]\n",
    "data = pd.read_csv('agaricus-lepiota.csv',na_values = missing_values)\n",
    "#############################################################################\n",
    "#                             END OF YOUR CODE                              #\n",
    "#############################################################################"
   ]
  },
  {
   "cell_type": "markdown",
   "metadata": {},
   "source": [
    "We will split the dataset to `Training` and `Testing` datasets."
   ]
  },
  {
   "cell_type": "code",
   "execution_count": 6,
   "metadata": {},
   "outputs": [
    {
     "name": "stdout",
     "output_type": "stream",
     "text": [
      "Training dataset shape:  (6093, 22)\n",
      "Testing dataset shape:  (2031, 22)\n"
     ]
    }
   ],
   "source": [
    "from sklearn.model_selection import train_test_split\n",
    "# Making sure the last column will hold the labels\n",
    "X, y = data.drop('class', axis=1), data['class']\n",
    "X = np.column_stack([X,y])\n",
    "# split dataset using random_state to get the same split each time\n",
    "X_train, X_test = train_test_split(X, random_state=99)\n",
    "\n",
    "print(\"Training dataset shape: \", X_train.shape)\n",
    "print(\"Testing dataset shape: \", X_test.shape)"
   ]
  },
  {
   "cell_type": "code",
   "execution_count": 7,
   "metadata": {},
   "outputs": [
    {
     "data": {
      "text/plain": [
       "(8124,)"
      ]
     },
     "execution_count": 7,
     "metadata": {},
     "output_type": "execute_result"
    }
   ],
   "source": [
    "y.shape"
   ]
  },
  {
   "cell_type": "markdown",
   "metadata": {
    "nbgrader": {
     "grade": false,
     "grade_id": "cell-fd7b0191f3f1e897",
     "locked": true,
     "schema_version": 1,
     "solution": false
    }
   },
   "source": [
    "## Impurity Measures\n",
    "\n",
    "Impurity is a measure of how often a randomly chosen element from the set would be incorrectly labeled if it was randomly labeled according to the distribution of labels in the subset. Implement the functions `calc_gini` and `calc_entropy`. You are encouraged to test your implementation (10 points)."
   ]
  },
  {
   "cell_type": "code",
   "execution_count": 8,
   "metadata": {},
   "outputs": [],
   "source": [
    "def calc_gini(data):\n",
    "    \"\"\"\n",
    "    Calculate gini impurity measure of a dataset.\n",
    " \n",
    "    Input:\n",
    "    - data: any dataset where the last column holds the labels.\n",
    "    \n",
    " \n",
    "    Returns the gini impurity.    \n",
    "    \"\"\"\n",
    "    gini = 0.0\n",
    "    ###########################################################################\n",
    "    # TODO: Implement the function.                                           #\n",
    "    ###########################################################################\n",
    "    if len(data.shape) == 1:\n",
    "        label = np.array(data)\n",
    "    else:\n",
    "        label = np.array(data[:, -1])\n",
    "    counts = np.array(np.unique(label, return_counts=True)).T\n",
    "    counts = np.square((np.array(counts[:, -1])) / len(label))\n",
    "    gini = np.sum(counts)\n",
    "    ###########################################################################\n",
    "    #                             END OF YOUR CODE                            #\n",
    "    ###########################################################################\n",
    "    return 1 - gini"
   ]
  },
  {
   "cell_type": "code",
   "execution_count": 9,
   "metadata": {},
   "outputs": [],
   "source": [
    "def calc_entropy(data):\n",
    "    \"\"\"\n",
    "    Calculate the entropy of a dataset.\n",
    "\n",
    "    Input:\n",
    "    - data: any dataset where the last column holds the labels.\n",
    "\n",
    "    Returns the entropy of the dataset.    \n",
    "    \"\"\"\n",
    "    entropy = 0.0\n",
    "    ###########################################################################\n",
    "    # TODO: Implement the function.                                           #\n",
    "    ###########################################################################\n",
    "    if len(data.shape) == 1:\n",
    "        label = np.array(data)\n",
    "    else:\n",
    "        label = np.array(data[:, -1])\n",
    "    counts = np.array(np.unique(label, return_counts=True)).T\n",
    "    prob = (np.array(counts[:, -1])) / len(label)\n",
    "    entropy = - np.sum(prob * np.log2(np.array(prob, dtype=float)))\n",
    "    ###########################################################################\n",
    "    #                             END OF YOUR CODE                            #\n",
    "    ###########################################################################\n",
    "    return entropy"
   ]
  },
  {
   "cell_type": "code",
   "execution_count": 10,
   "metadata": {
    "scrolled": true
   },
   "outputs": [
    {
     "data": {
      "text/plain": [
       "(0.4995636322379775, 0.9993703627906085)"
      ]
     },
     "execution_count": 10,
     "metadata": {},
     "output_type": "execute_result"
    }
   ],
   "source": [
    "##### Your Tests Here #####\n",
    "calc_gini(X),calc_entropy(X)"
   ]
  },
  {
   "cell_type": "markdown",
   "metadata": {},
   "source": [
    "## Goodness of Split\n",
    "\n",
    "Given a feature the Goodnees of Split measures the reduction in the impurity if we split the data according to the feature.\n",
    "$$\n",
    "\\Delta\\varphi(S, A) = \\varphi(S) - \\sum_{v\\in Values(A)} \\frac{|S_v|}{|S|}\\varphi(S_v)\n",
    "$$\n",
    "\n",
    "In our implementation the goodness_of_split function will return either the Goodness of Split or the Gain Ratio as learned in class. You'll control the return value with the `gain_ratio` parameter. If this parameter will set to False (the default value) it will return the regular Goodness of Split. If it will set to True it will return the Gain Ratio.\n",
    "$$\n",
    "GainRatio(S,A)=\\frac{InformationGain(S,A)}{SplitInformation(S,A)}\n",
    "$$\n",
    "Where:\n",
    "$$\n",
    "InformationGain(S,A)=Goodness\\ of\\ Split\\ calculated\\ with\\ Entropy\\ as\\ the\\ Impurity\\ function \\\\\n",
    "SplitInformation(S,A)=- \\sum_{a\\in A} \\frac{|S_a|}{|S|}\\log\\frac{|S_a|}{|S|}\n",
    "$$\n",
    "NOTE: you can add more parameters to the function and you can also add more returning variables (The given parameters and the given returning variable should not be touch). (10 Points)"
   ]
  },
  {
   "cell_type": "code",
   "execution_count": 11,
   "metadata": {},
   "outputs": [
    {
     "name": "stdout",
     "output_type": "stream",
     "text": [
      "0.0084698431135091\n"
     ]
    }
   ],
   "source": [
    "def goodness_of_split(data, feature, impurity_func,gain_ratio=False):\n",
    "    \"\"\"\n",
    "    Calculate the goodness of split of a dataset given a feature and impurity function.\n",
    "\n",
    "    Input:\n",
    "    - data: any dataset where the last column holds the labels.\n",
    "    - feature: the feature index.\n",
    "    - impurity func: a function that calculates the impurity.\n",
    "    - gain_ratio: goodness of split or gain ratio flag.\n",
    "\n",
    "    Returns the goodness of split (or the Gain Ration).  \n",
    "    \"\"\"\n",
    "    ###########################################################################\n",
    "    # TODO: Implement the function.                                           #\n",
    "    ###########################################################################\n",
    "    goodness = 0\n",
    "    vals, counts = np.unique(data[:, feature], return_counts=True)\n",
    "    weighted_gain = 0\n",
    "    if gain_ratio:\n",
    "        total_entropy = calc_entropy(data)\n",
    "        for i in range(len(vals)):\n",
    "            weighted_gain += (counts[i] / data.shape[0]) * calc_entropy(data[data[:, feature] == vals[i]])\n",
    "        information_gain = total_entropy - weighted_gain\n",
    "        goodness = information_gain / (- np.sum(counts/data.shape[0] * np.log2(counts/data.shape[0])))\n",
    "    else:\n",
    "        total_impurity = impurity_func(data)\n",
    "        for i in range(len(vals)):\n",
    "            weighted_gain += (counts[i] / data.shape[0]) * impurity_func(data[data[:, feature] == vals[i]])\n",
    "        goodness = total_impurity - weighted_gain\n",
    "    ###########################################################################\n",
    "    #                             END OF YOUR CODE                            #\n",
    "    ###########################################################################\n",
    "    return goodness    \n",
    "\n",
    "print(goodness_of_split(X, 2, calc_entropy, True))"
   ]
  },
  {
   "cell_type": "markdown",
   "metadata": {},
   "source": [
    "## Building a Decision Tree\n",
    "\n",
    "Use a Python class to construct the decision tree. Your class should support the following functionality:\n",
    "\n",
    "1. Initiating a node for a decision tree. You will need to use several class methods and class attributes and you are free to use them as you see fit. We recommend that every node will hold the feature and value used for the split and its children.\n",
    "2. Your code should support both Gini and Entropy as impurity measures. \n",
    "3. The provided data includes categorical data. In this exercise, when splitting a node create the number of children needed according to the attribute unique values.\n",
    "\n",
    "Complete the class `DecisionNode`. The structure of this class is entirely up to you. \n",
    "\n",
    "Complete the function `build_tree`. This function should get the training dataset and the impurity as inputs, initiate a root for the decision tree and construct the tree according to the procedure you learned in class. (30 points)"
   ]
  },
  {
   "cell_type": "code",
   "execution_count": 45,
   "metadata": {},
   "outputs": [],
   "source": [
    "class DecisionNode:\n",
    "    \"\"\"\n",
    "    This class will hold everything you require to construct a decision tree.\n",
    "    The structure of this class is up to you. However, you need to support basic \n",
    "    functionality as described above. It is highly recommended that you \n",
    "    first read and understand the entire exercise before diving into this class.\n",
    "    \"\"\"\n",
    "    def __init__(self, feature, value, parent=None,rows=None):\n",
    "        self.feature = feature  # column index of criteria being tested\n",
    "        self.value = value\n",
    "        self.children = []\n",
    "        self.parent = parent\n",
    "        self.count = None\n",
    "        self.rows = None\n",
    "\n",
    "    def add_child(self, node):\n",
    "        self.children.append(node)\n",
    "\n",
    "    def is_leaf(self):\n",
    "        return len(self.children) == 0\n",
    "\n",
    "    def calc_major(self,data):\n",
    "        return np.array(np.unique(data, return_counts=True))\n",
    "    \n",
    "    def only_child(self,ls):\n",
    "        if self.is_leaf():\n",
    "            ls.append(self.parent)\n",
    "        for child in self.children:\n",
    "            child.only_child(ls)\n",
    "        return ls\n",
    "        \n",
    "\n",
    "    def add_tree(self, data, impurity, gain_ratio=False, chi=1, max_depth=1000, parent=None):\n",
    "        if max_depth == 0:\n",
    "            return\n",
    "\n",
    "        max_index = 0\n",
    "        max_gain = 0\n",
    "\n",
    "        if not impurity(data):\n",
    "            return\n",
    "\n",
    "        for i in range(data.shape[1] - 1):\n",
    "            temp = goodness_of_split(data, i, impurity, gain_ratio)\n",
    "            if temp > max_gain:\n",
    "                max_gain = temp\n",
    "                max_index = i\n",
    "\n",
    "        self.feature = max_index\n",
    "        self.parent = parent\n",
    "        self.rows = data.shape[0]\n",
    "\n",
    "        labels = np.unique(data[:, self.feature])\n",
    "        for j in range(labels.shape[0]):\n",
    "            new_child = DecisionNode(-1, -1,-1)\n",
    "            new_child.value = labels[j]\n",
    "            new_child.feature = self.feature\n",
    "            new_child.parent = self\n",
    "            self.rows = data.shape[0]\n",
    "            new_child.count = np.array(np.unique(data[data[:, self.feature] == labels[j]][:, -1], return_counts=True))\n",
    "            self.add_child(new_child)\n",
    "            self.children[j].add_tree(data[data[:, self.feature] == labels[j]], impurity, gain_ratio, chi,\n",
    "                                      max_depth - 1, self)"
   ]
  },
  {
   "cell_type": "code",
   "execution_count": 46,
   "metadata": {},
   "outputs": [],
   "source": [
    "def build_tree(data, impurity, gain_ratio=False, chi=1, max_depth=1000, parent=None):\n",
    "    root = DecisionNode(-1, -1)\n",
    "    root.add_tree(data, impurity, gain_ratio, chi, max_depth, parent=None)\n",
    "    ###########################################################################\n",
    "    #                             END OF YOUR CODE                            #\n",
    "    ###########################################################################\n",
    "    return root"
   ]
  },
  {
   "cell_type": "code",
   "execution_count": 47,
   "metadata": {},
   "outputs": [],
   "source": [
    "# python supports passing a function as an argument to another function.\n",
    "tree_gini = build_tree(data=X_train, impurity=calc_gini) # gini and goodness of split\n",
    "tree_entropy = build_tree(data=X_train, impurity=calc_entropy) # entropy and goodness of split\n",
    "tree_entropy_gain_ratio = build_tree(data=X_train, impurity=calc_entropy, gain_ratio=True) # entropy and gain ratio"
   ]
  },
  {
   "cell_type": "markdown",
   "metadata": {},
   "source": [
    "## Tree evaluation\n",
    "\n",
    "Complete the functions `predict` and `calc_accuracy`. (10 points)"
   ]
  },
  {
   "cell_type": "code",
   "execution_count": 48,
   "metadata": {},
   "outputs": [],
   "source": [
    "def predict(node, instance):\n",
    "    \"\"\"\n",
    "    Predict a given instance using the decision tree\n",
    " \n",
    "    Input:\n",
    "    - root: the root of the decision tree.\n",
    "    - instance: an row vector from the dataset. Note that the last element \n",
    "                of this vector is the label of the instance.\n",
    " \n",
    "    Output: the prediction of the instance.\n",
    "    \"\"\"\n",
    "    ###########################################################################\n",
    "    # TODO: Implement the function.                                           #\n",
    "    ###########################################################################\n",
    "    label = instance[node.feature]\n",
    "    labels = node.calc_major(instance)\n",
    "    if node.is_leaf():\n",
    "        e = 0\n",
    "        p = 0\n",
    "        for i,val in enumerate(node.count[0]):\n",
    "            if val == 'e':\n",
    "                e = node.count[1][i]\n",
    "            elif val == 'p':\n",
    "                p = node.count[1][i]\n",
    "        if e > p:\n",
    "            return 'e'\n",
    "        else:\n",
    "            return 'p'\n",
    "    index = 0\n",
    "    for i,val in enumerate(node.children):\n",
    "        if val.value == label:\n",
    "            index = i\n",
    "    ###########################################################################\n",
    "    #                             END OF YOUR CODE                            #\n",
    "    ###########################################################################\n",
    "    return predict(node.children[index], instance)"
   ]
  },
  {
   "cell_type": "code",
   "execution_count": 49,
   "metadata": {},
   "outputs": [],
   "source": [
    "def calc_accuracy(node, dataset):\n",
    "    \"\"\"\n",
    "    Predict a given dataset using the decision tree\n",
    " \n",
    "    Input:\n",
    "    - node: a node in the decision tree.\n",
    "    - dataset: the dataset on which the accuracy is evaluated\n",
    " \n",
    "    Output: the accuracy of the decision tree on the given dataset (%).\n",
    "    \"\"\"\n",
    "    accuracy = 0\n",
    "    ###########################################################################\n",
    "    # TODO: Implement the function.                                           #\n",
    "    ###########################################################################\n",
    "    goodpredict = 0\n",
    "    for fet in dataset:\n",
    "        curr_predict = predict(node, fet)\n",
    "        if curr_predict == fet[-1]:\n",
    "            goodpredict += 1\n",
    "    accuracy = goodpredict / (dataset.shape[0])\n",
    "    ###########################################################################\n",
    "    #                             END OF YOUR CODE                            #\n",
    "    ###########################################################################\n",
    "    return accuracy "
   ]
  },
  {
   "cell_type": "markdown",
   "metadata": {},
   "source": [
    "After building the three trees using the training set, you should calculate the accuracy on the test set. For each tree print the training and test accuracy. Select the tree that gave you the best test accuracy. For the rest of the exercise, use that tree (when you asked to build another tree use the same impurity function and same gain_ratio flag). "
   ]
  },
  {
   "cell_type": "code",
   "execution_count": 50,
   "metadata": {},
   "outputs": [
    {
     "name": "stdout",
     "output_type": "stream",
     "text": [
      "0.7774495322501231 0.7799113737075333 0.7882816346627277\n"
     ]
    }
   ],
   "source": [
    "one = calc_accuracy(tree_gini, X_test)\n",
    "two = calc_accuracy(tree_entropy, X_test)\n",
    "three = calc_accuracy(tree_entropy_gain_ratio, X_test)\n",
    "print(one,two,three)"
   ]
  },
  {
   "cell_type": "markdown",
   "metadata": {},
   "source": [
    "## Post pruning\n",
    "\n",
    "Iterate over all nodes in the tree that have at least a single child which is a leaf. For each such node, replace it with its most popular class. Calculate the accuracy on the testing dataset, pick the node that results in the highest testing accuracy and permanently change it in the tree. Repeat this process until you are left with a single node in the tree (the root). Finally, create a plot of the training and testing accuracies as a function of the number of nodes in the tree. (15 points)"
   ]
  },
  {
   "cell_type": "code",
   "execution_count": 41,
   "metadata": {},
   "outputs": [
    {
     "name": "stdout",
     "output_type": "stream",
     "text": [
      "[<__main__.DecisionNode object at 0x000002A4379FC6A0>, <__main__.DecisionNode object at 0x000002A4379FCBE0>, <__main__.DecisionNode object at 0x000002A4379FCBE0>, <__main__.DecisionNode object at 0x000002A43780BA60>, <__main__.DecisionNode object at 0x000002A4379FC880>, <__main__.DecisionNode object at 0x000002A43780B8E0>, <__main__.DecisionNode object at 0x000002A43780B8E0>, <__main__.DecisionNode object at 0x000002A43780B9D0>, <__main__.DecisionNode object at 0x000002A43780B700>, <__main__.DecisionNode object at 0x000002A43780B6D0>, <__main__.DecisionNode object at 0x000002A43780B6D0>, <__main__.DecisionNode object at 0x000002A43780B760>, <__main__.DecisionNode object at 0x000002A43780B3D0>, <__main__.DecisionNode object at 0x000002A43780B2B0>, <__main__.DecisionNode object at 0x000002A43780B2B0>, <__main__.DecisionNode object at 0x000002A43780B340>, <__main__.DecisionNode object at 0x000002A43780B430>, <__main__.DecisionNode object at 0x000002A4378070D0>, <__main__.DecisionNode object at 0x000002A4378070D0>, <__main__.DecisionNode object at 0x000002A43780B0D0>, <__main__.DecisionNode object at 0x000002A43780B070>, <__main__.DecisionNode object at 0x000002A437807280>, <__main__.DecisionNode object at 0x000002A43777DD60>, <__main__.DecisionNode object at 0x000002A43777DF10>, <__main__.DecisionNode object at 0x000002A43777DF10>, <__main__.DecisionNode object at 0x000002A43777DEB0>, <__main__.DecisionNode object at 0x000002A437770F10>, <__main__.DecisionNode object at 0x000002A437770DF0>, <__main__.DecisionNode object at 0x000002A437770D60>, <__main__.DecisionNode object at 0x000002A437770D60>, <__main__.DecisionNode object at 0x000002A437770E80>, <__main__.DecisionNode object at 0x000002A437770FA0>, <__main__.DecisionNode object at 0x000002A437770FA0>, <__main__.DecisionNode object at 0x000002A43780B4C0>, <__main__.DecisionNode object at 0x000002A437770AC0>, <__main__.DecisionNode object at 0x000002A437770AC0>, <__main__.DecisionNode object at 0x000002A437770940>, <__main__.DecisionNode object at 0x000002A437770940>, <__main__.DecisionNode object at 0x000002A4377709A0>, <__main__.DecisionNode object at 0x000002A4377706D0>, <__main__.DecisionNode object at 0x000002A437770610>, <__main__.DecisionNode object at 0x000002A437770610>, <__main__.DecisionNode object at 0x000002A4377705B0>, <__main__.DecisionNode object at 0x000002A437770640>, <__main__.DecisionNode object at 0x000002A437770760>, <__main__.DecisionNode object at 0x000002A437770310>, <__main__.DecisionNode object at 0x000002A437770250>, <__main__.DecisionNode object at 0x000002A437770250>, <__main__.DecisionNode object at 0x000002A4377702B0>, <__main__.DecisionNode object at 0x000002A437770340>, <__main__.DecisionNode object at 0x000002A43776D0A0>, <__main__.DecisionNode object at 0x000002A43776D250>, <__main__.DecisionNode object at 0x000002A43776D250>, <__main__.DecisionNode object at 0x000002A43776D160>, <__main__.DecisionNode object at 0x000002A43776D0A0>, <__main__.DecisionNode object at 0x000002A43776D400>, <__main__.DecisionNode object at 0x000002A43776D400>, <__main__.DecisionNode object at 0x000002A43776D5E0>, <__main__.DecisionNode object at 0x000002A43776D5E0>, <__main__.DecisionNode object at 0x000002A43776D580>, <__main__.DecisionNode object at 0x000002A43776D520>, <__main__.DecisionNode object at 0x000002A43776D8B0>, <__main__.DecisionNode object at 0x000002A43776D8B0>, <__main__.DecisionNode object at 0x000002A43776D940>, <__main__.DecisionNode object at 0x000002A43776D940>, <__main__.DecisionNode object at 0x000002A43776D7C0>, <__main__.DecisionNode object at 0x000002A43776DAC0>, <__main__.DecisionNode object at 0x000002A43776DAC0>, <__main__.DecisionNode object at 0x000002A43776D040>, <__main__.DecisionNode object at 0x000002A43776DC40>, <__main__.DecisionNode object at 0x000002A43776DC40>, <__main__.DecisionNode object at 0x000002A43776DD60>, <__main__.DecisionNode object at 0x000002A43776DD60>, <__main__.DecisionNode object at 0x000002A43776DF40>, <__main__.DecisionNode object at 0x000002A437769070>, <__main__.DecisionNode object at 0x000002A437769100>, <__main__.DecisionNode object at 0x000002A437769100>, <__main__.DecisionNode object at 0x000002A437769280>, <__main__.DecisionNode object at 0x000002A437769280>, <__main__.DecisionNode object at 0x000002A437769220>, <__main__.DecisionNode object at 0x000002A437769220>, <__main__.DecisionNode object at 0x000002A437769460>, <__main__.DecisionNode object at 0x000002A437769460>, <__main__.DecisionNode object at 0x000002A437769580>, <__main__.DecisionNode object at 0x000002A437769640>, <__main__.DecisionNode object at 0x000002A437769640>, <__main__.DecisionNode object at 0x000002A43776DE80>, <__main__.DecisionNode object at 0x000002A4377699D0>, <__main__.DecisionNode object at 0x000002A4377699D0>, <__main__.DecisionNode object at 0x000002A437769970>, <__main__.DecisionNode object at 0x000002A437769B20>, <__main__.DecisionNode object at 0x000002A437769BB0>, <__main__.DecisionNode object at 0x000002A437769BB0>, <__main__.DecisionNode object at 0x000002A437769D00>, <__main__.DecisionNode object at 0x000002A437769D00>, <__main__.DecisionNode object at 0x000002A437769AC0>, <__main__.DecisionNode object at 0x000002A437769E80>, <__main__.DecisionNode object at 0x000002A437769E80>, <__main__.DecisionNode object at 0x000002A437769FA0>, <__main__.DecisionNode object at 0x000002A437769FA0>, <__main__.DecisionNode object at 0x000002A437769850>, <__main__.DecisionNode object at 0x000002A437765E80>, <__main__.DecisionNode object at 0x000002A437765E80>, <__main__.DecisionNode object at 0x000002A437765E80>, <__main__.DecisionNode object at 0x000002A437765C40>, <__main__.DecisionNode object at 0x000002A437765C40>, <__main__.DecisionNode object at 0x000002A437765CA0>, <__main__.DecisionNode object at 0x000002A437765D00>, <__main__.DecisionNode object at 0x000002A437765D00>, <__main__.DecisionNode object at 0x000002A437765A00>, <__main__.DecisionNode object at 0x000002A437765850>, <__main__.DecisionNode object at 0x000002A437765850>, <__main__.DecisionNode object at 0x000002A4377658E0>, <__main__.DecisionNode object at 0x000002A437765940>, <__main__.DecisionNode object at 0x000002A4377656A0>, <__main__.DecisionNode object at 0x000002A437765670>, <__main__.DecisionNode object at 0x000002A437765670>, <__main__.DecisionNode object at 0x000002A437765940>, <__main__.DecisionNode object at 0x000002A437765460>, <__main__.DecisionNode object at 0x000002A4377653A0>, <__main__.DecisionNode object at 0x000002A437765370>, <__main__.DecisionNode object at 0x000002A437765220>, <__main__.DecisionNode object at 0x000002A437765220>, <__main__.DecisionNode object at 0x000002A437765460>, <__main__.DecisionNode object at 0x000002A437765460>, <__main__.DecisionNode object at 0x000002A437764190>, <__main__.DecisionNode object at 0x000002A437764190>, <__main__.DecisionNode object at 0x000002A4377641F0>, <__main__.DecisionNode object at 0x000002A4377643A0>, <__main__.DecisionNode object at 0x000002A4377643A0>, <__main__.DecisionNode object at 0x000002A437764340>, <__main__.DecisionNode object at 0x000002A437764520>, <__main__.DecisionNode object at 0x000002A4377645E0>, <__main__.DecisionNode object at 0x000002A4377645E0>, <__main__.DecisionNode object at 0x000002A437764700>, <__main__.DecisionNode object at 0x000002A437764700>, <__main__.DecisionNode object at 0x000002A4377648B0>, <__main__.DecisionNode object at 0x000002A4377649A0>, <__main__.DecisionNode object at 0x000002A4377649A0>, <__main__.DecisionNode object at 0x000002A437764910>, <__main__.DecisionNode object at 0x000002A437764B80>, <__main__.DecisionNode object at 0x000002A437764B80>, <__main__.DecisionNode object at 0x000002A437764B20>, <__main__.DecisionNode object at 0x000002A437764820>, <__main__.DecisionNode object at 0x000002A437764EB0>, <__main__.DecisionNode object at 0x000002A437764EE0>, <__main__.DecisionNode object at 0x000002A437764EE0>, <__main__.DecisionNode object at 0x000002A437764EB0>, <__main__.DecisionNode object at 0x000002A4377620A0>, <__main__.DecisionNode object at 0x000002A437762160>, <__main__.DecisionNode object at 0x000002A437762160>, <__main__.DecisionNode object at 0x000002A437762280>, <__main__.DecisionNode object at 0x000002A437762280>, <__main__.DecisionNode object at 0x000002A437762490>, <__main__.DecisionNode object at 0x000002A437762490>, <__main__.DecisionNode object at 0x000002A4377623A0>, <__main__.DecisionNode object at 0x000002A437762580>, <__main__.DecisionNode object at 0x000002A437762640>, <__main__.DecisionNode object at 0x000002A437762700>, <__main__.DecisionNode object at 0x000002A437762790>, <__main__.DecisionNode object at 0x000002A437762790>, <__main__.DecisionNode object at 0x000002A437762580>, <__main__.DecisionNode object at 0x000002A437762A60>, <__main__.DecisionNode object at 0x000002A437762BE0>, <__main__.DecisionNode object at 0x000002A437762BE0>, <__main__.DecisionNode object at 0x000002A437762B80>, <__main__.DecisionNode object at 0x000002A437762D60>, <__main__.DecisionNode object at 0x000002A437762D60>, <__main__.DecisionNode object at 0x000002A437762EE0>, <__main__.DecisionNode object at 0x000002A437762EE0>, <__main__.DecisionNode object at 0x000002A437762E80>, <__main__.DecisionNode object at 0x000002A437762AF0>, <__main__.DecisionNode object at 0x000002A43775EEB0>, <__main__.DecisionNode object at 0x000002A43775EEB0>, <__main__.DecisionNode object at 0x000002A43775ED90>, <__main__.DecisionNode object at 0x000002A43775EB80>, <__main__.DecisionNode object at 0x000002A43775EB80>, <__main__.DecisionNode object at 0x000002A43775EBE0>, <__main__.DecisionNode object at 0x000002A43775EE50>, <__main__.DecisionNode object at 0x000002A43775E9A0>, <__main__.DecisionNode object at 0x000002A43775E970>, <__main__.DecisionNode object at 0x000002A43775E820>, <__main__.DecisionNode object at 0x000002A43775E820>, <__main__.DecisionNode object at 0x000002A43775E670>, <__main__.DecisionNode object at 0x000002A43775E5E0>, <__main__.DecisionNode object at 0x000002A43775E520>, <__main__.DecisionNode object at 0x000002A43775E520>, <__main__.DecisionNode object at 0x000002A43775E400>, <__main__.DecisionNode object at 0x000002A43775E340>, <__main__.DecisionNode object at 0x000002A43775E340>, <__main__.DecisionNode object at 0x000002A43775E700>, <__main__.DecisionNode object at 0x000002A43775E1C0>, <__main__.DecisionNode object at 0x000002A43775E1C0>, <__main__.DecisionNode object at 0x000002A43775E0A0>, <__main__.DecisionNode object at 0x000002A43775D070>, <__main__.DecisionNode object at 0x000002A43775D070>, <__main__.DecisionNode object at 0x000002A43775D280>, <__main__.DecisionNode object at 0x000002A43775D310>, <__main__.DecisionNode object at 0x000002A43775D310>, <__main__.DecisionNode object at 0x000002A43775D220>, <__main__.DecisionNode object at 0x000002A43775D610>, <__main__.DecisionNode object at 0x000002A43775D610>, <__main__.DecisionNode object at 0x000002A43775D520>, <__main__.DecisionNode object at 0x000002A43775D7F0>, <__main__.DecisionNode object at 0x000002A43775D820>, <__main__.DecisionNode object at 0x000002A43775D820>, <__main__.DecisionNode object at 0x000002A43775D940>, <__main__.DecisionNode object at 0x000002A43775D940>, <__main__.DecisionNode object at 0x000002A43775D1C0>, <__main__.DecisionNode object at 0x000002A43775DAC0>, <__main__.DecisionNode object at 0x000002A43775DAC0>, <__main__.DecisionNode object at 0x000002A43775DBE0>, <__main__.DecisionNode object at 0x000002A43775DCA0>, <__main__.DecisionNode object at 0x000002A43775DDC0>, <__main__.DecisionNode object at 0x000002A43775DDC0>, <__main__.DecisionNode object at 0x000002A43775DEE0>, <__main__.DecisionNode object at 0x000002A43775DEE0>, <__main__.DecisionNode object at 0x000002A43775B1F0>, <__main__.DecisionNode object at 0x000002A43775B1F0>, <__main__.DecisionNode object at 0x000002A43775B280>, <__main__.DecisionNode object at 0x000002A43775B340>, <__main__.DecisionNode object at 0x000002A43775B340>, <__main__.DecisionNode object at 0x000002A43775B0A0>, <__main__.DecisionNode object at 0x000002A43775B040>, <__main__.DecisionNode object at 0x000002A43775B040>, <__main__.DecisionNode object at 0x000002A43775B640>, <__main__.DecisionNode object at 0x000002A43775B7C0>, <__main__.DecisionNode object at 0x000002A43775B7C0>, <__main__.DecisionNode object at 0x000002A43775B760>, <__main__.DecisionNode object at 0x000002A43775B940>, <__main__.DecisionNode object at 0x000002A43775B940>, <__main__.DecisionNode object at 0x000002A43775B6D0>, <__main__.DecisionNode object at 0x000002A43775B5E0>, <__main__.DecisionNode object at 0x000002A43775BC10>, <__main__.DecisionNode object at 0x000002A43775BD00>, <__main__.DecisionNode object at 0x000002A43775BD00>, <__main__.DecisionNode object at 0x000002A43775BC70>, <__main__.DecisionNode object at 0x000002A43775BC70>, <__main__.DecisionNode object at 0x000002A43775BF40>, <__main__.DecisionNode object at 0x000002A437757FD0>, <__main__.DecisionNode object at 0x000002A437757FD0>, <__main__.DecisionNode object at 0x000002A437757E80>, <__main__.DecisionNode object at 0x000002A437757E80>, <__main__.DecisionNode object at 0x000002A437757D60>, <__main__.DecisionNode object at 0x000002A437757D60>, <__main__.DecisionNode object at 0x000002A437757D60>, <__main__.DecisionNode object at 0x000002A43775BB20>, <__main__.DecisionNode object at 0x000002A437757B80>, <__main__.DecisionNode object at 0x000002A437757AC0>, <__main__.DecisionNode object at 0x000002A437757A00>, <__main__.DecisionNode object at 0x000002A4377579D0>, <__main__.DecisionNode object at 0x000002A4377579D0>, <__main__.DecisionNode object at 0x000002A4377577C0>, <__main__.DecisionNode object at 0x000002A437757790>, <__main__.DecisionNode object at 0x000002A437757790>, <__main__.DecisionNode object at 0x000002A437757550>, <__main__.DecisionNode object at 0x000002A437757550>, <__main__.DecisionNode object at 0x000002A4377575E0>, <__main__.DecisionNode object at 0x000002A437757340>, <__main__.DecisionNode object at 0x000002A437757280>, <__main__.DecisionNode object at 0x000002A4377571C0>, <__main__.DecisionNode object at 0x000002A4377570A0>, <__main__.DecisionNode object at 0x000002A4377570A0>, <__main__.DecisionNode object at 0x000002A437757190>, <__main__.DecisionNode object at 0x000002A437756250>, <__main__.DecisionNode object at 0x000002A437756250>, <__main__.DecisionNode object at 0x000002A437756160>, <__main__.DecisionNode object at 0x000002A437756340>, <__main__.DecisionNode object at 0x000002A437756460>, <__main__.DecisionNode object at 0x000002A437756460>, <__main__.DecisionNode object at 0x000002A4377563D0>, <__main__.DecisionNode object at 0x000002A437756790>, <__main__.DecisionNode object at 0x000002A437756790>, <__main__.DecisionNode object at 0x000002A4377566A0>, <__main__.DecisionNode object at 0x000002A437756970>, <__main__.DecisionNode object at 0x000002A437756970>, <__main__.DecisionNode object at 0x000002A437756A60>, <__main__.DecisionNode object at 0x000002A437756A60>, <__main__.DecisionNode object at 0x000002A437756A00>, <__main__.DecisionNode object at 0x000002A437756C40>, <__main__.DecisionNode object at 0x000002A437756CD0>, <__main__.DecisionNode object at 0x000002A437756CD0>, <__main__.DecisionNode object at 0x000002A437756EB0>, <__main__.DecisionNode object at 0x000002A437756EB0>, <__main__.DecisionNode object at 0x000002A437756F10>, <__main__.DecisionNode object at 0x000002A4377540A0>, <__main__.DecisionNode object at 0x000002A4377540A0>, <__main__.DecisionNode object at 0x000002A4377541C0>, <__main__.DecisionNode object at 0x000002A437754310>, <__main__.DecisionNode object at 0x000002A437754310>, <__main__.DecisionNode object at 0x000002A437754370>, <__main__.DecisionNode object at 0x000002A4377544C0>, <__main__.DecisionNode object at 0x000002A4377544C0>, <__main__.DecisionNode object at 0x000002A437754730>, <__main__.DecisionNode object at 0x000002A4377547C0>, <__main__.DecisionNode object at 0x000002A4377547C0>, <__main__.DecisionNode object at 0x000002A437754760>, <__main__.DecisionNode object at 0x000002A437754640>, <__main__.DecisionNode object at 0x000002A437754A00>, <__main__.DecisionNode object at 0x000002A437754A00>, <__main__.DecisionNode object at 0x000002A437754AF0>, <__main__.DecisionNode object at 0x000002A437754C40>, <__main__.DecisionNode object at 0x000002A437754C40>, <__main__.DecisionNode object at 0x000002A4377549A0>, <__main__.DecisionNode object at 0x000002A437754DC0>, <__main__.DecisionNode object at 0x000002A437754E50>, <__main__.DecisionNode object at 0x000002A437754F40>, <__main__.DecisionNode object at 0x000002A437754F40>, <__main__.DecisionNode object at 0x000002A437750EE0>, <__main__.DecisionNode object at 0x000002A437750D60>, <__main__.DecisionNode object at 0x000002A437750CA0>, <__main__.DecisionNode object at 0x000002A437750CA0>, <__main__.DecisionNode object at 0x000002A437750DC0>, <__main__.DecisionNode object at 0x000002A437750DC0>, <__main__.DecisionNode object at 0x000002A437750AC0>, <__main__.DecisionNode object at 0x000002A4377509A0>, <__main__.DecisionNode object at 0x000002A4377509A0>, <__main__.DecisionNode object at 0x000002A437750A00>, <__main__.DecisionNode object at 0x000002A437750AC0>, <__main__.DecisionNode object at 0x000002A437750EB0>, <__main__.DecisionNode object at 0x000002A4377506D0>, <__main__.DecisionNode object at 0x000002A4377505E0>, <__main__.DecisionNode object at 0x000002A4377505E0>, <__main__.DecisionNode object at 0x000002A437750700>, <__main__.DecisionNode object at 0x000002A4377503D0>, <__main__.DecisionNode object at 0x000002A4377503D0>, <__main__.DecisionNode object at 0x000002A4377502E0>, <__main__.DecisionNode object at 0x000002A437750220>, <__main__.DecisionNode object at 0x000002A437750220>, <__main__.DecisionNode object at 0x000002A437750460>, <__main__.DecisionNode object at 0x000002A437750070>, <__main__.DecisionNode object at 0x000002A4377340D0>, <__main__.DecisionNode object at 0x000002A4377340A0>, <__main__.DecisionNode object at 0x000002A4377340A0>, <__main__.DecisionNode object at 0x000002A4377340D0>, <__main__.DecisionNode object at 0x000002A4377349D0>, <__main__.DecisionNode object at 0x000002A4377349D0>, <__main__.DecisionNode object at 0x000002A4377349D0>, <__main__.DecisionNode object at 0x000002A437734F40>, <__main__.DecisionNode object at 0x000002A4377341F0>, <__main__.DecisionNode object at 0x000002A4377341F0>, <__main__.DecisionNode object at 0x000002A437734F40>, <__main__.DecisionNode object at 0x000002A437734820>, <__main__.DecisionNode object at 0x000002A437734D60>, <__main__.DecisionNode object at 0x000002A437734D60>, <__main__.DecisionNode object at 0x000002A437734AF0>, <__main__.DecisionNode object at 0x000002A439C434F0>, <__main__.DecisionNode object at 0x000002A439C43070>, <__main__.DecisionNode object at 0x000002A439C43070>, <__main__.DecisionNode object at 0x000002A439C43610>, <__main__.DecisionNode object at 0x000002A439C43610>, <__main__.DecisionNode object at 0x000002A439C43820>, <__main__.DecisionNode object at 0x000002A439C438E0>, <__main__.DecisionNode object at 0x000002A439C438E0>, <__main__.DecisionNode object at 0x000002A439C43A00>, <__main__.DecisionNode object at 0x000002A439C43A00>, <__main__.DecisionNode object at 0x000002A439C43B20>, <__main__.DecisionNode object at 0x000002A439C43B20>, <__main__.DecisionNode object at 0x000002A439C43CA0>, <__main__.DecisionNode object at 0x000002A439C43E50>, <__main__.DecisionNode object at 0x000002A439C43E50>, <__main__.DecisionNode object at 0x000002A439C43D30>, <__main__.DecisionNode object at 0x000002A439C43CA0>, <__main__.DecisionNode object at 0x000002A439C43FA0>, <__main__.DecisionNode object at 0x000002A439C46100>, <__main__.DecisionNode object at 0x000002A439C46190>, <__main__.DecisionNode object at 0x000002A439C46190>, <__main__.DecisionNode object at 0x000002A439C46190>, <__main__.DecisionNode object at 0x000002A439C46070>, <__main__.DecisionNode object at 0x000002A439C46400>, <__main__.DecisionNode object at 0x000002A439C46490>, <__main__.DecisionNode object at 0x000002A439C46550>, <__main__.DecisionNode object at 0x000002A439C46550>, <__main__.DecisionNode object at 0x000002A439C46400>, <__main__.DecisionNode object at 0x000002A439C46790>, <__main__.DecisionNode object at 0x000002A439C46790>, <__main__.DecisionNode object at 0x000002A439C46790>, <__main__.DecisionNode object at 0x000002A439C46A30>, <__main__.DecisionNode object at 0x000002A439C46A30>, <__main__.DecisionNode object at 0x000002A439C46940>, <__main__.DecisionNode object at 0x000002A439C46940>, <__main__.DecisionNode object at 0x000002A439C46B80>, <__main__.DecisionNode object at 0x000002A439C46B80>, <__main__.DecisionNode object at 0x000002A439C46CA0>, <__main__.DecisionNode object at 0x000002A439C46D60>, <__main__.DecisionNode object at 0x000002A439C46D60>, <__main__.DecisionNode object at 0x000002A439C46F40>, <__main__.DecisionNode object at 0x000002A439C49040>, <__main__.DecisionNode object at 0x000002A439C49130>, <__main__.DecisionNode object at 0x000002A439C49220>, <__main__.DecisionNode object at 0x000002A439C49220>, <__main__.DecisionNode object at 0x000002A439C46F40>, <__main__.DecisionNode object at 0x000002A439C46FD0>, <__main__.DecisionNode object at 0x000002A439C46FD0>, <__main__.DecisionNode object at 0x000002A439C494C0>, <__main__.DecisionNode object at 0x000002A439C49580>, <__main__.DecisionNode object at 0x000002A439C496A0>, <__main__.DecisionNode object at 0x000002A439C49760>, <__main__.DecisionNode object at 0x000002A439C49760>, <__main__.DecisionNode object at 0x000002A439C49880>, <__main__.DecisionNode object at 0x000002A439C49880>, <__main__.DecisionNode object at 0x000002A439C499A0>, <__main__.DecisionNode object at 0x000002A439C499A0>, <__main__.DecisionNode object at 0x000002A439C49C40>, <__main__.DecisionNode object at 0x000002A439C49C40>, <__main__.DecisionNode object at 0x000002A439C49BB0>, <__main__.DecisionNode object at 0x000002A439C49DC0>, <__main__.DecisionNode object at 0x000002A439C49DC0>, <__main__.DecisionNode object at 0x000002A439C49C10>, <__main__.DecisionNode object at 0x000002A439C49B20>, <__main__.DecisionNode object at 0x000002A439C49AC0>, <__main__.DecisionNode object at 0x000002A439C4B250>, <__main__.DecisionNode object at 0x000002A439C4B250>, <__main__.DecisionNode object at 0x000002A439C4B130>, <__main__.DecisionNode object at 0x000002A439C4B340>, <__main__.DecisionNode object at 0x000002A439C4B340>, <__main__.DecisionNode object at 0x000002A439C4B5B0>, <__main__.DecisionNode object at 0x000002A439C4B5B0>, <__main__.DecisionNode object at 0x000002A439C4B4C0>, <__main__.DecisionNode object at 0x000002A439C4B6A0>, <__main__.DecisionNode object at 0x000002A439C4B6A0>, <__main__.DecisionNode object at 0x000002A439C4B460>, <__main__.DecisionNode object at 0x000002A439C4B910>, <__main__.DecisionNode object at 0x000002A439C4B880>, <__main__.DecisionNode object at 0x000002A439C4BA00>, <__main__.DecisionNode object at 0x000002A439C4BA00>, <__main__.DecisionNode object at 0x000002A439C4BB20>, <__main__.DecisionNode object at 0x000002A439C4BC40>, <__main__.DecisionNode object at 0x000002A439C4BC40>, <__main__.DecisionNode object at 0x000002A439C4BBB0>, <__main__.DecisionNode object at 0x000002A439C4B820>, <__main__.DecisionNode object at 0x000002A439C4BEE0>, <__main__.DecisionNode object at 0x000002A439C4D0D0>, <__main__.DecisionNode object at 0x000002A439C4D0D0>, <__main__.DecisionNode object at 0x000002A439C4BF70>, <__main__.DecisionNode object at 0x000002A439C4BEE0>, <__main__.DecisionNode object at 0x000002A439C4D310>, <__main__.DecisionNode object at 0x000002A439C4D310>, <__main__.DecisionNode object at 0x000002A439C4D430>, <__main__.DecisionNode object at 0x000002A439C4D430>, <__main__.DecisionNode object at 0x000002A439C4D490>, <__main__.DecisionNode object at 0x000002A439C4D640>, <__main__.DecisionNode object at 0x000002A439C4D640>, <__main__.DecisionNode object at 0x000002A439C4D5E0>, <__main__.DecisionNode object at 0x000002A439C4D850>, <__main__.DecisionNode object at 0x000002A439C4D850>, <__main__.DecisionNode object at 0x000002A439C4D8B0>, <__main__.DecisionNode object at 0x000002A439C4D7C0>, <__main__.DecisionNode object at 0x000002A439C4DB20>, <__main__.DecisionNode object at 0x000002A439C4DC40>, <__main__.DecisionNode object at 0x000002A439C4DC40>, <__main__.DecisionNode object at 0x000002A439C4DBB0>, <__main__.DecisionNode object at 0x000002A439C4DAC0>, <__main__.DecisionNode object at 0x000002A439C4DE80>, <__main__.DecisionNode object at 0x000002A439C4DF10>, <__main__.DecisionNode object at 0x000002A439C50040>, <__main__.DecisionNode object at 0x000002A439C50040>, <__main__.DecisionNode object at 0x000002A439C501F0>, <__main__.DecisionNode object at 0x000002A439C501F0>, <__main__.DecisionNode object at 0x000002A439C50250>, <__main__.DecisionNode object at 0x000002A439C50160>, <__main__.DecisionNode object at 0x000002A439C4DA60>, <__main__.DecisionNode object at 0x000002A439C50520>, <__main__.DecisionNode object at 0x000002A439C505B0>, <__main__.DecisionNode object at 0x000002A439C506A0>, <__main__.DecisionNode object at 0x000002A439C506A0>, <__main__.DecisionNode object at 0x000002A439C504C0>, <__main__.DecisionNode object at 0x000002A439C50460>, <__main__.DecisionNode object at 0x000002A439C508E0>, <__main__.DecisionNode object at 0x000002A439C50970>, <__main__.DecisionNode object at 0x000002A439C50970>, <__main__.DecisionNode object at 0x000002A439C50880>, <__main__.DecisionNode object at 0x000002A439C50B80>, <__main__.DecisionNode object at 0x000002A439C50B80>, <__main__.DecisionNode object at 0x000002A439C50CA0>, <__main__.DecisionNode object at 0x000002A439C50E50>, <__main__.DecisionNode object at 0x000002A439C50E80>, <__main__.DecisionNode object at 0x000002A439C50E80>, <__main__.DecisionNode object at 0x000002A439C50D60>, <__main__.DecisionNode object at 0x000002A439C520A0>, <__main__.DecisionNode object at 0x000002A439C52130>, <__main__.DecisionNode object at 0x000002A439C52130>, <__main__.DecisionNode object at 0x000002A439C52280>, <__main__.DecisionNode object at 0x000002A439C523A0>, <__main__.DecisionNode object at 0x000002A439C523A0>, <__main__.DecisionNode object at 0x000002A439C52310>, <__main__.DecisionNode object at 0x000002A439C52040>, <__main__.DecisionNode object at 0x000002A439C52730>, <__main__.DecisionNode object at 0x000002A439C52760>, <__main__.DecisionNode object at 0x000002A439C52760>, <__main__.DecisionNode object at 0x000002A439C52640>, <__main__.DecisionNode object at 0x000002A439C525E0>, <__main__.DecisionNode object at 0x000002A439C52580>, <__main__.DecisionNode object at 0x000002A439C529A0>, <__main__.DecisionNode object at 0x000002A439C52A60>, <__main__.DecisionNode object at 0x000002A439C52B80>, <__main__.DecisionNode object at 0x000002A439C52B80>, <__main__.DecisionNode object at 0x000002A439C52CA0>, <__main__.DecisionNode object at 0x000002A439C52CA0>, <__main__.DecisionNode object at 0x000002A439C52F10>, <__main__.DecisionNode object at 0x000002A439C52F40>, <__main__.DecisionNode object at 0x000002A439C52F40>, <__main__.DecisionNode object at 0x000002A437646A60>, <__main__.DecisionNode object at 0x000002A439C52EB0>, <__main__.DecisionNode object at 0x000002A437646C70>, <__main__.DecisionNode object at 0x000002A437646BE0>, <__main__.DecisionNode object at 0x000002A437646BE0>, <__main__.DecisionNode object at 0x000002A437646EB0>, <__main__.DecisionNode object at 0x000002A437646EE0>, <__main__.DecisionNode object at 0x000002A437646EE0>, <__main__.DecisionNode object at 0x000002A437646DC0>, <__main__.DecisionNode object at 0x000002A437640190>, <__main__.DecisionNode object at 0x000002A437640190>, <__main__.DecisionNode object at 0x000002A4376400A0>, <__main__.DecisionNode object at 0x000002A439C52DC0>, <__main__.DecisionNode object at 0x000002A437640430>, <__main__.DecisionNode object at 0x000002A4376403A0>, <__main__.DecisionNode object at 0x000002A4376403A0>, <__main__.DecisionNode object at 0x000002A4376405E0>, <__main__.DecisionNode object at 0x000002A4376405E0>, <__main__.DecisionNode object at 0x000002A437640580>, <__main__.DecisionNode object at 0x000002A437640340>, <__main__.DecisionNode object at 0x000002A437640850>, <__main__.DecisionNode object at 0x000002A437640850>, <__main__.DecisionNode object at 0x000002A4376408B0>, <__main__.DecisionNode object at 0x000002A437640AF0>, <__main__.DecisionNode object at 0x000002A437640AF0>, <__main__.DecisionNode object at 0x000002A437640B80>, <__main__.DecisionNode object at 0x000002A437640C40>, <__main__.DecisionNode object at 0x000002A437640C40>, <__main__.DecisionNode object at 0x000002A437640E50>, <__main__.DecisionNode object at 0x000002A437640DC0>, <__main__.DecisionNode object at 0x000002A437640FA0>, <__main__.DecisionNode object at 0x000002A437640FA0>, <__main__.DecisionNode object at 0x000002A437640F10>, <__main__.DecisionNode object at 0x000002A437640E50>, <__main__.DecisionNode object at 0x000002A43763F2B0>, <__main__.DecisionNode object at 0x000002A43763F340>, <__main__.DecisionNode object at 0x000002A43763F340>, <__main__.DecisionNode object at 0x000002A43763F2E0>, <__main__.DecisionNode object at 0x000002A43763F4C0>, <__main__.DecisionNode object at 0x000002A43763F4C0>, <__main__.DecisionNode object at 0x000002A43763F6D0>, <__main__.DecisionNode object at 0x000002A43763F700>, <__main__.DecisionNode object at 0x000002A43763F700>, <__main__.DecisionNode object at 0x000002A43763F820>, <__main__.DecisionNode object at 0x000002A43763F820>, <__main__.DecisionNode object at 0x000002A43763F9D0>, <__main__.DecisionNode object at 0x000002A43763F9D0>, <__main__.DecisionNode object at 0x000002A43763F9D0>, <__main__.DecisionNode object at 0x000002A43763FA30>, <__main__.DecisionNode object at 0x000002A43763F940>, <__main__.DecisionNode object at 0x000002A43763FCD0>, <__main__.DecisionNode object at 0x000002A43763FE80>, <__main__.DecisionNode object at 0x000002A43763FF10>, <__main__.DecisionNode object at 0x000002A43763FF10>, <__main__.DecisionNode object at 0x000002A43763D0A0>, <__main__.DecisionNode object at 0x000002A43763D250>, <__main__.DecisionNode object at 0x000002A43763D250>, <__main__.DecisionNode object at 0x000002A43763D160>, <__main__.DecisionNode object at 0x000002A43763D490>, <__main__.DecisionNode object at 0x000002A43763D4C0>, <__main__.DecisionNode object at 0x000002A43763D4C0>, <__main__.DecisionNode object at 0x000002A43763D5E0>, <__main__.DecisionNode object at 0x000002A43763D5E0>, <__main__.DecisionNode object at 0x000002A43763D340>, <__main__.DecisionNode object at 0x000002A43763D760>, <__main__.DecisionNode object at 0x000002A43763D820>, <__main__.DecisionNode object at 0x000002A43763D8E0>, <__main__.DecisionNode object at 0x000002A43763D970>, <__main__.DecisionNode object at 0x000002A43763DA60>, <__main__.DecisionNode object at 0x000002A43763DA60>, <__main__.DecisionNode object at 0x000002A43763D760>, <__main__.DecisionNode object at 0x000002A43763DC70>, <__main__.DecisionNode object at 0x000002A43763DC70>, <__main__.DecisionNode object at 0x000002A43763DDC0>, <__main__.DecisionNode object at 0x000002A43763DDC0>, <__main__.DecisionNode object at 0x000002A4375EF730>, <__main__.DecisionNode object at 0x000002A43763DBE0>, <__main__.DecisionNode object at 0x000002A43763FD30>, <__main__.DecisionNode object at 0x000002A4375EF5B0>, <__main__.DecisionNode object at 0x000002A4375EF400>, <__main__.DecisionNode object at 0x000002A4375EF400>, <__main__.DecisionNode object at 0x000002A4375EF310>, <__main__.DecisionNode object at 0x000002A4375EF310>, <__main__.DecisionNode object at 0x000002A4375EF370>, <__main__.DecisionNode object at 0x000002A4375EF5B0>, <__main__.DecisionNode object at 0x000002A4375E3EE0>, <__main__.DecisionNode object at 0x000002A4375E3EE0>, <__main__.DecisionNode object at 0x000002A4375E3070>, <__main__.DecisionNode object at 0x000002A4375E3FA0>, <__main__.DecisionNode object at 0x000002A4375EF0A0>, <__main__.DecisionNode object at 0x000002A4375E3C40>, <__main__.DecisionNode object at 0x000002A43758BE80>, <__main__.DecisionNode object at 0x000002A4375E3C10>, <__main__.DecisionNode object at 0x000002A43758BF70>, <__main__.DecisionNode object at 0x000002A4376F2AC0>, <__main__.DecisionNode object at 0x000002A4375880A0>, <__main__.DecisionNode object at 0x000002A4375EF130>, <__main__.DecisionNode object at 0x000002A4376F2DF0>, <__main__.DecisionNode object at 0x000002A4376F2DF0>, <__main__.DecisionNode object at 0x000002A4376F2F40>, <__main__.DecisionNode object at 0x000002A4376F2F40>, <__main__.DecisionNode object at 0x000002A4376EE190>, <__main__.DecisionNode object at 0x000002A4376EE190>, <__main__.DecisionNode object at 0x000002A4376EE220>, <__main__.DecisionNode object at 0x000002A4376EE220>, <__main__.DecisionNode object at 0x000002A4376EE0A0>, <__main__.DecisionNode object at 0x000002A4376F2CA0>, <__main__.DecisionNode object at 0x000002A4376F2D90>, <__main__.DecisionNode object at 0x000002A4376EE4C0>, <__main__.DecisionNode object at 0x000002A4376EE670>, <__main__.DecisionNode object at 0x000002A4376EE670>, <__main__.DecisionNode object at 0x000002A4376EE580>, <__main__.DecisionNode object at 0x000002A4376EE460>, <__main__.DecisionNode object at 0x000002A4376EE460>, <__main__.DecisionNode object at 0x000002A4376F2C40>, <__main__.DecisionNode object at 0x000002A4376EE880>, <__main__.DecisionNode object at 0x000002A4376EE9A0>, <__main__.DecisionNode object at 0x000002A4376EE9A0>, <__main__.DecisionNode object at 0x000002A4376EE910>, <__main__.DecisionNode object at 0x000002A4376EEB20>, <__main__.DecisionNode object at 0x000002A4376EEB20>, <__main__.DecisionNode object at 0x000002A4376F2C40>, <__main__.DecisionNode object at 0x000002A4376EED00>, <__main__.DecisionNode object at 0x000002A4376EEE50>, <__main__.DecisionNode object at 0x000002A4376EEE50>, <__main__.DecisionNode object at 0x000002A4376EEEB0>, <__main__.DecisionNode object at 0x000002A4376EED90>, <__main__.DecisionNode object at 0x000002A4376EED00>, <__main__.DecisionNode object at 0x000002A4376EB160>, <__main__.DecisionNode object at 0x000002A4376752E0>, <__main__.DecisionNode object at 0x000002A437675220>, <__main__.DecisionNode object at 0x000002A437675040>, <__main__.DecisionNode object at 0x000002A437675130>, <__main__.DecisionNode object at 0x000002A437675130>, <__main__.DecisionNode object at 0x000002A437670250>, <__main__.DecisionNode object at 0x000002A437670250>, <__main__.DecisionNode object at 0x000002A437670130>, <__main__.DecisionNode object at 0x000002A437670340>, <__main__.DecisionNode object at 0x000002A4376703D0>, <__main__.DecisionNode object at 0x000002A4376703D0>, <__main__.DecisionNode object at 0x000002A437670580>, <__main__.DecisionNode object at 0x000002A437670610>, <__main__.DecisionNode object at 0x000002A437670610>, <__main__.DecisionNode object at 0x000002A437670520>, <__main__.DecisionNode object at 0x000002A437670970>, <__main__.DecisionNode object at 0x000002A4376709A0>, <__main__.DecisionNode object at 0x000002A4376709A0>, <__main__.DecisionNode object at 0x000002A437670AC0>, <__main__.DecisionNode object at 0x000002A437670AC0>, <__main__.DecisionNode object at 0x000002A437670820>, <__main__.DecisionNode object at 0x000002A437670C40>, <__main__.DecisionNode object at 0x000002A437670D00>, <__main__.DecisionNode object at 0x000002A437670D90>, <__main__.DecisionNode object at 0x000002A437670D90>, <__main__.DecisionNode object at 0x000002A4376707C0>, <__main__.DecisionNode object at 0x000002A43766F070>, <__main__.DecisionNode object at 0x000002A43766F070>, <__main__.DecisionNode object at 0x000002A437670FD0>, <__main__.DecisionNode object at 0x000002A43766F1C0>, <__main__.DecisionNode object at 0x000002A43766F280>, <__main__.DecisionNode object at 0x000002A43766F280>, <__main__.DecisionNode object at 0x000002A43766F4F0>, <__main__.DecisionNode object at 0x000002A43766F460>, <__main__.DecisionNode object at 0x000002A43766F5E0>, <__main__.DecisionNode object at 0x000002A43766F5E0>, <__main__.DecisionNode object at 0x000002A43766F400>, <__main__.DecisionNode object at 0x000002A43766F850>, <__main__.DecisionNode object at 0x000002A43766F880>, <__main__.DecisionNode object at 0x000002A43766F880>, <__main__.DecisionNode object at 0x000002A43766F760>, <__main__.DecisionNode object at 0x000002A43766F3A0>, <__main__.DecisionNode object at 0x000002A43766FB50>, <__main__.DecisionNode object at 0x000002A43766FC40>, <__main__.DecisionNode object at 0x000002A43766FC40>, <__main__.DecisionNode object at 0x000002A43766FBB0>, <__main__.DecisionNode object at 0x000002A43766FAC0>, <__main__.DecisionNode object at 0x000002A43766FE20>, <__main__.DecisionNode object at 0x000002A43766FF40>, <__main__.DecisionNode object at 0x000002A43740A580>, <__main__.DecisionNode object at 0x000002A43740A580>, <__main__.DecisionNode object at 0x000002A43740A610>, <__main__.DecisionNode object at 0x000002A43740A3D0>, <__main__.DecisionNode object at 0x000002A43740A3D0>, <__main__.DecisionNode object at 0x000002A43740A460>, <__main__.DecisionNode object at 0x000002A43740A0D0>, <__main__.DecisionNode object at 0x000002A43740A040>, <__main__.DecisionNode object at 0x000002A43740A040>, <__main__.DecisionNode object at 0x000002A43740AB80>, <__main__.DecisionNode object at 0x000002A43740AB80>, <__main__.DecisionNode object at 0x000002A43740ABE0>, <__main__.DecisionNode object at 0x000002A43740A1C0>, <__main__.DecisionNode object at 0x000002A43740A220>, <__main__.DecisionNode object at 0x000002A43740A280>, <__main__.DecisionNode object at 0x000002A43740A940>, <__main__.DecisionNode object at 0x000002A43740A940>, <__main__.DecisionNode object at 0x000002A43740AA30>, <__main__.DecisionNode object at 0x000002A43740A9A0>, <__main__.DecisionNode object at 0x000002A43740A8B0>, <__main__.DecisionNode object at 0x000002A43740A7C0>, <__main__.DecisionNode object at 0x000002A43740AC40>, <__main__.DecisionNode object at 0x000002A43740AC40>, <__main__.DecisionNode object at 0x000002A43740A910>, <__main__.DecisionNode object at 0x000002A43740AFD0>, <__main__.DecisionNode object at 0x000002A43740D220>, <__main__.DecisionNode object at 0x000002A43740D2B0>, <__main__.DecisionNode object at 0x000002A43740D2B0>, <__main__.DecisionNode object at 0x000002A43740D1C0>, <__main__.DecisionNode object at 0x000002A43740D160>, <__main__.DecisionNode object at 0x000002A43740D160>, <__main__.DecisionNode object at 0x000002A43740D5E0>, <__main__.DecisionNode object at 0x000002A43740D5E0>, <__main__.DecisionNode object at 0x000002A43740D580>, <__main__.DecisionNode object at 0x000002A43740D580>, <__main__.DecisionNode object at 0x000002A43740D7C0>, <__main__.DecisionNode object at 0x000002A43740D8E0>, <__main__.DecisionNode object at 0x000002A43740D8E0>, <__main__.DecisionNode object at 0x000002A43740D880>, <__main__.DecisionNode object at 0x000002A43740D7C0>, <__main__.DecisionNode object at 0x000002A43740D520>, <__main__.DecisionNode object at 0x000002A43740DB80>, <__main__.DecisionNode object at 0x000002A43740DB80>, <__main__.DecisionNode object at 0x000002A43740DCA0>, <__main__.DecisionNode object at 0x000002A43740DCA0>, <__main__.DecisionNode object at 0x000002A43740DCA0>, <__main__.DecisionNode object at 0x000002A43740DE80>, <__main__.DecisionNode object at 0x000002A43740DE80>, <__main__.DecisionNode object at 0x000002A43740DE20>, <__main__.DecisionNode object at 0x000002A43740DE20>, <__main__.DecisionNode object at 0x000002A4374061F0>, <__main__.DecisionNode object at 0x000002A4374061F0>, <__main__.DecisionNode object at 0x000002A437406280>, <__main__.DecisionNode object at 0x000002A437406340>, <__main__.DecisionNode object at 0x000002A437406340>, <__main__.DecisionNode object at 0x000002A437406190>, <__main__.DecisionNode object at 0x000002A437406520>, <__main__.DecisionNode object at 0x000002A437406520>, <__main__.DecisionNode object at 0x000002A4374064C0>, <__main__.DecisionNode object at 0x000002A4374060A0>, <__main__.DecisionNode object at 0x000002A4374067F0>, <__main__.DecisionNode object at 0x000002A4374067F0>, <__main__.DecisionNode object at 0x000002A437406700>, <__main__.DecisionNode object at 0x000002A437406700>, <__main__.DecisionNode object at 0x000002A437406700>, <__main__.DecisionNode object at 0x000002A437406A90>, <__main__.DecisionNode object at 0x000002A437406AC0>, <__main__.DecisionNode object at 0x000002A437406AC0>, <__main__.DecisionNode object at 0x000002A437406A90>, <__main__.DecisionNode object at 0x000002A437406D30>, <__main__.DecisionNode object at 0x000002A437406DC0>, <__main__.DecisionNode object at 0x000002A437406E50>, <__main__.DecisionNode object at 0x000002A437406E50>, <__main__.DecisionNode object at 0x000002A437406FA0>, <__main__.DecisionNode object at 0x000002A437404FD0>, <__main__.DecisionNode object at 0x000002A437404E80>, <__main__.DecisionNode object at 0x000002A437404E80>, <__main__.DecisionNode object at 0x000002A437404CD0>, <__main__.DecisionNode object at 0x000002A437404C40>, <__main__.DecisionNode object at 0x000002A47FF921C0>, <__main__.DecisionNode object at 0x000002A437404D60>, <__main__.DecisionNode object at 0x000002A47FF92130>, <__main__.DecisionNode object at 0x000002A47FF8E0A0>, <__main__.DecisionNode object at 0x000002A47FF8E130>, <__main__.DecisionNode object at 0x000002A47FF8E130>, <__main__.DecisionNode object at 0x000002A47FF8E070>, <__main__.DecisionNode object at 0x000002A47FF8E430>, <__main__.DecisionNode object at 0x000002A47FF8E550>, <__main__.DecisionNode object at 0x000002A47FF8E550>, <__main__.DecisionNode object at 0x000002A47FF8E370>, <__main__.DecisionNode object at 0x000002A47FF8E3D0>, <__main__.DecisionNode object at 0x000002A47FF8E3D0>, <__main__.DecisionNode object at 0x000002A47FF8E760>, <__main__.DecisionNode object at 0x000002A47FF8E760>, <__main__.DecisionNode object at 0x000002A47FF8E700>, <__main__.DecisionNode object at 0x000002A47FF8E8E0>, <__main__.DecisionNode object at 0x000002A47FF8E970>, <__main__.DecisionNode object at 0x000002A47FF8EA60>, <__main__.DecisionNode object at 0x000002A4373175B0>, <__main__.DecisionNode object at 0x000002A4373176D0>, <__main__.DecisionNode object at 0x000002A4373176D0>, <__main__.DecisionNode object at 0x000002A437317670>, <__main__.DecisionNode object at 0x000002A437317970>, <__main__.DecisionNode object at 0x000002A437317970>, <__main__.DecisionNode object at 0x000002A437317A00>, <__main__.DecisionNode object at 0x000002A437317B20>, <__main__.DecisionNode object at 0x000002A437317B20>, <__main__.DecisionNode object at 0x000002A437317A90>, <__main__.DecisionNode object at 0x000002A437317850>, <__main__.DecisionNode object at 0x000002A437317D90>, <__main__.DecisionNode object at 0x000002A437317D90>, <__main__.DecisionNode object at 0x000002A437317EE0>, <__main__.DecisionNode object at 0x000002A437317EE0>, <__main__.DecisionNode object at 0x000002A437311FA0>, <__main__.DecisionNode object at 0x000002A437311F70>, <__main__.DecisionNode object at 0x000002A437311F70>, <__main__.DecisionNode object at 0x000002A437311FA0>, <__main__.DecisionNode object at 0x000002A437311D60>, <__main__.DecisionNode object at 0x000002A437311D60>, <__main__.DecisionNode object at 0x000002A437311C40>, <__main__.DecisionNode object at 0x000002A437311C40>, <__main__.DecisionNode object at 0x000002A4373119D0>, <__main__.DecisionNode object at 0x000002A437311A90>, <__main__.DecisionNode object at 0x000002A437311A90>, <__main__.DecisionNode object at 0x000002A4373117F0>, <__main__.DecisionNode object at 0x000002A4373117F0>, <__main__.DecisionNode object at 0x000002A437311790>, <__main__.DecisionNode object at 0x000002A4373115E0>, <__main__.DecisionNode object at 0x000002A4373115E0>, <__main__.DecisionNode object at 0x000002A437311430>, <__main__.DecisionNode object at 0x000002A437311430>, <__main__.DecisionNode object at 0x000002A4373114C0>, <__main__.DecisionNode object at 0x000002A4373112E0>, <__main__.DecisionNode object at 0x000002A437311160>, <__main__.DecisionNode object at 0x000002A437311160>, <__main__.DecisionNode object at 0x000002A4373111C0>, <__main__.DecisionNode object at 0x000002A4373100A0>, <__main__.DecisionNode object at 0x000002A4373100A0>, <__main__.DecisionNode object at 0x000002A437310040>, <__main__.DecisionNode object at 0x000002A4373112B0>, <__main__.DecisionNode object at 0x000002A437310280>, <__main__.DecisionNode object at 0x000002A437310280>, <__main__.DecisionNode object at 0x000002A437310490>, <__main__.DecisionNode object at 0x000002A437310490>, <__main__.DecisionNode object at 0x000002A4373103A0>, <__main__.DecisionNode object at 0x000002A437310700>, <__main__.DecisionNode object at 0x000002A437310700>, <__main__.DecisionNode object at 0x000002A4373106A0>, <__main__.DecisionNode object at 0x000002A437310610>, <__main__.DecisionNode object at 0x000002A437310610>, <__main__.DecisionNode object at 0x000002A437310670>, <__main__.DecisionNode object at 0x000002A437310670>, <__main__.DecisionNode object at 0x000002A437310A00>, <__main__.DecisionNode object at 0x000002A437310AC0>, <__main__.DecisionNode object at 0x000002A437310B50>, <__main__.DecisionNode object at 0x000002A437310B50>, <__main__.DecisionNode object at 0x000002A437310CA0>, <__main__.DecisionNode object at 0x000002A437310CA0>, <__main__.DecisionNode object at 0x000002A437310DC0>, <__main__.DecisionNode object at 0x000002A437310DC0>, <__main__.DecisionNode object at 0x000002A437310EE0>, <__main__.DecisionNode object at 0x000002A437594130>, <__main__.DecisionNode object at 0x000002A437594130>, <__main__.DecisionNode object at 0x000002A4375940D0>, <__main__.DecisionNode object at 0x000002A437310FA0>, <__main__.DecisionNode object at 0x000002A4375942E0>, <__main__.DecisionNode object at 0x000002A4375942E0>, <__main__.DecisionNode object at 0x000002A4375943D0>, <__main__.DecisionNode object at 0x000002A437594370>, <__main__.DecisionNode object at 0x000002A437594370>, <__main__.DecisionNode object at 0x000002A437594370>, <__main__.DecisionNode object at 0x000002A437594280>, <__main__.DecisionNode object at 0x000002A437594790>, <__main__.DecisionNode object at 0x000002A437594700>, <__main__.DecisionNode object at 0x000002A437594700>, <__main__.DecisionNode object at 0x000002A437594790>, <__main__.DecisionNode object at 0x000002A4375946A0>, <__main__.DecisionNode object at 0x000002A4375949A0>, <__main__.DecisionNode object at 0x000002A4375949A0>, <__main__.DecisionNode object at 0x000002A4375949A0>, <__main__.DecisionNode object at 0x000002A437594B20>, <__main__.DecisionNode object at 0x000002A437594BE0>, <__main__.DecisionNode object at 0x000002A437594D00>, <__main__.DecisionNode object at 0x000002A437594D00>, <__main__.DecisionNode object at 0x000002A437594C70>, <__main__.DecisionNode object at 0x000002A437594EE0>, <__main__.DecisionNode object at 0x000002A4375900A0>, <__main__.DecisionNode object at 0x000002A4375900A0>, <__main__.DecisionNode object at 0x000002A4375901C0>, <__main__.DecisionNode object at 0x000002A437590280>, <__main__.DecisionNode object at 0x000002A437590280>, <__main__.DecisionNode object at 0x000002A4375903A0>, <__main__.DecisionNode object at 0x000002A4375904C0>, <__main__.DecisionNode object at 0x000002A4375904C0>, <__main__.DecisionNode object at 0x000002A437590460>, <__main__.DecisionNode object at 0x000002A437590640>, <__main__.DecisionNode object at 0x000002A437590640>, <__main__.DecisionNode object at 0x000002A4375907C0>, <__main__.DecisionNode object at 0x000002A4375907C0>, <__main__.DecisionNode object at 0x000002A437590760>, <__main__.DecisionNode object at 0x000002A437590A00>, <__main__.DecisionNode object at 0x000002A437590A00>, <__main__.DecisionNode object at 0x000002A437590B20>, <__main__.DecisionNode object at 0x000002A437590B20>, <__main__.DecisionNode object at 0x000002A4375909A0>, <__main__.DecisionNode object at 0x000002A437590CA0>, <__main__.DecisionNode object at 0x000002A437590DC0>, <__main__.DecisionNode object at 0x000002A437590DC0>, <__main__.DecisionNode object at 0x000002A437590D60>, <__main__.DecisionNode object at 0x000002A437590CA0>, <__main__.DecisionNode object at 0x000002A437590940>, <__main__.DecisionNode object at 0x000002A4375CE1F0>, <__main__.DecisionNode object at 0x000002A4375CE1F0>, <__main__.DecisionNode object at 0x000002A4375CE2E0>, <__main__.DecisionNode object at 0x000002A4375CE2E0>, <__main__.DecisionNode object at 0x000002A4375CE280>, <__main__.DecisionNode object at 0x000002A4375CE0A0>, <__main__.DecisionNode object at 0x000002A4375CE610>, <__main__.DecisionNode object at 0x000002A4375CE640>, <__main__.DecisionNode object at 0x000002A4375CE640>, <__main__.DecisionNode object at 0x000002A4375CE520>, <__main__.DecisionNode object at 0x000002A4375CE4C0>, <__main__.DecisionNode object at 0x000002A4375CE910>, <__main__.DecisionNode object at 0x000002A4375CE940>, <__main__.DecisionNode object at 0x000002A4375CE940>, <__main__.DecisionNode object at 0x000002A4375CE820>, <__main__.DecisionNode object at 0x000002A4375CE820>, <__main__.DecisionNode object at 0x000002A4375CEB20>, <__main__.DecisionNode object at 0x000002A4375CEBB0>, <__main__.DecisionNode object at 0x000002A4375CEBB0>, <__main__.DecisionNode object at 0x000002A4375CED00>, <__main__.DecisionNode object at 0x000002A4375CEDC0>, <__main__.DecisionNode object at 0x000002A4375CEDC0>, <__main__.DecisionNode object at 0x000002A4375CEFD0>, <__main__.DecisionNode object at 0x000002A4375CA070>, <__main__.DecisionNode object at 0x000002A4375CA070>, <__main__.DecisionNode object at 0x000002A4375CA160>, <__main__.DecisionNode object at 0x000002A4375CA160>, <__main__.DecisionNode object at 0x000002A4375CEEE0>, <__main__.DecisionNode object at 0x000002A4375CEEE0>, <__main__.DecisionNode object at 0x000002A4375CA4F0>, <__main__.DecisionNode object at 0x000002A4375CA4F0>, <__main__.DecisionNode object at 0x000002A4375CA5E0>, <__main__.DecisionNode object at 0x000002A4375CA5E0>, <__main__.DecisionNode object at 0x000002A4375CA580>, <__main__.DecisionNode object at 0x000002A4375CA7C0>, <__main__.DecisionNode object at 0x000002A4375CA880>, <__main__.DecisionNode object at 0x000002A4375CA940>, <__main__.DecisionNode object at 0x000002A4375CA940>, <__main__.DecisionNode object at 0x000002A4375CA7C0>, <__main__.DecisionNode object at 0x000002A4375CA760>, <__main__.DecisionNode object at 0x000002A4375CA760>, <__main__.DecisionNode object at 0x000002A4375CAB80>, <__main__.DecisionNode object at 0x000002A4375CAB80>, <__main__.DecisionNode object at 0x000002A4375CACA0>, <__main__.DecisionNode object at 0x000002A4375CAD60>, <__main__.DecisionNode object at 0x000002A4375CAE20>, <__main__.DecisionNode object at 0x000002A4375CAE20>, <__main__.DecisionNode object at 0x000002A4375CAF40>, <__main__.DecisionNode object at 0x000002A4375CAF40>, <__main__.DecisionNode object at 0x000002A4375CF0A0>, <__main__.DecisionNode object at 0x000002A4375CF250>, <__main__.DecisionNode object at 0x000002A4375CF250>, <__main__.DecisionNode object at 0x000002A4375CF160>, <__main__.DecisionNode object at 0x000002A4375CF340>, <__main__.DecisionNode object at 0x000002A4375CF3D0>, <__main__.DecisionNode object at 0x000002A4375CF3D0>, <__main__.DecisionNode object at 0x000002A4375CF340>, <__main__.DecisionNode object at 0x000002A4375CF580>, <__main__.DecisionNode object at 0x000002A4375CF580>, <__main__.DecisionNode object at 0x000002A4375CF790>, <__main__.DecisionNode object at 0x000002A4375CF790>, <__main__.DecisionNode object at 0x000002A4375CF6A0>, <__main__.DecisionNode object at 0x000002A4375CF880>, <__main__.DecisionNode object at 0x000002A4375CFA90>, <__main__.DecisionNode object at 0x000002A4375CFA90>, <__main__.DecisionNode object at 0x000002A4375CF9A0>, <__main__.DecisionNode object at 0x000002A4375CF910>, <__main__.DecisionNode object at 0x000002A4375CFD90>, <__main__.DecisionNode object at 0x000002A4375CFEB0>, <__main__.DecisionNode object at 0x000002A4375CFEB0>, <__main__.DecisionNode object at 0x000002A4375CFEB0>, <__main__.DecisionNode object at 0x000002A4375CFFA0>, <__main__.DecisionNode object at 0x000002A4375CFFA0>, <__main__.DecisionNode object at 0x000002A4375CFFA0>, <__main__.DecisionNode object at 0x000002A4375CB160>, <__main__.DecisionNode object at 0x000002A4375CB220>, <__main__.DecisionNode object at 0x000002A4375CB220>, <__main__.DecisionNode object at 0x000002A4375CFCD0>, <__main__.DecisionNode object at 0x000002A4375CB3A0>, <__main__.DecisionNode object at 0x000002A4375CB430>, <__main__.DecisionNode object at 0x000002A4375CB430>, <__main__.DecisionNode object at 0x000002A4375CB3A0>, <__main__.DecisionNode object at 0x000002A4375CB6D0>, <__main__.DecisionNode object at 0x000002A4375CB7C0>, <__main__.DecisionNode object at 0x000002A4375CB7C0>, <__main__.DecisionNode object at 0x000002A4375CB760>, <__main__.DecisionNode object at 0x000002A4375CB940>, <__main__.DecisionNode object at 0x000002A4375CBA00>, <__main__.DecisionNode object at 0x000002A4375CBA00>, <__main__.DecisionNode object at 0x000002A4375CB640>, <__main__.DecisionNode object at 0x000002A4375CBD30>, <__main__.DecisionNode object at 0x000002A4375CBD30>, <__main__.DecisionNode object at 0x000002A4375CBC10>, <__main__.DecisionNode object at 0x000002A4375CBC10>, <__main__.DecisionNode object at 0x000002A4375CBE80>, <__main__.DecisionNode object at 0x000002A4375CBE80>, <__main__.DecisionNode object at 0x000002A4375CBFA0>, <__main__.DecisionNode object at 0x000002A4375CBFA0>, <__main__.DecisionNode object at 0x000002A4375C8100>, <__main__.DecisionNode object at 0x000002A4375C8100>, <__main__.DecisionNode object at 0x000002A4375C8220>, <__main__.DecisionNode object at 0x000002A4375C8220>, <__main__.DecisionNode object at 0x000002A4375C8430>, <__main__.DecisionNode object at 0x000002A4375C8460>, <__main__.DecisionNode object at 0x000002A4375C8460>, <__main__.DecisionNode object at 0x000002A4375C85E0>, <__main__.DecisionNode object at 0x000002A4375C85E0>, <__main__.DecisionNode object at 0x000002A4375C8580>, <__main__.DecisionNode object at 0x000002A4375C8340>, <__main__.DecisionNode object at 0x000002A4375C88E0>, <__main__.DecisionNode object at 0x000002A4375C88E0>, <__main__.DecisionNode object at 0x000002A4375C8A00>, <__main__.DecisionNode object at 0x000002A4375C8A00>, <__main__.DecisionNode object at 0x000002A4375C8850>, <__main__.DecisionNode object at 0x000002A4375C88B0>, <__main__.DecisionNode object at 0x000002A4375C8BE0>, <__main__.DecisionNode object at 0x000002A4375C8CA0>, <__main__.DecisionNode object at 0x000002A4375C8CA0>, <__main__.DecisionNode object at 0x000002A4375C8BE0>, <__main__.DecisionNode object at 0x000002A4375C87C0>, <__main__.DecisionNode object at 0x000002A4375C8FD0>, <__main__.DecisionNode object at 0x000002A437513A60>, <__main__.DecisionNode object at 0x000002A437513BB0>, <__main__.DecisionNode object at 0x000002A437513BB0>, <__main__.DecisionNode object at 0x000002A4375C5070>, <__main__.DecisionNode object at 0x000002A437513CA0>, <__main__.DecisionNode object at 0x000002A437513CA0>, <__main__.DecisionNode object at 0x000002A437513DC0>, <__main__.DecisionNode object at 0x000002A437513E50>, <__main__.DecisionNode object at 0x000002A437513F40>, <__main__.DecisionNode object at 0x000002A437513F40>, <__main__.DecisionNode object at 0x000002A43752A0A0>, <__main__.DecisionNode object at 0x000002A43752A0A0>, <__main__.DecisionNode object at 0x000002A43752A2B0>, <__main__.DecisionNode object at 0x000002A43752A2E0>, <__main__.DecisionNode object at 0x000002A43752A2E0>, <__main__.DecisionNode object at 0x000002A43752A1C0>, <__main__.DecisionNode object at 0x000002A43752A4F0>, <__main__.DecisionNode object at 0x000002A43752A4F0>, <__main__.DecisionNode object at 0x000002A43752A640>, <__main__.DecisionNode object at 0x000002A43752A640>, <__main__.DecisionNode object at 0x000002A43752A7C0>, <__main__.DecisionNode object at 0x000002A43752A880>, <__main__.DecisionNode object at 0x000002A43752A880>, <__main__.DecisionNode object at 0x000002A43752A760>, <__main__.DecisionNode object at 0x000002A43752A760>, <__main__.DecisionNode object at 0x000002A43752A550>, <__main__.DecisionNode object at 0x000002A43752AAC0>, <__main__.DecisionNode object at 0x000002A43752AB80>, <__main__.DecisionNode object at 0x000002A43752AB80>, <__main__.DecisionNode object at 0x000002A43752AD00>, <__main__.DecisionNode object at 0x000002A43752AD00>, <__main__.DecisionNode object at 0x000002A43752ACA0>, <__main__.DecisionNode object at 0x000002A43752AAC0>, <__main__.DecisionNode object at 0x000002A43752AEE0>, <__main__.DecisionNode object at 0x000002A43752AF70>, <__main__.DecisionNode object at 0x000002A43752AF70>, <__main__.DecisionNode object at 0x000002A43752B1F0>, <__main__.DecisionNode object at 0x000002A43752B1F0>, <__main__.DecisionNode object at 0x000002A43752B100>, <__main__.DecisionNode object at 0x000002A43752B3D0>, <__main__.DecisionNode object at 0x000002A43752B460>, <__main__.DecisionNode object at 0x000002A43752B460>, <__main__.DecisionNode object at 0x000002A43752B340>, <__main__.DecisionNode object at 0x000002A43752B2E0>, <__main__.DecisionNode object at 0x000002A43752B2E0>, <__main__.DecisionNode object at 0x000002A43752B700>, <__main__.DecisionNode object at 0x000002A43752B7C0>, <__main__.DecisionNode object at 0x000002A43752B7C0>, <__main__.DecisionNode object at 0x000002A43752B700>, <__main__.DecisionNode object at 0x000002A43752BA30>, <__main__.DecisionNode object at 0x000002A43752BA60>, <__main__.DecisionNode object at 0x000002A43752BC10>, <__main__.DecisionNode object at 0x000002A43752BC40>, <__main__.DecisionNode object at 0x000002A43752BC40>, <__main__.DecisionNode object at 0x000002A43752BAF0>, <__main__.DecisionNode object at 0x000002A43752BE50>, <__main__.DecisionNode object at 0x000002A43752BE50>, <__main__.DecisionNode object at 0x000002A43752BEB0>, <__main__.DecisionNode object at 0x000002A43752BDC0>, <__main__.DecisionNode object at 0x000002A43752E850>, <__main__.DecisionNode object at 0x000002A43752E820>, <__main__.DecisionNode object at 0x000002A43752E820>, <__main__.DecisionNode object at 0x000002A43752E700>, <__main__.DecisionNode object at 0x000002A43752E3D0>, <__main__.DecisionNode object at 0x000002A43752E3D0>, <__main__.DecisionNode object at 0x000002A43752E280>, <__main__.DecisionNode object at 0x000002A43752E670>, <__main__.DecisionNode object at 0x000002A43752E9D0>, <__main__.DecisionNode object at 0x000002A43752E940>, <__main__.DecisionNode object at 0x000002A43752ECD0>, <__main__.DecisionNode object at 0x000002A43752ECD0>, <__main__.DecisionNode object at 0x000002A43752EEB0>, <__main__.DecisionNode object at 0x000002A43752EEB0>, <__main__.DecisionNode object at 0x000002A43752E0D0>, <__main__.DecisionNode object at 0x000002A43752E550>, <__main__.DecisionNode object at 0x000002A43752EBB0>, <__main__.DecisionNode object at 0x000002A43752EBB0>, <__main__.DecisionNode object at 0x000002A43752E490>, <__main__.DecisionNode object at 0x000002A43752E490>, <__main__.DecisionNode object at 0x000002A43752E4C0>, <__main__.DecisionNode object at 0x000002A43752EAC0>, <__main__.DecisionNode object at 0x000002A43752EAC0>, <__main__.DecisionNode object at 0x000002A4375361F0>, <__main__.DecisionNode object at 0x000002A4375361F0>, <__main__.DecisionNode object at 0x000002A437536250>, <__main__.DecisionNode object at 0x000002A437536250>, <__main__.DecisionNode object at 0x000002A437536460>, <__main__.DecisionNode object at 0x000002A4375364F0>, <__main__.DecisionNode object at 0x000002A4375364F0>, <__main__.DecisionNode object at 0x000002A437536460>, <__main__.DecisionNode object at 0x000002A437536400>, <__main__.DecisionNode object at 0x000002A437536100>, <__main__.DecisionNode object at 0x000002A437536760>, <__main__.DecisionNode object at 0x000002A437536760>, <__main__.DecisionNode object at 0x000002A437536880>, <__main__.DecisionNode object at 0x000002A437536880>, <__main__.DecisionNode object at 0x000002A4375369A0>, <__main__.DecisionNode object at 0x000002A437536A30>, <__main__.DecisionNode object at 0x000002A437536A30>, <__main__.DecisionNode object at 0x000002A4375369A0>, <__main__.DecisionNode object at 0x000002A437536C40>, <__main__.DecisionNode object at 0x000002A437536D90>, <__main__.DecisionNode object at 0x000002A437536D90>, <__main__.DecisionNode object at 0x000002A437536DF0>, <__main__.DecisionNode object at 0x000002A437536F40>, <__main__.DecisionNode object at 0x000002A437531040>, <__main__.DecisionNode object at 0x000002A437531040>, <__main__.DecisionNode object at 0x000002A437536D00>, <__main__.DecisionNode object at 0x000002A4375311C0>, <__main__.DecisionNode object at 0x000002A4375311C0>, <__main__.DecisionNode object at 0x000002A4375311C0>, <__main__.DecisionNode object at 0x000002A4375311C0>, <__main__.DecisionNode object at 0x000002A437531400>, <__main__.DecisionNode object at 0x000002A437531580>, <__main__.DecisionNode object at 0x000002A437531580>, <__main__.DecisionNode object at 0x000002A437531520>, <__main__.DecisionNode object at 0x000002A437531490>, <__main__.DecisionNode object at 0x000002A437531760>, <__main__.DecisionNode object at 0x000002A437531820>, <__main__.DecisionNode object at 0x000002A437531820>, <__main__.DecisionNode object at 0x000002A437531940>, <__main__.DecisionNode object at 0x000002A437531A90>, <__main__.DecisionNode object at 0x000002A437531A90>, <__main__.DecisionNode object at 0x000002A437531AF0>, <__main__.DecisionNode object at 0x000002A4375319D0>, <__main__.DecisionNode object at 0x000002A437531940>, <__main__.DecisionNode object at 0x000002A437531D60>, <__main__.DecisionNode object at 0x000002A437531E20>, <__main__.DecisionNode object at 0x000002A437531EE0>, <__main__.DecisionNode object at 0x000002A437531F70>, <__main__.DecisionNode object at 0x000002A437531F70>, <__main__.DecisionNode object at 0x000002A437531EE0>, <__main__.DecisionNode object at 0x000002A437531E20>, <__main__.DecisionNode object at 0x000002A437533A90>, <__main__.DecisionNode object at 0x000002A437533A00>, <__main__.DecisionNode object at 0x000002A437533A00>, <__main__.DecisionNode object at 0x000002A437533A90>, <__main__.DecisionNode object at 0x000002A437533880>, <__main__.DecisionNode object at 0x000002A437533280>, <__main__.DecisionNode object at 0x000002A437533280>, <__main__.DecisionNode object at 0x000002A437533130>, <__main__.DecisionNode object at 0x000002A437533520>, <__main__.DecisionNode object at 0x000002A437533520>, <__main__.DecisionNode object at 0x000002A437533610>, <__main__.DecisionNode object at 0x000002A4375339A0>, <__main__.DecisionNode object at 0x000002A4375339A0>, <__main__.DecisionNode object at 0x000002A437531D00>, <__main__.DecisionNode object at 0x000002A437533550>, <__main__.DecisionNode object at 0x000002A437533070>, <__main__.DecisionNode object at 0x000002A437533070>, <__main__.DecisionNode object at 0x000002A4375332E0>, <__main__.DecisionNode object at 0x000002A4375332E0>, <__main__.DecisionNode object at 0x000002A437533FD0>, <__main__.DecisionNode object at 0x000002A437533FD0>, <__main__.DecisionNode object at 0x000002A437533D60>, <__main__.DecisionNode object at 0x000002A437533D90>, <__main__.DecisionNode object at 0x000002A437527340>, <__main__.DecisionNode object at 0x000002A437527340>, <__main__.DecisionNode object at 0x000002A437527070>, <__main__.DecisionNode object at 0x000002A437527610>, <__main__.DecisionNode object at 0x000002A437527670>, <__main__.DecisionNode object at 0x000002A437527670>, <__main__.DecisionNode object at 0x000002A437527C10>, <__main__.DecisionNode object at 0x000002A437527C10>, <__main__.DecisionNode object at 0x000002A437527850>, <__main__.DecisionNode object at 0x000002A4375278E0>, <__main__.DecisionNode object at 0x000002A4375270A0>, <__main__.DecisionNode object at 0x000002A4375270D0>, <__main__.DecisionNode object at 0x000002A4375270D0>, <__main__.DecisionNode object at 0x000002A4375270A0>, <__main__.DecisionNode object at 0x000002A437527E50>, <__main__.DecisionNode object at 0x000002A437527E50>, <__main__.DecisionNode object at 0x000002A437527550>, <__main__.DecisionNode object at 0x000002A437527BB0>, <__main__.DecisionNode object at 0x000002A437527BB0>, <__main__.DecisionNode object at 0x000002A437527D90>, <__main__.DecisionNode object at 0x000002A437527D90>, <__main__.DecisionNode object at 0x000002A437527940>, <__main__.DecisionNode object at 0x000002A437527730>, <__main__.DecisionNode object at 0x000002A4375279D0>, <__main__.DecisionNode object at 0x000002A4375279D0>, <__main__.DecisionNode object at 0x000002A437248040>, <__main__.DecisionNode object at 0x000002A437248040>, <__main__.DecisionNode object at 0x000002A4372481C0>, <__main__.DecisionNode object at 0x000002A437248280>, <__main__.DecisionNode object at 0x000002A437248280>, <__main__.DecisionNode object at 0x000002A437248160>, <__main__.DecisionNode object at 0x000002A43752B6A0>, <__main__.DecisionNode object at 0x000002A4372485B0>, <__main__.DecisionNode object at 0x000002A4372484F0>, <__main__.DecisionNode object at 0x000002A437248670>, <__main__.DecisionNode object at 0x000002A437248670>, <__main__.DecisionNode object at 0x000002A4372485B0>, <__main__.DecisionNode object at 0x000002A437248550>, <__main__.DecisionNode object at 0x000002A437248910>, <__main__.DecisionNode object at 0x000002A4372489D0>, <__main__.DecisionNode object at 0x000002A4372489D0>, <__main__.DecisionNode object at 0x000002A4372489D0>, <__main__.DecisionNode object at 0x000002A437248970>, <__main__.DecisionNode object at 0x000002A437248880>, <__main__.DecisionNode object at 0x000002A437248C40>, <__main__.DecisionNode object at 0x000002A437248D00>, <__main__.DecisionNode object at 0x000002A437248EB0>, <__main__.DecisionNode object at 0x000002A437248EB0>, <__main__.DecisionNode object at 0x000002A437248DC0>, <__main__.DecisionNode object at 0x000002A437248FA0>, <__main__.DecisionNode object at 0x000002A43723D0A0>, <__main__.DecisionNode object at 0x000002A43723D160>, <__main__.DecisionNode object at 0x000002A43723D1F0>, <__main__.DecisionNode object at 0x000002A43723D1F0>, <__main__.DecisionNode object at 0x000002A43723D340>, <__main__.DecisionNode object at 0x000002A43723D340>, <__main__.DecisionNode object at 0x000002A437248FA0>, <__main__.DecisionNode object at 0x000002A43723D4C0>, <__main__.DecisionNode object at 0x000002A43723D4C0>, <__main__.DecisionNode object at 0x000002A43723D790>, <__main__.DecisionNode object at 0x000002A43723D790>, <__main__.DecisionNode object at 0x000002A43723D790>, <__main__.DecisionNode object at 0x000002A43723D6A0>, <__main__.DecisionNode object at 0x000002A43723D640>, <__main__.DecisionNode object at 0x000002A43723D5E0>, <__main__.DecisionNode object at 0x000002A43723D5E0>, <__main__.DecisionNode object at 0x000002A43723DA00>, <__main__.DecisionNode object at 0x000002A43723DA90>, <__main__.DecisionNode object at 0x000002A43723DA90>, <__main__.DecisionNode object at 0x000002A43723DBE0>, <__main__.DecisionNode object at 0x000002A43723DBE0>, <__main__.DecisionNode object at 0x000002A43723DDF0>, <__main__.DecisionNode object at 0x000002A43723DDF0>, <__main__.DecisionNode object at 0x000002A43723DF70>, <__main__.DecisionNode object at 0x000002A43723DF70>, <__main__.DecisionNode object at 0x000002A43723DE80>, <__main__.DecisionNode object at 0x000002A43723DD00>, <__main__.DecisionNode object at 0x000002A43723DD00>, <__main__.DecisionNode object at 0x000002A43724B1F0>, <__main__.DecisionNode object at 0x000002A43724B2B0>, <__main__.DecisionNode object at 0x000002A43724B2B0>, <__main__.DecisionNode object at 0x000002A43724B490>, <__main__.DecisionNode object at 0x000002A43724B490>, <__main__.DecisionNode object at 0x000002A43724B4F0>, <__main__.DecisionNode object at 0x000002A43724B6A0>, <__main__.DecisionNode object at 0x000002A43724B6A0>, <__main__.DecisionNode object at 0x000002A43724B640>, <__main__.DecisionNode object at 0x000002A43724B880>, <__main__.DecisionNode object at 0x000002A43724B910>, <__main__.DecisionNode object at 0x000002A43724B910>, <__main__.DecisionNode object at 0x000002A43724B820>, <__main__.DecisionNode object at 0x000002A43724BC10>, <__main__.DecisionNode object at 0x000002A43724BD30>, <__main__.DecisionNode object at 0x000002A43724BD30>, <__main__.DecisionNode object at 0x000002A43724BB50>, <__main__.DecisionNode object at 0x000002A43724BE20>, <__main__.DecisionNode object at 0x000002A4371508E0>, <__main__.DecisionNode object at 0x000002A437150AF0>, <__main__.DecisionNode object at 0x000002A437150B20>, <__main__.DecisionNode object at 0x000002A437150B20>, <__main__.DecisionNode object at 0x000002A437150A90>, <__main__.DecisionNode object at 0x000002A437150A30>, <__main__.DecisionNode object at 0x000002A437150A30>, <__main__.DecisionNode object at 0x000002A437150D60>, <__main__.DecisionNode object at 0x000002A437150F10>, <__main__.DecisionNode object at 0x000002A437150F10>, <__main__.DecisionNode object at 0x000002A437150DF0>, <__main__.DecisionNode object at 0x000002A437150D60>, <__main__.DecisionNode object at 0x000002A437184EB0>, <__main__.DecisionNode object at 0x000002A437184E20>, <__main__.DecisionNode object at 0x000002A437184D60>, <__main__.DecisionNode object at 0x000002A437184CA0>, <__main__.DecisionNode object at 0x000002A437184CA0>, <__main__.DecisionNode object at 0x000002A437184E20>, <__main__.DecisionNode object at 0x000002A437184EB0>, <__main__.DecisionNode object at 0x000002A437184A00>, <__main__.DecisionNode object at 0x000002A437184940>, <__main__.DecisionNode object at 0x000002A437184940>, <__main__.DecisionNode object at 0x000002A437184A60>, <__main__.DecisionNode object at 0x000002A4371847C0>, <__main__.DecisionNode object at 0x000002A4371847C0>, <__main__.DecisionNode object at 0x000002A437184AC0>, <__main__.DecisionNode object at 0x000002A437184640>, <__main__.DecisionNode object at 0x000002A437184580>, <__main__.DecisionNode object at 0x000002A4371844C0>, <__main__.DecisionNode object at 0x000002A4371844C0>, <__main__.DecisionNode object at 0x000002A437184640>, <__main__.DecisionNode object at 0x000002A437184190>, <__main__.DecisionNode object at 0x000002A437184190>, <__main__.DecisionNode object at 0x000002A437184220>, <__main__.DecisionNode object at 0x000002A437184220>, <__main__.DecisionNode object at 0x000002A437184310>, <__main__.DecisionNode object at 0x000002A4371842B0>, <__main__.DecisionNode object at 0x000002A4371842B0>, <__main__.DecisionNode object at 0x000002A43717E220>, <__main__.DecisionNode object at 0x000002A43717E2E0>, <__main__.DecisionNode object at 0x000002A43717E2E0>, <__main__.DecisionNode object at 0x000002A43717E1C0>, <__main__.DecisionNode object at 0x000002A43717E1C0>, <__main__.DecisionNode object at 0x000002A43717E520>, <__main__.DecisionNode object at 0x000002A43717E520>, <__main__.DecisionNode object at 0x000002A43717E4C0>, <__main__.DecisionNode object at 0x000002A43717E6A0>, <__main__.DecisionNode object at 0x000002A43717E760>, <__main__.DecisionNode object at 0x000002A43717E760>, <__main__.DecisionNode object at 0x000002A43717E880>, <__main__.DecisionNode object at 0x000002A43717E880>, <__main__.DecisionNode object at 0x000002A43717EB20>, <__main__.DecisionNode object at 0x000002A43717EBE0>, <__main__.DecisionNode object at 0x000002A43717EBE0>, <__main__.DecisionNode object at 0x000002A43717EA00>, <__main__.DecisionNode object at 0x000002A43717EDC0>, <__main__.DecisionNode object at 0x000002A43717EDC0>, <__main__.DecisionNode object at 0x000002A43717ED60>, <__main__.DecisionNode object at 0x000002A43717EFA0>, <__main__.DecisionNode object at 0x000002A43717EFA0>, <__main__.DecisionNode object at 0x000002A43717A160>, <__main__.DecisionNode object at 0x000002A43717A160>, <__main__.DecisionNode object at 0x000002A43717A100>, <__main__.DecisionNode object at 0x000002A43717A340>, <__main__.DecisionNode object at 0x000002A43717A340>, <__main__.DecisionNode object at 0x000002A43717A2E0>, <__main__.DecisionNode object at 0x000002A43717A520>, <__main__.DecisionNode object at 0x000002A43717A520>, <__main__.DecisionNode object at 0x000002A43717A640>, <__main__.DecisionNode object at 0x000002A43717A640>, <__main__.DecisionNode object at 0x000002A43717A4C0>, <__main__.DecisionNode object at 0x000002A43717A7C0>, <__main__.DecisionNode object at 0x000002A43717A940>, <__main__.DecisionNode object at 0x000002A43717A940>, <__main__.DecisionNode object at 0x000002A43717A8E0>, <__main__.DecisionNode object at 0x000002A43717A880>, <__main__.DecisionNode object at 0x000002A43717A880>, <__main__.DecisionNode object at 0x000002A43717AB80>, <__main__.DecisionNode object at 0x000002A43717AC40>, <__main__.DecisionNode object at 0x000002A43717AC40>, <__main__.DecisionNode object at 0x000002A43717AB80>, <__main__.DecisionNode object at 0x000002A43717AF40>, <__main__.DecisionNode object at 0x000002A43717AF40>, <__main__.DecisionNode object at 0x000002A43717AE20>, <__main__.DecisionNode object at 0x000002A43717AF10>, <__main__.DecisionNode object at 0x000002A437172E80>, <__main__.DecisionNode object at 0x000002A437172DC0>, <__main__.DecisionNode object at 0x000002A437172DC0>, <__main__.DecisionNode object at 0x000002A43717AEB0>, <__main__.DecisionNode object at 0x000002A43717ADC0>, <__main__.DecisionNode object at 0x000002A437172BE0>, <__main__.DecisionNode object at 0x000002A437172A30>, <__main__.DecisionNode object at 0x000002A437172A30>, <__main__.DecisionNode object at 0x000002A437172AC0>, <__main__.DecisionNode object at 0x000002A437172AC0>, <__main__.DecisionNode object at 0x000002A437172BB0>, <__main__.DecisionNode object at 0x000002A437172820>, <__main__.DecisionNode object at 0x000002A4371726D0>, <__main__.DecisionNode object at 0x000002A437172700>, <__main__.DecisionNode object at 0x000002A437172700>, <__main__.DecisionNode object at 0x000002A437172520>, <__main__.DecisionNode object at 0x000002A437172400>, <__main__.DecisionNode object at 0x000002A437172400>, <__main__.DecisionNode object at 0x000002A4371724F0>, <__main__.DecisionNode object at 0x000002A4371727F0>, <__main__.DecisionNode object at 0x000002A437172130>, <__main__.DecisionNode object at 0x000002A4371720A0>, <__main__.DecisionNode object at 0x000002A4371720A0>, <__main__.DecisionNode object at 0x000002A43716D0A0>, <__main__.DecisionNode object at 0x000002A43716D0A0>, <__main__.DecisionNode object at 0x000002A43716D2B0>, <__main__.DecisionNode object at 0x000002A43716D2B0>, <__main__.DecisionNode object at 0x000002A43716D1C0>, <__main__.DecisionNode object at 0x000002A43716D3A0>, <__main__.DecisionNode object at 0x000002A43716D3A0>, <__main__.DecisionNode object at 0x000002A43716D5B0>, <__main__.DecisionNode object at 0x000002A43716D5B0>, <__main__.DecisionNode object at 0x000002A43716D5B0>, <__main__.DecisionNode object at 0x000002A43716D5B0>, <__main__.DecisionNode object at 0x000002A43716D700>, <__main__.DecisionNode object at 0x000002A43716D700>, <__main__.DecisionNode object at 0x000002A43716D820>, <__main__.DecisionNode object at 0x000002A43716D820>, <__main__.DecisionNode object at 0x000002A43716D700>, <__main__.DecisionNode object at 0x000002A43716DA90>, <__main__.DecisionNode object at 0x000002A43716DAC0>, <__main__.DecisionNode object at 0x000002A43716DB50>, <__main__.DecisionNode object at 0x000002A43716DB50>, <__main__.DecisionNode object at 0x000002A43716DAC0>, <__main__.DecisionNode object at 0x000002A43716DD00>, <__main__.DecisionNode object at 0x000002A43716DD00>, <__main__.DecisionNode object at 0x000002A43716DE20>, <__main__.DecisionNode object at 0x000002A43716DE20>, <__main__.DecisionNode object at 0x000002A43716DE20>, <__main__.DecisionNode object at 0x000002A43716D9A0>, <__main__.DecisionNode object at 0x000002A4371680A0>, <__main__.DecisionNode object at 0x000002A4371680A0>, <__main__.DecisionNode object at 0x000002A437168280>, <__main__.DecisionNode object at 0x000002A437168280>, <__main__.DecisionNode object at 0x000002A437168190>, <__main__.DecisionNode object at 0x000002A437168130>, <__main__.DecisionNode object at 0x000002A437168550>, <__main__.DecisionNode object at 0x000002A437168550>, <__main__.DecisionNode object at 0x000002A4371686D0>, <__main__.DecisionNode object at 0x000002A4371686D0>, <__main__.DecisionNode object at 0x000002A4371685E0>, <__main__.DecisionNode object at 0x000002A437168460>, <__main__.DecisionNode object at 0x000002A437168040>, <__main__.DecisionNode object at 0x000002A437168970>, <__main__.DecisionNode object at 0x000002A437168970>, <__main__.DecisionNode object at 0x000002A4371689D0>, <__main__.DecisionNode object at 0x000002A4371689D0>, <__main__.DecisionNode object at 0x000002A437168B80>, <__main__.DecisionNode object at 0x000002A437168B80>, <__main__.DecisionNode object at 0x000002A4371688E0>, <__main__.DecisionNode object at 0x000002A437168E50>, <__main__.DecisionNode object at 0x000002A437168E50>, <__main__.DecisionNode object at 0x000002A437168EE0>, <__main__.DecisionNode object at 0x000002A437168FA0>, <__main__.DecisionNode object at 0x000002A437161FD0>, <__main__.DecisionNode object at 0x000002A437161FD0>, <__main__.DecisionNode object at 0x000002A437161DC0>, <__main__.DecisionNode object at 0x000002A437161CD0>, <__main__.DecisionNode object at 0x000002A437161CD0>, <__main__.DecisionNode object at 0x000002A437161C70>, <__main__.DecisionNode object at 0x000002A437161D90>, <__main__.DecisionNode object at 0x000002A437161DC0>, <__main__.DecisionNode object at 0x000002A437161A00>, <__main__.DecisionNode object at 0x000002A437161880>, <__main__.DecisionNode object at 0x000002A437161880>, <__main__.DecisionNode object at 0x000002A4371618E0>, <__main__.DecisionNode object at 0x000002A4371619D0>, <__main__.DecisionNode object at 0x000002A47FD202E0>, <__main__.DecisionNode object at 0x000002A47FD204C0>, <__main__.DecisionNode object at 0x000002A47FD204C0>, <__main__.DecisionNode object at 0x000002A47FD205B0>, <__main__.DecisionNode object at 0x000002A47FD20550>, <__main__.DecisionNode object at 0x000002A47FD20760>, <__main__.DecisionNode object at 0x000002A47FD20760>, <__main__.DecisionNode object at 0x000002A47FD208E0>, <__main__.DecisionNode object at 0x000002A47FD208E0>, <__main__.DecisionNode object at 0x000002A47FD20880>, <__main__.DecisionNode object at 0x000002A47FD20B50>, <__main__.DecisionNode object at 0x000002A47FD20BE0>, <__main__.DecisionNode object at 0x000002A47FD20BE0>, <__main__.DecisionNode object at 0x000002A47FD20AC0>, <__main__.DecisionNode object at 0x000002A47FD20DF0>, <__main__.DecisionNode object at 0x000002A47FD20DF0>, <__main__.DecisionNode object at 0x000002A47FD20E50>, <__main__.DecisionNode object at 0x000002A47FD20D60>, <__main__.DecisionNode object at 0x000002A47FD1C130>, <__main__.DecisionNode object at 0x000002A47FD1C160>, <__main__.DecisionNode object at 0x000002A47FD1C160>, <__main__.DecisionNode object at 0x000002A47FD1C040>, <__main__.DecisionNode object at 0x000002A47FD1C2E0>, <__main__.DecisionNode object at 0x000002A47FD1C2E0>, <__main__.DecisionNode object at 0x000002A47FD1C400>, <__main__.DecisionNode object at 0x000002A47FD1C5B0>, <__main__.DecisionNode object at 0x000002A47FD1C5B0>, <__main__.DecisionNode object at 0x000002A47FD1C4C0>, <__main__.DecisionNode object at 0x000002A47FD1C790>, <__main__.DecisionNode object at 0x000002A47FD1C7C0>, <__main__.DecisionNode object at 0x000002A47FD1C880>, <__main__.DecisionNode object at 0x000002A47FD1C9A0>, <__main__.DecisionNode object at 0x000002A47FD1C9A0>, <__main__.DecisionNode object at 0x000002A47FD1C910>, <__main__.DecisionNode object at 0x000002A47FD1C790>, <__main__.DecisionNode object at 0x000002A47FD1CCD0>, <__main__.DecisionNode object at 0x000002A47FD1CCD0>, <__main__.DecisionNode object at 0x000002A47FD1CBE0>, <__main__.DecisionNode object at 0x000002A47FD1CBE0>, <__main__.DecisionNode object at 0x000002A47FD1CF10>, <__main__.DecisionNode object at 0x000002A47FD1CF40>, <__main__.DecisionNode object at 0x000002A47FD1CF40>, <__main__.DecisionNode object at 0x000002A47FD1D100>, <__main__.DecisionNode object at 0x000002A47FD1D100>, <__main__.DecisionNode object at 0x000002A47FD1D0A0>, <__main__.DecisionNode object at 0x000002A47FD1CE20>, <__main__.DecisionNode object at 0x000002A47FD1D430>, <__main__.DecisionNode object at 0x000002A47FD1D4C0>, <__main__.DecisionNode object at 0x000002A47FD1D4C0>, <__main__.DecisionNode object at 0x000002A47FD1D370>, <__main__.DecisionNode object at 0x000002A47FD1D3D0>, <__main__.DecisionNode object at 0x000002A47FD1D3D0>, <__main__.DecisionNode object at 0x000002A47FD1D7F0>, <__main__.DecisionNode object at 0x000002A47FD1D880>, <__main__.DecisionNode object at 0x000002A47FD1D880>, <__main__.DecisionNode object at 0x000002A47FD1D760>, <__main__.DecisionNode object at 0x000002A47FD1DAF0>, <__main__.DecisionNode object at 0x000002A47FD1DB20>, <__main__.DecisionNode object at 0x000002A47FD1DB20>, <__main__.DecisionNode object at 0x000002A47FD1DCA0>, <__main__.DecisionNode object at 0x000002A47FD1DCA0>, <__main__.DecisionNode object at 0x000002A47FD1DC40>, <__main__.DecisionNode object at 0x000002A47FD1D700>, <__main__.DecisionNode object at 0x000002A47FD1D2E0>, <__main__.DecisionNode object at 0x000002A47FD1D2E0>, <__main__.DecisionNode object at 0x000002A47FD1DFD0>, <__main__.DecisionNode object at 0x000002A47FD1DFD0>, <__main__.DecisionNode object at 0x000002A47FD16160>, <__main__.DecisionNode object at 0x000002A47FD16160>, <__main__.DecisionNode object at 0x000002A47FD16100>, <__main__.DecisionNode object at 0x000002A47FD1DFD0>, <__main__.DecisionNode object at 0x000002A47FD1DF40>, <__main__.DecisionNode object at 0x000002A47FD164C0>, <__main__.DecisionNode object at 0x000002A47FD164C0>, <__main__.DecisionNode object at 0x000002A47FD166D0>, <__main__.DecisionNode object at 0x000002A47FD166D0>, <__main__.DecisionNode object at 0x000002A47FD165E0>, <__main__.DecisionNode object at 0x000002A47FD167C0>, <__main__.DecisionNode object at 0x000002A47FD16850>, <__main__.DecisionNode object at 0x000002A47FD16850>, <__main__.DecisionNode object at 0x000002A47FD169A0>, <__main__.DecisionNode object at 0x000002A47FD16AC0>, <__main__.DecisionNode object at 0x000002A47FD16AC0>, <__main__.DecisionNode object at 0x000002A47FD16A30>, <__main__.DecisionNode object at 0x000002A47FD16490>, <__main__.DecisionNode object at 0x000002A47FD16DF0>, <__main__.DecisionNode object at 0x000002A47FD16DF0>, <__main__.DecisionNode object at 0x000002A47FD16E80>, <__main__.DecisionNode object at 0x000002A47FD16F40>, <__main__.DecisionNode object at 0x000002A47FD16F40>, <__main__.DecisionNode object at 0x000002A47FD180A0>, <__main__.DecisionNode object at 0x000002A47FD180A0>, <__main__.DecisionNode object at 0x000002A47FD16D00>, <__main__.DecisionNode object at 0x000002A47FD16CA0>, <__main__.DecisionNode object at 0x000002A47FD182E0>, <__main__.DecisionNode object at 0x000002A47FD18370>, <__main__.DecisionNode object at 0x000002A47FD18430>, <__main__.DecisionNode object at 0x000002A47FD18520>, <__main__.DecisionNode object at 0x000002A47FD18520>, <__main__.DecisionNode object at 0x000002A47FD182E0>, <__main__.DecisionNode object at 0x000002A47FD18280>, <__main__.DecisionNode object at 0x000002A47FD18700>, <__main__.DecisionNode object at 0x000002A47FD18700>, <__main__.DecisionNode object at 0x000002A47FD18820>, <__main__.DecisionNode object at 0x000002A47FD18820>, <__main__.DecisionNode object at 0x000002A47FD18280>, <__main__.DecisionNode object at 0x000002A47FD18A90>, <__main__.DecisionNode object at 0x000002A47FD18A90>, <__main__.DecisionNode object at 0x000002A47FD18B20>, <__main__.DecisionNode object at 0x000002A47FD18B20>, <__main__.DecisionNode object at 0x000002A47FD189A0>, <__main__.DecisionNode object at 0x000002A47FD18CA0>, <__main__.DecisionNode object at 0x000002A47FD18CA0>, <__main__.DecisionNode object at 0x000002A47FD18DC0>, <__main__.DecisionNode object at 0x000002A47FD18DC0>, <__main__.DecisionNode object at 0x000002A47FD189A0>, <__main__.DecisionNode object at 0x000002A47FD11130>, <__main__.DecisionNode object at 0x000002A47FD11160>, <__main__.DecisionNode object at 0x000002A43701AC40>, <__main__.DecisionNode object at 0x000002A43701AE50>, <__main__.DecisionNode object at 0x000002A43701AE50>, <__main__.DecisionNode object at 0x000002A43701AD30>, <__main__.DecisionNode object at 0x000002A43701AD90>, <__main__.DecisionNode object at 0x000002A43701AFA0>, <__main__.DecisionNode object at 0x000002A437019130>, <__main__.DecisionNode object at 0x000002A437019130>, <__main__.DecisionNode object at 0x000002A437019190>, <__main__.DecisionNode object at 0x000002A4370190A0>, <__main__.DecisionNode object at 0x000002A437019340>, <__main__.DecisionNode object at 0x000002A437019400>, <__main__.DecisionNode object at 0x000002A437019490>, <__main__.DecisionNode object at 0x000002A437019580>, <__main__.DecisionNode object at 0x000002A437019580>, <__main__.DecisionNode object at 0x000002A4370196A0>, <__main__.DecisionNode object at 0x000002A437019850>, <__main__.DecisionNode object at 0x000002A437019850>, <__main__.DecisionNode object at 0x000002A4370198B0>, <__main__.DecisionNode object at 0x000002A4370197C0>, <__main__.DecisionNode object at 0x000002A437019730>, <__main__.DecisionNode object at 0x000002A4370196A0>, <__main__.DecisionNode object at 0x000002A4370196A0>, <__main__.DecisionNode object at 0x000002A437019B80>, <__main__.DecisionNode object at 0x000002A437019C40>, <__main__.DecisionNode object at 0x000002A437019D60>, <__main__.DecisionNode object at 0x000002A437019E80>, <__main__.DecisionNode object at 0x000002A437019E80>, <__main__.DecisionNode object at 0x000002A437019DF0>, <__main__.DecisionNode object at 0x000002A437019CD0>, <__main__.DecisionNode object at 0x000002A437019B80>, <__main__.DecisionNode object at 0x000002A437019B80>, <__main__.DecisionNode object at 0x000002A437016250>, <__main__.DecisionNode object at 0x000002A437016340>, <__main__.DecisionNode object at 0x000002A4370164F0>, <__main__.DecisionNode object at 0x000002A4370164F0>, <__main__.DecisionNode object at 0x000002A437016580>, <__main__.DecisionNode object at 0x000002A437016580>, <__main__.DecisionNode object at 0x000002A4370167F0>, <__main__.DecisionNode object at 0x000002A4370167F0>, <__main__.DecisionNode object at 0x000002A437016700>, <__main__.DecisionNode object at 0x000002A4370166A0>, <__main__.DecisionNode object at 0x000002A437016AF0>, <__main__.DecisionNode object at 0x000002A437016AF0>, <__main__.DecisionNode object at 0x000002A437016A90>, <__main__.DecisionNode object at 0x000002A4370169A0>, <__main__.DecisionNode object at 0x000002A4370169A0>, <__main__.DecisionNode object at 0x000002A437016CA0>, <__main__.DecisionNode object at 0x000002A437016DC0>, <__main__.DecisionNode object at 0x000002A437016DC0>, <__main__.DecisionNode object at 0x000002A437016EE0>, <__main__.DecisionNode object at 0x000002A437016EE0>, <__main__.DecisionNode object at 0x000002A437012040>, <__main__.DecisionNode object at 0x000002A437012100>, <__main__.DecisionNode object at 0x000002A437012100>, <__main__.DecisionNode object at 0x000002A437012220>, <__main__.DecisionNode object at 0x000002A437012220>, <__main__.DecisionNode object at 0x000002A437012340>, <__main__.DecisionNode object at 0x000002A437012400>, <__main__.DecisionNode object at 0x000002A437012490>, <__main__.DecisionNode object at 0x000002A437012490>, <__main__.DecisionNode object at 0x000002A437012640>, <__main__.DecisionNode object at 0x000002A4370127F0>, <__main__.DecisionNode object at 0x000002A4370127F0>, <__main__.DecisionNode object at 0x000002A437012850>, <__main__.DecisionNode object at 0x000002A437012760>, <__main__.DecisionNode object at 0x000002A437012700>, <__main__.DecisionNode object at 0x000002A437012AC0>, <__main__.DecisionNode object at 0x000002A437012BE0>, <__main__.DecisionNode object at 0x000002A437012BE0>, <__main__.DecisionNode object at 0x000002A437012B50>, <__main__.DecisionNode object at 0x000002A437012E50>, <__main__.DecisionNode object at 0x000002A437012E80>, <__main__.DecisionNode object at 0x000002A437012E80>, <__main__.DecisionNode object at 0x000002A437012D60>, <__main__.DecisionNode object at 0x000002A4370125E0>, <__main__.DecisionNode object at 0x000002A4370100A0>, <__main__.DecisionNode object at 0x000002A4370100A0>, <__main__.DecisionNode object at 0x000002A4370101C0>, <__main__.DecisionNode object at 0x000002A437010280>, <__main__.DecisionNode object at 0x000002A437010310>, <__main__.DecisionNode object at 0x000002A437010400>, <__main__.DecisionNode object at 0x000002A437010400>, <__main__.DecisionNode object at 0x000002A4370106D0>, <__main__.DecisionNode object at 0x000002A4370107C0>, <__main__.DecisionNode object at 0x000002A4370107C0>, <__main__.DecisionNode object at 0x000002A437010730>, <__main__.DecisionNode object at 0x000002A437010A90>, <__main__.DecisionNode object at 0x000002A437010A90>, <__main__.DecisionNode object at 0x000002A4370109A0>, <__main__.DecisionNode object at 0x000002A437010B80>, <__main__.DecisionNode object at 0x000002A437010B80>, <__main__.DecisionNode object at 0x000002A437010D90>, <__main__.DecisionNode object at 0x000002A437010D90>, <__main__.DecisionNode object at 0x000002A437010CA0>, <__main__.DecisionNode object at 0x000002A437010F70>, <__main__.DecisionNode object at 0x000002A436FE30D0>, <__main__.DecisionNode object at 0x000002A436FE30D0>, <__main__.DecisionNode object at 0x000002A437010FA0>, <__main__.DecisionNode object at 0x000002A437010FA0>, <__main__.DecisionNode object at 0x000002A437010E80>, <__main__.DecisionNode object at 0x000002A436FE32E0>, <__main__.DecisionNode object at 0x000002A436FE3370>, <__main__.DecisionNode object at 0x000002A47FF4BE20>, <__main__.DecisionNode object at 0x000002A47FF4BF70>, <__main__.DecisionNode object at 0x000002A47FF4BEE0>, <__main__.DecisionNode object at 0x000002A47FF4BEE0>, <__main__.DecisionNode object at 0x000002A47FF431F0>, <__main__.DecisionNode object at 0x000002A47FF43160>, <__main__.DecisionNode object at 0x000002A47FF43160>, <__main__.DecisionNode object at 0x000002A47FF43100>, <__main__.DecisionNode object at 0x000002A47FF43100>, <__main__.DecisionNode object at 0x000002A47FF434F0>, <__main__.DecisionNode object at 0x000002A47FF434F0>, <__main__.DecisionNode object at 0x000002A47FF43550>, <__main__.DecisionNode object at 0x000002A47FF43460>, <__main__.DecisionNode object at 0x000002A47FF43460>, <__main__.DecisionNode object at 0x000002A47FF437F0>, <__main__.DecisionNode object at 0x000002A47FF438B0>, <__main__.DecisionNode object at 0x000002A47FF438B0>, <__main__.DecisionNode object at 0x000002A47FF43A00>, <__main__.DecisionNode object at 0x000002A47FF43A90>, <__main__.DecisionNode object at 0x000002A47FF43A90>, <__main__.DecisionNode object at 0x000002A47FF43A00>, <__main__.DecisionNode object at 0x000002A47FF43C40>, <__main__.DecisionNode object at 0x000002A47FF43C40>, <__main__.DecisionNode object at 0x000002A47FE08760>, <__main__.DecisionNode object at 0x000002A47FE088B0>, <__main__.DecisionNode object at 0x000002A437093400>, <__main__.DecisionNode object at 0x000002A47FE089A0>, <__main__.DecisionNode object at 0x000002A47FE08940>, <__main__.DecisionNode object at 0x000002A47FE088E0>, <__main__.DecisionNode object at 0x000002A4370935E0>, <__main__.DecisionNode object at 0x000002A4370936A0>, <__main__.DecisionNode object at 0x000002A437093730>, <__main__.DecisionNode object at 0x000002A437093820>, <__main__.DecisionNode object at 0x000002A437093820>, <__main__.DecisionNode object at 0x000002A4370939A0>, <__main__.DecisionNode object at 0x000002A437093A60>, <__main__.DecisionNode object at 0x000002A437093A60>, <__main__.DecisionNode object at 0x000002A437125640>, <__main__.DecisionNode object at 0x000002A437093BE0>, <__main__.DecisionNode object at 0x000002A437125730>, <__main__.DecisionNode object at 0x000002A437125880>, <__main__.DecisionNode object at 0x000002A437125880>, <__main__.DecisionNode object at 0x000002A4371257F0>, <__main__.DecisionNode object at 0x000002A437093940>, <__main__.DecisionNode object at 0x000002A437125BB0>, <__main__.DecisionNode object at 0x000002A437125D90>, <__main__.DecisionNode object at 0x000002A437125DC0>, <__main__.DecisionNode object at 0x000002A437125DC0>, <__main__.DecisionNode object at 0x000002A437125C70>, <__main__.DecisionNode object at 0x000002A437125CD0>, <__main__.DecisionNode object at 0x000002A437125B20>, <__main__.DecisionNode object at 0x000002A437129040>, <__main__.DecisionNode object at 0x000002A4371290D0>, <__main__.DecisionNode object at 0x000002A4371291C0>, <__main__.DecisionNode object at 0x000002A4371291C0>, <__main__.DecisionNode object at 0x000002A437129370>, <__main__.DecisionNode object at 0x000002A437129460>, <__main__.DecisionNode object at 0x000002A437129460>, <__main__.DecisionNode object at 0x000002A4371296D0>, <__main__.DecisionNode object at 0x000002A4371296D0>, <__main__.DecisionNode object at 0x000002A4371295E0>, <__main__.DecisionNode object at 0x000002A437129580>, <__main__.DecisionNode object at 0x000002A437129970>, <__main__.DecisionNode object at 0x000002A437129970>, <__main__.DecisionNode object at 0x000002A437129880>, <__main__.DecisionNode object at 0x000002A437129B50>, <__main__.DecisionNode object at 0x000002A437129B80>, <__main__.DecisionNode object at 0x000002A437129B80>, <__main__.DecisionNode object at 0x000002A437129A60>, <__main__.DecisionNode object at 0x000002A437129E50>, <__main__.DecisionNode object at 0x000002A437129DC0>, <__main__.DecisionNode object at 0x000002A437129DC0>, <__main__.DecisionNode object at 0x000002A43712C0D0>, <__main__.DecisionNode object at 0x000002A43712C0D0>, <__main__.DecisionNode object at 0x000002A437129FA0>, <__main__.DecisionNode object at 0x000002A437129D60>, <__main__.DecisionNode object at 0x000002A437129D00>, <__main__.DecisionNode object at 0x000002A43712C490>, <__main__.DecisionNode object at 0x000002A43712C490>, <__main__.DecisionNode object at 0x000002A43712C520>, <__main__.DecisionNode object at 0x000002A43712C5E0>, <__main__.DecisionNode object at 0x000002A43712C5E0>, <__main__.DecisionNode object at 0x000002A43712C3D0>, <__main__.DecisionNode object at 0x000002A43712C370>, <__main__.DecisionNode object at 0x000002A43712C8B0>, <__main__.DecisionNode object at 0x000002A43712C8E0>, <__main__.DecisionNode object at 0x000002A43712C9A0>, <__main__.DecisionNode object at 0x000002A43712C9A0>, <__main__.DecisionNode object at 0x000002A43712C7C0>, <__main__.DecisionNode object at 0x000002A43712CC10>, <__main__.DecisionNode object at 0x000002A43712CC40>, <__main__.DecisionNode object at 0x000002A43712CD60>, <__main__.DecisionNode object at 0x000002A43712CD60>, <__main__.DecisionNode object at 0x000002A43712CCD0>, <__main__.DecisionNode object at 0x000002A43712CFD0>, <__main__.DecisionNode object at 0x000002A43712E0A0>, <__main__.DecisionNode object at 0x000002A43712E0A0>, <__main__.DecisionNode object at 0x000002A43712CF40>, <__main__.DecisionNode object at 0x000002A43712E220>, <__main__.DecisionNode object at 0x000002A43712E2B0>, <__main__.DecisionNode object at 0x000002A43712E2B0>, <__main__.DecisionNode object at 0x000002A43712E520>, <__main__.DecisionNode object at 0x000002A43712E520>, <__main__.DecisionNode object at 0x000002A43712E640>, <__main__.DecisionNode object at 0x000002A43712E760>, <__main__.DecisionNode object at 0x000002A43712E760>, <__main__.DecisionNode object at 0x000002A43712E6D0>, <__main__.DecisionNode object at 0x000002A43712E9D0>, <__main__.DecisionNode object at 0x000002A43712EAF0>, <__main__.DecisionNode object at 0x000002A43712EAF0>, <__main__.DecisionNode object at 0x000002A43712EB80>, <__main__.DecisionNode object at 0x000002A43712EB80>, <__main__.DecisionNode object at 0x000002A43712EA00>, <__main__.DecisionNode object at 0x000002A43712ED00>, <__main__.DecisionNode object at 0x000002A43712EEB0>, <__main__.DecisionNode object at 0x000002A43712EEB0>, <__main__.DecisionNode object at 0x000002A43712EF40>, <__main__.DecisionNode object at 0x000002A43712EF40>, <__main__.DecisionNode object at 0x000002A43712EDC0>, <__main__.DecisionNode object at 0x000002A437130160>, <__main__.DecisionNode object at 0x000002A437130220>, <__main__.DecisionNode object at 0x000002A437130340>, <__main__.DecisionNode object at 0x000002A437130340>, <__main__.DecisionNode object at 0x000002A4371302B0>, <__main__.DecisionNode object at 0x000002A437130610>, <__main__.DecisionNode object at 0x000002A437130610>, <__main__.DecisionNode object at 0x000002A4371306A0>, <__main__.DecisionNode object at 0x000002A4371306A0>, <__main__.DecisionNode object at 0x000002A4371308B0>, <__main__.DecisionNode object at 0x000002A4371308B0>, <__main__.DecisionNode object at 0x000002A4371307C0>, <__main__.DecisionNode object at 0x000002A4371309A0>, <__main__.DecisionNode object at 0x000002A437130A60>, <__main__.DecisionNode object at 0x000002A437130AF0>, <__main__.DecisionNode object at 0x000002A437130AF0>, <__main__.DecisionNode object at 0x000002A43712E4F0>, <__main__.DecisionNode object at 0x000002A437130D60>, <__main__.DecisionNode object at 0x000002A437130D60>, <__main__.DecisionNode object at 0x000002A437130F10>, <__main__.DecisionNode object at 0x000002A437130F10>, <__main__.DecisionNode object at 0x000002A437130F70>, <__main__.DecisionNode object at 0x000002A437130E80>, <__main__.DecisionNode object at 0x000002A4371331F0>, <__main__.DecisionNode object at 0x000002A4371332E0>, <__main__.DecisionNode object at 0x000002A4371332E0>, <__main__.DecisionNode object at 0x000002A437133250>, <__main__.DecisionNode object at 0x000002A437133250>, <__main__.DecisionNode object at 0x000002A4371334C0>, <__main__.DecisionNode object at 0x000002A437133580>, <__main__.DecisionNode object at 0x000002A437133580>, <__main__.DecisionNode object at 0x000002A4371336A0>, <__main__.DecisionNode object at 0x000002A4371336A0>, <__main__.DecisionNode object at 0x000002A437133820>, <__main__.DecisionNode object at 0x000002A437133A30>, <__main__.DecisionNode object at 0x000002A437133A30>, <__main__.DecisionNode object at 0x000002A437133940>, <__main__.DecisionNode object at 0x000002A437133940>, <__main__.DecisionNode object at 0x000002A437133C70>, <__main__.DecisionNode object at 0x000002A437133C70>, <__main__.DecisionNode object at 0x000002A437133D00>, <__main__.DecisionNode object at 0x000002A437133D00>, <__main__.DecisionNode object at 0x000002A437133B80>, <__main__.DecisionNode object at 0x000002A437133F70>, <__main__.DecisionNode object at 0x000002A437133FA0>, <__main__.DecisionNode object at 0x000002A437133FA0>, <__main__.DecisionNode object at 0x000002A437133E80>, <__main__.DecisionNode object at 0x000002A437A47F40>, <__main__.DecisionNode object at 0x000002A4371352B0>, <__main__.DecisionNode object at 0x000002A437A45070>, <__main__.DecisionNode object at 0x000002A437A45130>, <__main__.DecisionNode object at 0x000002A437A45130>, <__main__.DecisionNode object at 0x000002A437A45370>, <__main__.DecisionNode object at 0x000002A437A45370>, <__main__.DecisionNode object at 0x000002A437A45400>, <__main__.DecisionNode object at 0x000002A437A454C0>, <__main__.DecisionNode object at 0x000002A437A454C0>, <__main__.DecisionNode object at 0x000002A437A455E0>, <__main__.DecisionNode object at 0x000002A437A45700>, <__main__.DecisionNode object at 0x000002A437A45700>, <__main__.DecisionNode object at 0x000002A437A45820>, <__main__.DecisionNode object at 0x000002A437A45820>, <__main__.DecisionNode object at 0x000002A437A45940>, <__main__.DecisionNode object at 0x000002A437A45940>, <__main__.DecisionNode object at 0x000002A437A45940>]\n"
     ]
    }
   ],
   "source": [
    "relevant_parent = tree_gini.only_child([])\n"
   ]
  },
  {
   "cell_type": "markdown",
   "metadata": {},
   "source": [
    "## Chi square pre-pruning\n",
    "\n",
    "Consider the following p-value cut-off values: [1 (no pruning), 0.5, 0.25, 0.1, 0.05, 0.0001 (max pruning)]. For each value, construct a tree and prune it according to the cut-off value. Next, calculate the training and testing accuracy. On a single plot, draw the training and testing accuracy as a function of the tuple (p-value, tree depth). Mark the best result on the graph with red circle. (15 points)"
   ]
  },
  {
   "cell_type": "code",
   "execution_count": null,
   "metadata": {},
   "outputs": [],
   "source": [
    "### Chi square table values ###\n",
    "# The first key is the degree of freedom \n",
    "# The second key is the p-value cut-off\n",
    "# The values are the chi-statistic that you need to use in the pruning\n",
    "chi_table = {1: {0.5 : 0.45,\n",
    "                 0.25 : 1.32,\n",
    "                 0.1 : 2.71,\n",
    "                 0.05 : 3.84,\n",
    "                 0.0001 : 100000},\n",
    "             2: {0.5 : 1.39,\n",
    "                 0.25 : 2.77,\n",
    "                 0.1 : 4.60,\n",
    "                 0.05 : 5.99,\n",
    "                 0.0001 : 100000},\n",
    "             3: {0.5 : 2.37,\n",
    "                 0.25 : 4.11,\n",
    "                 0.1 : 6.25,\n",
    "                 0.05 : 7.82,\n",
    "                 0.0001 : 100000},\n",
    "             4: {0.5 : 3.36,\n",
    "                 0.25 : 5.38,\n",
    "                 0.1 : 7.78,\n",
    "                 0.05 : 9.49,\n",
    "                 0.0001 : 100000},\n",
    "             5: {0.5 : 4.35,\n",
    "                 0.25 : 6.63,\n",
    "                 0.1 : 9.24,\n",
    "                 0.05 : 11.07,\n",
    "                 0.0001 : 100000},\n",
    "             6: {0.5 : 5.35,\n",
    "                 0.25 : 7.84,\n",
    "                 0.1 : 10.64,\n",
    "                 0.05 : 12.59,\n",
    "                 0.0001 : 100000},\n",
    "             7: {0.5 : 6.35,\n",
    "                 0.25 : 9.04,\n",
    "                 0.1 : 12.01,\n",
    "                 0.05 : 14.07,\n",
    "                 0.0001 : 100000},\n",
    "             8: {0.5 : 7.34,\n",
    "                 0.25 : 10.22,\n",
    "                 0.1 : 13.36,\n",
    "                 0.05 : 15.51,\n",
    "                 0.0001 : 100000},\n",
    "             9: {0.5 : 8.34,\n",
    "                 0.25 : 11.39,\n",
    "                 0.1 : 14.68,\n",
    "                 0.05 : 16.92,\n",
    "                 0.0001 : 100000},\n",
    "             10: {0.5 : 9.34,\n",
    "                  0.25 : 12.55,\n",
    "                  0.1 : 15.99,\n",
    "                  0.05 : 18.31,\n",
    "                  0.0001 : 100000},\n",
    "             11: {0.5 : 10.34,\n",
    "                  0.25 : 13.7,\n",
    "                  0.1 : 17.27,\n",
    "                  0.05 : 19.68,\n",
    "                  0.0001 : 100000}}"
   ]
  },
  {
   "cell_type": "code",
   "execution_count": null,
   "metadata": {},
   "outputs": [],
   "source": [
    "#### Your code here ####"
   ]
  },
  {
   "cell_type": "markdown",
   "metadata": {},
   "source": [
    "Build the best 2 trees:\n",
    "1. tree_max_depth - the best tree according to max_depth pruning\n",
    "1. tree_chi - the best tree according to chi square pruning"
   ]
  },
  {
   "cell_type": "code",
   "execution_count": null,
   "metadata": {},
   "outputs": [],
   "source": [
    "#### Your code here ####"
   ]
  },
  {
   "cell_type": "markdown",
   "metadata": {},
   "source": [
    "## Number of Nodes\n",
    "\n",
    "Of the two trees above we will choose the one with fewer nodes. Complete the function counts_nodes and print the number of nodes in each tree. (5 points) "
   ]
  },
  {
   "cell_type": "code",
   "execution_count": null,
   "metadata": {},
   "outputs": [],
   "source": [
    "def count_nodes(node):\n",
    "    \"\"\"\n",
    "    Count the number of node in a given tree\n",
    " \n",
    "    Input:\n",
    "    - node: a node in the decision tree.\n",
    " \n",
    "    Output: the number of node in the tree.\n",
    "    \"\"\"\n",
    "    ###########################################################################\n",
    "    # TODO: Implement the function.                                           #\n",
    "    ###########################################################################\n",
    "    if node.is_leaf():\n",
    "        return 1\n",
    "    for child_node in node.children:\n",
    "        return 1 + count_nodes(child_node)\n",
    "    ###########################################################################\n",
    "    #                             END OF YOUR CODE                            #\n",
    "    ###########################################################################\n",
    "count_nodes(tree_gini)"
   ]
  },
  {
   "cell_type": "markdown",
   "metadata": {},
   "source": [
    "## Print the tree\n",
    "\n",
    "Complete the function `print_tree` and execute it on your chosen tree. Your tree should be visualized clearly. You can use the following example as a reference:\n",
    "```\n",
    "[ROOT, feature=X0],\n",
    "  [X0=a, feature=X2]\n",
    "    [X2=c, leaf]: [{1.0: 10}]\n",
    "    [X2=d, leaf]: [{0.0: 10}]\n",
    "  [X0=y, feature=X5], \n",
    "    [X5=a, leaf]: [{1.0: 5}]\n",
    "    [X5=s, leaf]: [{0.0: 10}]\n",
    "  [X0=e, leaf]: [{0.0: 25, 1.0: 50}]\n",
    "```\n",
    "In each brackets:\n",
    "* The first argument is the parent feature with the value that led to current node\n",
    "* The second argument is the selected feature of the current node\n",
    "* If the current node is a leaf, you need to print also the labels and their counts\n",
    "\n",
    "(5 points)"
   ]
  },
  {
   "cell_type": "code",
   "execution_count": null,
   "metadata": {},
   "outputs": [],
   "source": [
    "# you can change the function signeture\n",
    "def print_tree(node, depth=0, parent_feature='ROOT', feature_val='ROOT'):\n",
    "    '''\n",
    "    prints the tree according to the example above\n",
    "\n",
    "    Input:\n",
    "    - node: a node in the decision tree\n",
    "\n",
    "    This function has no return value\n",
    "    '''\n",
    "    ###########################################################################\n",
    "    # TODO: Implement the function.                                           #\n",
    "    ###########################################################################\n",
    "    pass\n",
    "    ###########################################################################\n",
    "    #                             END OF YOUR CODE                            #\n",
    "    ###########################################################################"
   ]
  }
 ],
 "metadata": {
  "celltoolbar": "Create Assignment",
  "kernelspec": {
   "display_name": "Python 3",
   "language": "python",
   "name": "python3"
  },
  "language_info": {
   "codemirror_mode": {
    "name": "ipython",
    "version": 3
   },
   "file_extension": ".py",
   "mimetype": "text/x-python",
   "name": "python",
   "nbconvert_exporter": "python",
   "pygments_lexer": "ipython3",
   "version": "3.9.4"
  }
 },
 "nbformat": 4,
 "nbformat_minor": 2
}
