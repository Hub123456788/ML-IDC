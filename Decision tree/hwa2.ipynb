{
 "cells": [
  {
   "cell_type": "markdown",
   "metadata": {
    "nbgrader": {
     "grade": false,
     "grade_id": "cell-6bd0516e7cb654f5",
     "locked": true,
     "schema_version": 1,
     "solution": false
    }
   },
   "source": [
    "# Exercise 2: Decision Trees\n",
    "\n",
    "In this assignment you will implement a Decision Tree algorithm as learned in class.\n",
    "\n",
    "## Read the following instructions carefully:\n",
    "\n",
    "1. This jupyter notebook contains all the step by step instructions needed for this exercise.\n",
    "1. Submission includes this notebook only with the exercise number and your ID as the filename. For example: `hw2_123456789_987654321.ipynb` if you submitted in pairs and `hw2_123456789.ipynb` if you submitted the exercise alone.\n",
    "1. Write **efficient vectorized** code whenever possible. Some calculations in this exercise take several minutes when implemented efficiently, and might take much longer otherwise. Unnecessary loops will result in point deduction.\n",
    "1. You are responsible for the correctness of your code and should add as many tests as you see fit. Tests will not be graded nor checked.\n",
    "1. Write your functions in this notebook only. **Do not create Python modules and import them**.\n",
    "1. You are allowed to use functions and methods from the [Python Standard Library](https://docs.python.org/3/library/) and [numpy](https://www.numpy.org/devdocs/reference/) only. **Do not import anything else.**\n",
    "1. Your code must run without errors. Make sure your `numpy` version is at least 1.15.4 and that you are using at least python 3.6. Changes of the configuration we provided are at your own risk. Any code that cannot run will not be graded.\n",
    "1. Write your own code. Cheating will not be tolerated.\n",
    "1. Answers to qualitative questions should be written in **markdown** cells (with $\\LaTeX$ support). Answers that will be written in commented code blocks will not be checked.\n",
    "\n",
    "## In this exercise you will perform the following:\n",
    "1. Practice OOP in python.\n",
    "2. Implement two impurity measures: Gini and Entropy.\n",
    "3. Construct a decision tree algorithm.\n",
    "4. Prune the tree to achieve better results.\n",
    "5. Visualize your results."
   ]
  },
  {
   "cell_type": "markdown",
   "metadata": {},
   "source": [
    "# I have read and understood the instructions: *** ***"
   ]
  },
  {
   "cell_type": "code",
   "execution_count": 1,
   "metadata": {
    "nbgrader": {
     "grade": false,
     "grade_id": "cell-ed9fe7b1026e33cb",
     "locked": true,
     "schema_version": 1,
     "solution": false
    }
   },
   "outputs": [
    {
     "name": "stdout",
     "output_type": "stream",
     "text": [
      "Current date & time:  2021-05-01 15:45:56.454063\n"
     ]
    }
   ],
   "source": [
    "from datetime import datetime\n",
    "obj_now = datetime.now()\n",
    "print(\"Current date & time: \", obj_now)\n",
    "import numpy as np\n",
    "import pandas as pd\n",
    "import matplotlib.pyplot as plt\n",
    "import copy\n",
    "\n",
    "# make matplotlib figures appear inline in the notebook\n",
    "%matplotlib inline\n",
    "plt.rcParams['figure.figsize'] = (10.0, 8.0) # set default size of plots\n",
    "plt.rcParams['image.interpolation'] = 'nearest'\n",
    "plt.rcParams['image.cmap'] = 'gray'\n",
    "\n",
    "  # Ignore warnings\n",
    "import warnings\n",
    "warnings.filterwarnings('ignore')"
   ]
  },
  {
   "cell_type": "markdown",
   "metadata": {
    "nbgrader": {
     "grade": false,
     "grade_id": "cell-c6ac605270c2b091",
     "locked": true,
     "schema_version": 1,
     "solution": false
    }
   },
   "source": [
    "## Warmup - OOP in python\n",
    "\n",
    "Our desicion tree will be implemented using a dedicated python class. Python classes are very similar to classes in Java.\n",
    "\n",
    "\n",
    "You can use the following [site](https://jeffknupp.com/blog/2014/06/18/improve-your-python-python-classes-and-object-oriented-programming/) to learn about classes in python."
   ]
  },
  {
   "cell_type": "code",
   "execution_count": 2,
   "metadata": {},
   "outputs": [],
   "source": [
    "class Node(object):\n",
    "    def __init__(self, data):\n",
    "        self.data = data\n",
    "        self.children = []\n",
    "\n",
    "    def add_child(self, node):\n",
    "        self.children.append(node)"
   ]
  },
  {
   "cell_type": "code",
   "execution_count": 3,
   "metadata": {},
   "outputs": [
    {
     "data": {
      "text/plain": [
       "[<__main__.Node at 0x21b796a1d90>, <__main__.Node at 0x21b796a15b0>]"
      ]
     },
     "execution_count": 3,
     "metadata": {},
     "output_type": "execute_result"
    }
   ],
   "source": [
    "n = Node(5)\n",
    "p = Node(6)\n",
    "q = Node(7)\n",
    "n.add_child(p)\n",
    "n.add_child(q)\n",
    "n.children"
   ]
  },
  {
   "cell_type": "markdown",
   "metadata": {
    "nbgrader": {
     "grade": false,
     "grade_id": "cell-2f1ceb251c649b62",
     "locked": true,
     "schema_version": 1,
     "solution": false
    }
   },
   "source": [
    "## Data preprocessing\n",
    "\n",
    "For the following exercise, we will use a dataset containing mushroom data `agaricus-lepiota.csv`. \n",
    "\n",
    "This data set includes descriptions of hypothetical samples corresponding to 23 species of gilled mushrooms in the Agaricus and Lepiota Family. Each species is identified as definitely edible, definitely poisonous, or of unknown edibility and not recommended. This latter class was combined with the poisonous\n",
    "one (=there are only two classes **edible** and **poisonous**). \n",
    "    \n",
    "The dataset contains 8124 observations with 22 features:\n",
    "1. cap-shape: bell=b,conical=c,convex=x,flat=f,knobbed=k,sunken=s\n",
    "2. cap-surface: fibrous=f,grooves=g,scaly=y,smooth=s\n",
    "3. cap-color: brown=n,buff=b,cinnamon=c,gray=g,green=r,pink=p,purple=u,red=e,white=w,yellow=y\n",
    "4. bruises: bruises=t,no=f\n",
    "5. odor: almond=a,anise=l,creosote=c,fishy=y,foul=f, musty=m,none=n,pungent=p,spicy=s\n",
    "6. gill-attachment: attached=a,descending=d,free=f,notched=n\n",
    "7. gill-spacing: close=c,crowded=w,distant=d\n",
    "8. gill-size: broad=b,narrow=n\n",
    "9. gill-color: black=k,brown=n,buff=b,chocolate=h,gray=g,green=r,orange=o,pink=p,purple=u,red=e,white=w,yellow=y\n",
    "10. stalk-shape: enlarging=e,tapering=t\n",
    "11. stalk-root: bulbous=b,club=c,cup=u,equal=e,rhizomorphs=z,rooted=r\n",
    "12. stalk-surface-above-ring: fibrous=f,scaly=y,silky=k,smooth=s\n",
    "13. stalk-surface-below-ring: fibrous=f,scaly=y,silky=k,smooth=s\n",
    "14. stalk-color-above-ring: brown=n,buff=b,cinnamon=c,gray=g,orange=o,pink=p,red=e,white=w,yellow=y\n",
    "15. stalk-color-below-ring: brown=n,buff=b,cinnamon=c,gray=g,orange=o,pink=p,red=e,white=w,yellow=y\n",
    "16. veil-type: partial=p,universal=u\n",
    "17. veil-color: brown=n,orange=o,white=w,yellow=y\n",
    "18. ring-number: none=n,one=o,two=t\n",
    "19. ring-type: cobwebby=c,evanescent=e,flaring=f,large=l,none=n,pendant=p,sheathing=s,zone=z\n",
    "20. spore-print-color: black=k,brown=n,buff=b,chocolate=h,green=r,orange=o,purple=u,white=w,yellow=y\n",
    "21. population: abundant=a,clustered=c,numerous=n,scattered=s,several=v,solitary=y\n",
    "22. habitat: grasses=g,leaves=l,meadows=m,paths=p,urban=u,waste=w,woods=d\n",
    "\n",
    "First, we will read and explore the data using pandas and the `.read_csv` method. Pandas is an open source library providing high-performance, easy-to-use data structures and data analysis tools for the Python programming language."
   ]
  },
  {
   "cell_type": "code",
   "execution_count": 4,
   "metadata": {
    "nbgrader": {
     "grade": false,
     "grade_id": "cell-d79cb4542926ad3f",
     "locked": true,
     "schema_version": 1,
     "solution": false
    }
   },
   "outputs": [],
   "source": [
    "# load dataset\n",
    "data = pd.read_csv('agaricus-lepiota.csv')"
   ]
  },
  {
   "cell_type": "markdown",
   "metadata": {},
   "source": [
    "One of the advantages of the Decision Tree algorithm is that almost no preprocessing is required. However, finding missing values is always required."
   ]
  },
  {
   "cell_type": "code",
   "execution_count": 5,
   "metadata": {},
   "outputs": [],
   "source": [
    "#############################################################################\n",
    "# TODO: Find the columns with missing values and remove them from the data.#\n",
    "#############################################################################\n",
    "missing_values = [\"n/a\", \"na\", \"--\",\"\",\" \"]\n",
    "data = pd.read_csv('agaricus-lepiota.csv',na_values = missing_values)\n",
    "#############################################################################\n",
    "#                             END OF YOUR CODE                              #\n",
    "#############################################################################"
   ]
  },
  {
   "cell_type": "markdown",
   "metadata": {},
   "source": [
    "We will split the dataset to `Training` and `Testing` datasets."
   ]
  },
  {
   "cell_type": "code",
   "execution_count": 6,
   "metadata": {},
   "outputs": [
    {
     "name": "stdout",
     "output_type": "stream",
     "text": [
      "Training dataset shape:  (6093, 22)\n",
      "Testing dataset shape:  (2031, 22)\n"
     ]
    }
   ],
   "source": [
    "from sklearn.model_selection import train_test_split\n",
    "# Making sure the last column will hold the labels\n",
    "X, y = data.drop('class', axis=1), data['class']\n",
    "X = np.column_stack([X,y])\n",
    "# split dataset using random_state to get the same split each time\n",
    "X_train, X_test = train_test_split(X, random_state=99)\n",
    "\n",
    "print(\"Training dataset shape: \", X_train.shape)\n",
    "print(\"Testing dataset shape: \", X_test.shape)"
   ]
  },
  {
   "cell_type": "code",
   "execution_count": 7,
   "metadata": {},
   "outputs": [
    {
     "data": {
      "text/plain": [
       "(8124,)"
      ]
     },
     "execution_count": 7,
     "metadata": {},
     "output_type": "execute_result"
    }
   ],
   "source": [
    "y.shape"
   ]
  },
  {
   "cell_type": "markdown",
   "metadata": {
    "nbgrader": {
     "grade": false,
     "grade_id": "cell-fd7b0191f3f1e897",
     "locked": true,
     "schema_version": 1,
     "solution": false
    }
   },
   "source": [
    "## Impurity Measures\n",
    "\n",
    "Impurity is a measure of how often a randomly chosen element from the set would be incorrectly labeled if it was randomly labeled according to the distribution of labels in the subset. Implement the functions `calc_gini` and `calc_entropy`. You are encouraged to test your implementation (10 points)."
   ]
  },
  {
   "cell_type": "code",
   "execution_count": 8,
   "metadata": {},
   "outputs": [],
   "source": [
    "def calc_gini(data):\n",
    "    \"\"\"\n",
    "    Calculate gini impurity measure of a dataset.\n",
    " \n",
    "    Input:\n",
    "    - data: any dataset where the last column holds the labels.\n",
    "    \n",
    " \n",
    "    Returns the gini impurity.    \n",
    "    \"\"\"\n",
    "    gini = 0.0\n",
    "    ###########################################################################\n",
    "    # TODO: Implement the function.                                           #\n",
    "    ###########################################################################\n",
    "    if len(data.shape) == 1:\n",
    "        label = np.array(data)\n",
    "    else:\n",
    "        label = np.array(data[:, -1])\n",
    "    counts = np.array(np.unique(label, return_counts=True)).T\n",
    "    counts = np.square((np.array(counts[:, -1])) / len(label))\n",
    "    gini = np.sum(counts)\n",
    "    ###########################################################################\n",
    "    #                             END OF YOUR CODE                            #\n",
    "    ###########################################################################\n",
    "    return 1 - gini"
   ]
  },
  {
   "cell_type": "code",
   "execution_count": 9,
   "metadata": {},
   "outputs": [],
   "source": [
    "def calc_entropy(data):\n",
    "    \"\"\"\n",
    "    Calculate the entropy of a dataset.\n",
    "\n",
    "    Input:\n",
    "    - data: any dataset where the last column holds the labels.\n",
    "\n",
    "    Returns the entropy of the dataset.    \n",
    "    \"\"\"\n",
    "    entropy = 0.0\n",
    "    ###########################################################################\n",
    "    # TODO: Implement the function.                                           #\n",
    "    ###########################################################################\n",
    "    if len(data.shape) == 1:\n",
    "        label = np.array(data)\n",
    "    else:\n",
    "        label = np.array(data[:, -1])\n",
    "    counts = np.array(np.unique(label, return_counts=True)).T\n",
    "    prob = (np.array(counts[:, -1])) / len(label)\n",
    "    entropy = - np.sum(prob * np.log2(np.array(prob, dtype=float)))\n",
    "    ###########################################################################\n",
    "    #                             END OF YOUR CODE                            #\n",
    "    ###########################################################################\n",
    "    return entropy"
   ]
  },
  {
   "cell_type": "code",
   "execution_count": 10,
   "metadata": {
    "scrolled": true
   },
   "outputs": [
    {
     "data": {
      "text/plain": [
       "(0.4995636322379775, 0.9993703627906085)"
      ]
     },
     "execution_count": 10,
     "metadata": {},
     "output_type": "execute_result"
    }
   ],
   "source": [
    "##### Your Tests Here #####\n",
    "calc_gini(X),calc_entropy(X)"
   ]
  },
  {
   "cell_type": "markdown",
   "metadata": {},
   "source": [
    "## Goodness of Split\n",
    "\n",
    "Given a feature the Goodnees of Split measures the reduction in the impurity if we split the data according to the feature.\n",
    "$$\n",
    "\\Delta\\varphi(S, A) = \\varphi(S) - \\sum_{v\\in Values(A)} \\frac{|S_v|}{|S|}\\varphi(S_v)\n",
    "$$\n",
    "\n",
    "In our implementation the goodness_of_split function will return either the Goodness of Split or the Gain Ratio as learned in class. You'll control the return value with the `gain_ratio` parameter. If this parameter will set to False (the default value) it will return the regular Goodness of Split. If it will set to True it will return the Gain Ratio.\n",
    "$$\n",
    "GainRatio(S,A)=\\frac{InformationGain(S,A)}{SplitInformation(S,A)}\n",
    "$$\n",
    "Where:\n",
    "$$\n",
    "InformationGain(S,A)=Goodness\\ of\\ Split\\ calculated\\ with\\ Entropy\\ as\\ the\\ Impurity\\ function \\\\\n",
    "SplitInformation(S,A)=- \\sum_{a\\in A} \\frac{|S_a|}{|S|}\\log\\frac{|S_a|}{|S|}\n",
    "$$\n",
    "NOTE: you can add more parameters to the function and you can also add more returning variables (The given parameters and the given returning variable should not be touch). (10 Points)"
   ]
  },
  {
   "cell_type": "code",
   "execution_count": 11,
   "metadata": {},
   "outputs": [],
   "source": [
    "def goodness_of_split(data, feature, impurity_func,gain_ratio=False):\n",
    "    \"\"\"\n",
    "    Calculate the goodness of split of a dataset given a feature and impurity function.\n",
    "\n",
    "    Input:\n",
    "    - data: any dataset where the last column holds the labels.\n",
    "    - feature: the feature index.\n",
    "    - impurity func: a function that calculates the impurity.\n",
    "    - gain_ratio: goodness of split or gain ratio flag.\n",
    "\n",
    "    Returns the goodness of split (or the Gain Ration).  \n",
    "    \"\"\"\n",
    "    ###########################################################################\n",
    "    # TODO: Implement the function.                                           #\n",
    "    ###########################################################################\n",
    "    goodness = 0\n",
    "    vals, counts = np.unique(data[:, feature], return_counts=True)\n",
    "    weighted_gain = 0\n",
    "    if gain_ratio:\n",
    "        total_entropy = calc_entropy(data)\n",
    "        for i in range(len(vals)):\n",
    "            weighted_gain += (counts[i] / data.shape[0]) * calc_entropy(data[data[:, feature] == vals[i]])\n",
    "        information_gain = total_entropy - weighted_gain\n",
    "        div = (- np.sum(counts / data.shape[0] * np.log2(counts / data.shape[0])))\n",
    "        if not div:\n",
    "            goodness = 0\n",
    "        else:\n",
    "            goodness = information_gain / div\n",
    "    else:\n",
    "        total_impurity = impurity_func(data)\n",
    "        for i in range(len(vals)):\n",
    "            weighted_gain += (counts[i] / data.shape[0]) * impurity_func(data[data[:, feature] == vals[i]])\n",
    "        goodness = total_impurity - weighted_gain\n",
    "    ###########################################################################\n",
    "    #                             END OF YOUR CODE                            #\n",
    "    ###########################################################################\n",
    "    return goodness    "
   ]
  },
  {
   "cell_type": "markdown",
   "metadata": {},
   "source": [
    "## Building a Decision Tree\n",
    "\n",
    "Use a Python class to construct the decision tree. Your class should support the following functionality:\n",
    "\n",
    "1. Initiating a node for a decision tree. You will need to use several class methods and class attributes and you are free to use them as you see fit. We recommend that every node will hold the feature and value used for the split and its children.\n",
    "2. Your code should support both Gini and Entropy as impurity measures. \n",
    "3. The provided data includes categorical data. In this exercise, when splitting a node create the number of children needed according to the attribute unique values.\n",
    "\n",
    "Complete the class `DecisionNode`. The structure of this class is entirely up to you. \n",
    "\n",
    "Complete the function `build_tree`. This function should get the training dataset and the impurity as inputs, initiate a root for the decision tree and construct the tree according to the procedure you learned in class. (30 points)"
   ]
  },
  {
   "cell_type": "code",
   "execution_count": 12,
   "metadata": {},
   "outputs": [],
   "source": [
    "curr_max_depth = 0"
   ]
  },
  {
   "cell_type": "code",
   "execution_count": 23,
   "metadata": {},
   "outputs": [],
   "source": [
    "class DecisionNode:\n",
    "    def __init__(self, data, feature, value, parent=None):\n",
    "        self.feature = feature  # column index of criteria being tested\n",
    "        self.value = value\n",
    "        self.children = []\n",
    "        self.parent = parent\n",
    "        self.count = None\n",
    "        self.data = data\n",
    "        self.depth = 0\n",
    "        self.tree_depth = 0\n",
    "        self.y_count = np.unique(data[:,-1], return_counts=True) \n",
    "\n",
    "    def add_child(self, node):\n",
    "        self.children.append(node)\n",
    "\n",
    "    def is_leaf(self):\n",
    "        return len(self.children) == 0\n",
    "\n",
    "    def count_nodes(self):\n",
    "        x = 1\n",
    "        for j in self.children:\n",
    "            x += j.count_nodes()\n",
    "        return x\n",
    "    \n",
    "    def expected(self):\n",
    "        total = self.y_count[1][0] + self.y_count[1][1]\n",
    "        expected_e = self.y_count[1][0] / total\n",
    "        expected_p = self.y_count[1][1] / total\n",
    "        \n",
    "        return expected_e, expected_p\n",
    "\n",
    "#     def calc_major(self, data):\n",
    "#         return np.array(np.unique(data, return_counts=True))\n",
    "    \n",
    "    def chi_square(self):\n",
    "        classes = np.unique(self.data[:,self.feature], return_counts=True)\n",
    "        chi = []\n",
    "        expected = self.expected()\n",
    "        for attribute in classes[0]:\n",
    "            temp_data = self.data[self.data[:,self.feature] == attribute]\n",
    "            temp = np.unique(temp_data[:,-1], return_counts=True)\n",
    "            if temp[0].shape[0] == 1:\n",
    "                if temp[0][0] == 'e':\n",
    "                    chi_e = ((1 - expected[0]) ** 2) / expected[0]\n",
    "                    chi_p = 0\n",
    "                else:\n",
    "                    chi_e = 0\n",
    "                    chi_p = ((1 - expected[1]) ** 2) / expected[1]\n",
    "            else:\n",
    "                chi_e = (((temp[1][0] / temp[1][0] + temp[1][1]) - expected[0]) ** 2) / expected[0]\n",
    "                chi_p = (((temp[1][1] / temp[1][0] + temp[1][1]) - expected[1]) ** 2) / expected[1]\n",
    "                \n",
    "            chi.append(chi_e + chi_p)\n",
    "            \n",
    "        \n",
    "        np.array(chi)\n",
    "        \n",
    "        return np.sum(chi), classes[0].shape[0] - 1\n",
    "    \n",
    "    @staticmethod\n",
    "    def attribute_to_class(data, impurity_func, gain_ratio=False):\n",
    "        max_gain = -1.0\n",
    "        max_index = 0\n",
    "        for feature in range(data.shape[1] - 1):\n",
    "            curr_goodness = goodness_of_split(data, feature, impurity_func, gain_ratio)\n",
    "            if curr_goodness > max_gain:\n",
    "                max_gain = curr_goodness\n",
    "                max_index = feature\n",
    "        return max_index, max_gain\n",
    "\n",
    "    def add_tree(self, data, impurity, gain_ratio=False, chi=1, root_tree_depth=0, max_depth=1000, parent=None,chi_table=None):\n",
    "\n",
    "        if self.depth == max_depth:\n",
    "            return\n",
    "        global curr_max_depth\n",
    "        if self.depth > curr_max_depth:\n",
    "            curr_max_depth = self.depth\n",
    "\n",
    "        if not impurity(self.data):\n",
    "            return\n",
    "\n",
    "        if self.data.shape[1] == 1:\n",
    "            return\n",
    "\n",
    "        max_index, max_gain = self.attribute_to_class(self.data, impurity, gain_ratio)\n",
    "        self.feature = max_index\n",
    "        self.parent = parent\n",
    "\n",
    "        if not max_gain:\n",
    "            return\n",
    "        \n",
    "        if chi < 1:  \n",
    "            chi_square_val, df = self.chi_square() \n",
    "            if chi_square_val < chi_table[df][chi]:\n",
    "                return\n",
    "\n",
    "        labels = np.unique(data[:, self.feature])\n",
    "        for j in range(labels.shape[0]):\n",
    "            new_child = DecisionNode(data[data[:, self.feature] == labels[j]], -1, -1)\n",
    "            new_child.value = labels[j]\n",
    "            new_child.feature = self.feature\n",
    "            new_child.parent = self\n",
    "            new_child.depth = self.depth + 1\n",
    "            new_child.count = np.array(np.unique(data[data[:, self.feature] == labels[j]][:, -1], return_counts=True))\n",
    "            self.add_child(new_child)\n",
    "            self.children[j].add_tree(data[data[:, self.feature] == labels[j]], impurity, gain_ratio, chi,\n",
    "                                      root_tree_depth, parent=self,chi_table=chi_table)"
   ]
  },
  {
   "cell_type": "code",
   "execution_count": 33,
   "metadata": {},
   "outputs": [],
   "source": [
    "def build_tree(data, impurity, gain_ratio=False, chi=1, max_depth=1000, parent=None,chi_table=None):\n",
    "    root = DecisionNode(data, -1, -1)\n",
    "    root_tree_depth = 0\n",
    "    root.add_tree(data, impurity, gain_ratio, chi, root_tree_depth, max_depth=1000, parent=None,chi_table=chi_table)\n",
    "    ###########################################################################\n",
    "    #                             END OF YOUR CODE                            #\n",
    "    ###########################################################################\n",
    "    return root"
   ]
  },
  {
   "cell_type": "code",
   "execution_count": 34,
   "metadata": {},
   "outputs": [],
   "source": [
    "# python supports passing a function as an argument to another function.\n",
    "tree_gini = build_tree(data=X_train, impurity=calc_gini) # gini and goodness of split\n",
    "tree_entropy = build_tree(data=X_train, impurity=calc_entropy) # entropy and goodness of split\n",
    "curr_max_depth = 0\n",
    "tree_entropy_gain_ratio = build_tree(data=X_train, impurity=calc_entropy, gain_ratio=True) # entropy and gain ratio\n",
    "max_depth_tree_entropy_gain_ratio = curr_max_depth"
   ]
  },
  {
   "cell_type": "markdown",
   "metadata": {},
   "source": [
    "## Tree evaluation\n",
    "\n",
    "Complete the functions `predict` and `calc_accuracy`. (10 points)"
   ]
  },
  {
   "cell_type": "code",
   "execution_count": 35,
   "metadata": {},
   "outputs": [],
   "source": [
    "def predict(node, instance):\n",
    "    \"\"\"\n",
    "    Predict a given instance using the decision tree\n",
    " \n",
    "    Input:\n",
    "    - root: the root of the decision tree.\n",
    "    - instance: an row vector from the dataset. Note that the last element \n",
    "                of this vector is the label of the instance.\n",
    " \n",
    "    Output: the prediction of the instance.\n",
    "    \"\"\"\n",
    "    ###########################################################################\n",
    "    # TODO: Implement the function.                                           #\n",
    "    ###########################################################################\n",
    "    label = instance[node.feature]\n",
    "    if node.is_leaf():\n",
    "        try:\n",
    "            di = dict(zip(node.count[0], node.count[1]))\n",
    "            return max(di, key=di.get)\n",
    "        except TypeError:\n",
    "            return\n",
    "    index = 0\n",
    "    for i, val in enumerate(node.children):\n",
    "        if val.value == label:\n",
    "            index = i\n",
    "            break\n",
    "    ###########################################################################\n",
    "    #                             END OF YOUR CODE                            #\n",
    "    ###########################################################################\n",
    "    return predict(node.children[index], instance)"
   ]
  },
  {
   "cell_type": "code",
   "execution_count": 36,
   "metadata": {},
   "outputs": [],
   "source": [
    "def calc_accuracy(node, dataset):\n",
    "    \"\"\"\n",
    "    Predict a given dataset using the decision tree\n",
    " \n",
    "    Input:\n",
    "    - node: a node in the decision tree.\n",
    "    - dataset: the dataset on which the accuracy is evaluated\n",
    " \n",
    "    Output: the accuracy of the decision tree on the given dataset (%).\n",
    "    \"\"\"\n",
    "    accuracy = 0\n",
    "    ###########################################################################\n",
    "    # TODO: Implement the function.                                           #\n",
    "    ###########################################################################\n",
    "    goodpredict = 0\n",
    "    for fet in dataset:\n",
    "        curr_predict = predict(node, fet)\n",
    "        if curr_predict == fet[-1]:\n",
    "            goodpredict += 1\n",
    "    accuracy = goodpredict / (dataset.shape[0])\n",
    "    ###########################################################################\n",
    "    #                             END OF YOUR CODE                            #\n",
    "    ###########################################################################\n",
    "    return accuracy*100"
   ]
  },
  {
   "cell_type": "markdown",
   "metadata": {},
   "source": [
    "After building the three trees using the training set, you should calculate the accuracy on the test set. For each tree print the training and test accuracy. Select the tree that gave you the best test accuracy. For the rest of the exercise, use that tree (when you asked to build another tree use the same impurity function and same gain_ratio flag). "
   ]
  },
  {
   "cell_type": "code",
   "execution_count": 37,
   "metadata": {},
   "outputs": [],
   "source": [
    "impur = None\n",
    "gain_ra = None\n",
    "tree = None\n",
    "one = calc_accuracy(tree_gini, X_test)\n",
    "two = calc_accuracy(tree_entropy, X_test)\n",
    "three = calc_accuracy(tree_entropy_gain_ratio, X_test)\n",
    "three_train = calc_accuracy(tree_entropy_gain_ratio, X_train)\n",
    "if max(one,two,three) == one:\n",
    "    impur = calc_gini\n",
    "    gain_ra = False\n",
    "    tree = tree_gini\n",
    "elif max(one,two,three) == two:\n",
    "    impur = calc_entropy\n",
    "    gain_ra = False\n",
    "    tree = tree_entropy\n",
    "else:\n",
    "    impur = calc_entropy\n",
    "    gain_ra = True\n",
    "    tree = tree_entropy_gain_ratio"
   ]
  },
  {
   "cell_type": "markdown",
   "metadata": {},
   "source": [
    "## Post pruning\n",
    "\n",
    "Iterate over all nodes in the tree that have at least a single child which is a leaf. For each such node, replace it with its most popular class. Calculate the accuracy on the testing dataset, pick the node that results in the highest testing accuracy and permanently change it in the tree. Repeat this process until you are left with a single node in the tree (the root). Finally, create a plot of the training and testing accuracies as a function of the number of nodes in the tree. (15 points)"
   ]
  },
  {
   "cell_type": "code",
   "execution_count": null,
   "metadata": {},
   "outputs": [],
   "source": [
    "def post_pruning(root, train_data, test_data,stopconditon=0):\n",
    "    \n",
    "    acuury = {\n",
    "        'train': [calc_accuracy(root, train_data)],\n",
    "        'test': [calc_accuracy(root, test_data)]\n",
    "    }\n",
    "    curr_data = {\n",
    "        'train': train_data,\n",
    "        'test': test_data\n",
    "    }\n",
    "\n",
    "    nodes_size = [root.count_nodes()]\n",
    "    node = root\n",
    "    while not root.is_leaf():\n",
    "        curr_leaves = {}\n",
    "        prune_leaves(root, node, curr_data, curr_leaves)\n",
    "        best = max(curr_leaves.keys(), key=lambda l: curr_leaves[l])\n",
    "\n",
    "        best.children = []\n",
    "        nodes_size.append(root.count_nodes())\n",
    "        acuury['test'].append(curr_leaves[best])\n",
    "        acuury['train'].append(calc_accuracy(root, curr_data['train']))\n",
    "        if stopconditon and nodes_size[-1] == stopconditon:\n",
    "            break\n",
    "    return acuury, nodes_size\n",
    "\n",
    "\n",
    "def prune_leaves(root, node, curr_data, curr_leaves):\n",
    "    if node.is_leaf():\n",
    "        children = np.copy(node.parent.children)\n",
    "        if node.parent is not None:\n",
    "            node.parent.children = []\n",
    "        curr_leaves[node.parent] = calc_accuracy(root, curr_data['test'])\n",
    "        node.parent.children = children\n",
    "        return\n",
    "\n",
    "    for child in node.children:\n",
    "        prune_leaves(root, child, curr_data, curr_leaves)"
   ]
  },
  {
   "cell_type": "code",
   "execution_count": null,
   "metadata": {
    "scrolled": true
   },
   "outputs": [],
   "source": [
    "e, f = post_pruning(copy.deepcopy(tree), X_train, X_test)\n",
    "arr_e_train = np.array(e['train'][:-1])\n",
    "arr_e_test = np.array(e['test'][:-1])\n",
    "arr_f = np.array(f[1:])\n",
    "plt.plot(arr_f,arr_e_train, label=\"train\")\n",
    "plt.plot(arr_f,arr_e_test, label=\"test\")\n",
    "plt.xlabel('number of nodes')\n",
    "plt.ylabel('Accuracy %')\n",
    "plt.title('Accuracy as a function of the number of nodes in the tree')\n",
    "plt.legend()\n",
    "plt.show()"
   ]
  },
  {
   "cell_type": "markdown",
   "metadata": {},
   "source": [
    "## Chi square pre-pruning\n",
    "\n",
    "Consider the following p-value cut-off values: [1 (no pruning), 0.5, 0.25, 0.1, 0.05, 0.0001 (max pruning)]. For each value, construct a tree and prune it according to the cut-off value. Next, calculate the training and testing accuracy. On a single plot, draw the training and testing accuracy as a function of the tuple (p-value, tree depth). Mark the best result on the graph with red circle. (15 points)"
   ]
  },
  {
   "cell_type": "code",
   "execution_count": 38,
   "metadata": {},
   "outputs": [],
   "source": [
    "### Chi square table values ###\n",
    "# The first key is the degree of freedom \n",
    "# The second key is the p-value cut-off\n",
    "# The values are the chi-statistic that you need to use in the pruning\n",
    "chi_table = {1: {0.5 : 0.45,\n",
    "                 0.25 : 1.32,\n",
    "                 0.1 : 2.71,\n",
    "                 0.05 : 3.84,\n",
    "                 0.0001 : 100000},\n",
    "             2: {0.5 : 1.39,\n",
    "                 0.25 : 2.77,\n",
    "                 0.1 : 4.60,\n",
    "                 0.05 : 5.99,\n",
    "                 0.0001 : 100000},\n",
    "             3: {0.5 : 2.37,\n",
    "                 0.25 : 4.11,\n",
    "                 0.1 : 6.25,\n",
    "                 0.05 : 7.82,\n",
    "                 0.0001 : 100000},\n",
    "             4: {0.5 : 3.36,\n",
    "                 0.25 : 5.38,\n",
    "                 0.1 : 7.78,\n",
    "                 0.05 : 9.49,\n",
    "                 0.0001 : 100000},\n",
    "             5: {0.5 : 4.35,\n",
    "                 0.25 : 6.63,\n",
    "                 0.1 : 9.24,\n",
    "                 0.05 : 11.07,\n",
    "                 0.0001 : 100000},\n",
    "             6: {0.5 : 5.35,\n",
    "                 0.25 : 7.84,\n",
    "                 0.1 : 10.64,\n",
    "                 0.05 : 12.59,\n",
    "                 0.0001 : 100000},\n",
    "             7: {0.5 : 6.35,\n",
    "                 0.25 : 9.04,\n",
    "                 0.1 : 12.01,\n",
    "                 0.05 : 14.07,\n",
    "                 0.0001 : 100000},\n",
    "             8: {0.5 : 7.34,\n",
    "                 0.25 : 10.22,\n",
    "                 0.1 : 13.36,\n",
    "                 0.05 : 15.51,\n",
    "                 0.0001 : 100000},\n",
    "             9: {0.5 : 8.34,\n",
    "                 0.25 : 11.39,\n",
    "                 0.1 : 14.68,\n",
    "                 0.05 : 16.92,\n",
    "                 0.0001 : 100000},\n",
    "             10: {0.5 : 9.34,\n",
    "                  0.25 : 12.55,\n",
    "                  0.1 : 15.99,\n",
    "                  0.05 : 18.31,\n",
    "                  0.0001 : 100000},\n",
    "             11: {0.5 : 10.34,\n",
    "                  0.25 : 13.7,\n",
    "                  0.1 : 17.27,\n",
    "                  0.05 : 19.68,\n",
    "                  0.0001 : 100000}}"
   ]
  },
  {
   "cell_type": "code",
   "execution_count": 77,
   "metadata": {},
   "outputs": [],
   "source": [
    "curr_max_depth = 0\n",
    "tree_0001 = build_tree(data=X_train, impurity=calc_entropy, chi=0.0001, gain_ratio=True, chi_table=chi_table)\n",
    "max_depth_0001 = curr_max_depth\n",
    "curr_max_depth = 0\n",
    "tree_05 = build_tree(data=X_train, impurity=calc_entropy, chi=0.05, gain_ratio=True, chi_table=chi_table)\n",
    "max_depth_05 = curr_max_depth\n",
    "curr_max_depth = 0\n",
    "tree_1 = build_tree(data=X_train, impurity=calc_entropy, chi=0.1, gain_ratio=True, chi_table=chi_table)\n",
    "max_depth_1 = curr_max_depth\n",
    "curr_max_depth = 0\n",
    "tree_25 = build_tree(data=X_train, impurity=calc_entropy, chi=0.25, gain_ratio=True, chi_table=chi_table)\n",
    "max_depth_25 = curr_max_depth\n",
    "curr_max_depth = 0\n",
    "tree_5 = build_tree(data=X_train, impurity=calc_entropy, chi=0.5, gain_ratio=True, chi_table=chi_table)\n",
    "max_depth_5 = curr_max_depth\n",
    "\n",
    "\n",
    "\n",
    "accuracy_0001 = calc_accuracy(tree_0001, X_test)\n",
    "accuracy_05 = calc_accuracy(tree_05, X_test)\n",
    "accuracy_1 = calc_accuracy(tree_1, X_test)\n",
    "accuracy_25 = calc_accuracy(tree_25, X_test)\n",
    "accuracy_5 = calc_accuracy(tree_5, X_test)\n",
    "\n",
    "\n",
    "accuracy_0001_train = calc_accuracy(tree_0001, X_train)\n",
    "accuracy_05_train = calc_accuracy(tree_05, X_train)\n",
    "accuracy_1_train = calc_accuracy(tree_1, X_train)\n",
    "accuracy_25_train = calc_accuracy(tree_25, X_train)\n",
    "accuracy_5_train = calc_accuracy(tree_5, X_train)\n",
    "\n",
    "test_accuracy_list = [three,accuracy_5,accuracy_25,accuracy_1,accuracy_05,accuracy_0001]\n",
    "train_accuracy_list = [three_train,accuracy_5_train,accuracy_25_train,accuracy_1_train,accuracy_05_train,accuracy_0001_train]\n",
    "chi_val_depth_list = [(1,max_depth_tree_entropy_gain_ratio),(0.5,max_depth_5),(0.25,max_depth_25),(0.1,max_depth_1),(0.05,max_depth_05),(0.0001,max_depth_0001)]\n",
    "chi_val = [1,0.5,0.25,0.1,0.05,0.0001]\n",
    "depth_list = [max_depth_tree_entropy_gain_ratio,max_depth_5,max_depth_25,max_depth_1,max_depth_05,max_depth_0001]"
   ]
  },
  {
   "cell_type": "code",
   "execution_count": 81,
   "metadata": {},
   "outputs": [
    {
     "data": {
      "image/png": "[encoded data removed]",
      "text/plain": [
       "<Figure size 720x576 with 1 Axes>"
      ]
     },
     "metadata": {
      "needs_background": "light"
     },
     "output_type": "display_data"
    }
   ],
   "source": [
    "plt.plot(chi_val,test_accuracy_list,label='test')\n",
    "plt.plot(chi_val,train_accuracy_list,label='train')\n",
    "plt.scatter(chi_val,test_accuracy_list)\n",
    "plt.scatter(chi_val,train_accuracy_list)\n",
    "# plt.scatter(depth_list,test_accuracy_list)\n",
    "# plt.scatter(depth_list,train_accuracy_list)\n",
    "plt.ylabel('accuracy_list')\n",
    "plt.title('training and testing accuracy as a function of the tuple')\n",
    "plt.legend()\n",
    "plt.show()"
   ]
  },
  {
   "cell_type": "markdown",
   "metadata": {},
   "source": [
    "Build the best 2 trees:\n",
    "1. tree_post_pruning - the best tree according to post pruning\n",
    "1. tree_chi - the best tree according to chi square pruning"
   ]
  },
  {
   "cell_type": "code",
   "execution_count": null,
   "metadata": {},
   "outputs": [],
   "source": [
    "# best by pruning\n",
    "# cur_tree = build_tree(X_train, impur, gain_ra)\n",
    "cur_tree = tree\n",
    "print(calc_accuracy(cur_tree, X_test))\n",
    "index_best = e['test'].index(max(e['test']))\n",
    "post_pruning(cur_tree, X_train, X_test,f[index_best])\n",
    "print(calc_accuracy(cur_tree, X_test))"
   ]
  },
  {
   "cell_type": "markdown",
   "metadata": {},
   "source": [
    "## Number of Nodes\n",
    "\n",
    "Of the two trees above we will choose the one with fewer nodes. Complete the function counts_nodes and print the number of nodes in each tree. (5 points) "
   ]
  },
  {
   "cell_type": "code",
   "execution_count": null,
   "metadata": {},
   "outputs": [],
   "source": [
    "def count_nodes(node):\n",
    "    \"\"\"\n",
    "    Count the number of node in a given tree\n",
    " \n",
    "    Input:\n",
    "    - node: a node in the decision tree.\n",
    " \n",
    "    Output: the number of node in the tree.\n",
    "    \"\"\"\n",
    "    ###########################################################################\n",
    "    # TODO: Implement the function.                                           #\n",
    "    ###########################################################################  \n",
    "    return node.count_nodes()\n",
    "    ###########################################################################\n",
    "    #                             END OF YOUR CODE                            #\n",
    "    ###########################################################################"
   ]
  },
  {
   "cell_type": "markdown",
   "metadata": {},
   "source": [
    "## Print the tree\n",
    "\n",
    "Complete the function `print_tree` and execute it on your chosen tree. Your tree should be visualized clearly. You can use the following example as a reference:\n",
    "```\n",
    "[ROOT, feature=X0],\n",
    "  [X0=a, feature=X2]\n",
    "    [X2=c, leaf]: [{1.0: 10}]\n",
    "    [X2=d, leaf]: [{0.0: 10}]\n",
    "  [X0=y, feature=X5], \n",
    "    [X5=a, leaf]: [{1.0: 5}]\n",
    "    [X5=s, leaf]: [{0.0: 10}]\n",
    "  [X0=e, leaf]: [{0.0: 25, 1.0: 50}]\n",
    "```\n",
    "In each brackets:\n",
    "* The first argument is the parent feature with the value that led to current node\n",
    "* The second argument is the selected feature of the current node\n",
    "* If the current node is a leaf, you need to print also the labels and their counts\n",
    "\n",
    "(5 points)"
   ]
  },
  {
   "cell_type": "code",
   "execution_count": null,
   "metadata": {},
   "outputs": [],
   "source": [
    "# you can change the function signeture\n",
    "def print_tree(node,labels, depth=0, parent_feature='ROOT'):\n",
    "    '''\n",
    "    prints the tree according to the example above\n",
    "\n",
    "    Input:\n",
    "    - node: a node in the decision tree\n",
    "\n",
    "    This function has no return value\n",
    "    '''\n",
    "    ###########################################################################\n",
    "    # TODO: Implement the function.                                           #\n",
    "    ###########################################################################\n",
    "    num_of_spaces = depth * \"  \"\n",
    "    if node.value == -1:\n",
    "        print(f\"[ROOT, feature={node.feature}],\")\n",
    "    elif node.is_leaf():\n",
    "        first = np.count_nonzero(node.data[:, -1] == labels[0])\n",
    "        second = np.count_nonzero(node.data[:, -1] == labels[1])\n",
    "        to_str1 = f\"{labels[0]}: {first}\" if first != 0 else \"\"\n",
    "        to_str2 = f\"{labels[1]}: {second}\" if second != 0 else \"\"\n",
    "        final = \"\" if (first == 0 or second == 0) else \", \"\n",
    "        print(num_of_spaces, f\"[X{parent_feature}={node.value}, leaf]: [{to_str1}{final}{to_str2}]\")\n",
    "    else:\n",
    "        print(num_of_spaces, f\"[X{parent_feature}={node.value}, feature=X{node.feature}],\")\n",
    "    for child in node.children:\n",
    "        print_tree(child, labels, depth=depth + 1, parent_feature=node.feature)\n",
    "    ###########################################################################\n",
    "    #                             END OF YOUR CODE                            #\n",
    "    ###########################################################################"
   ]
  },
  {
   "cell_type": "code",
   "execution_count": null,
   "metadata": {},
   "outputs": [],
   "source": [
    "print_tree(cur_tree,('p', 'e'))\n",
    "obj_now_2 = datetime.now()\n",
    "print(\"Current date & time: \", obj_now_2)"
   ]
  }
 ],
 "metadata": {
  "kernelspec": {
   "display_name": "Python 3",
   "language": "python",
   "name": "python3"
  },
  "language_info": {
   "codemirror_mode": {
    "name": "ipython",
    "version": 3
   },
   "file_extension": ".py",
   "mimetype": "text/x-python",
   "name": "python",
   "nbconvert_exporter": "python",
   "pygments_lexer": "ipython3",
   "version": "3.9.4"
  },
  "shortcuts": [
   {
    "command": "jupyterlab_code_formatter:black",
    "keys": [
     "Ctrl alt l",
     "Ctrl M"
    ],
    "selector": ".jp-Notebook.jp-mod-editMode"
   }
  ]
 },
 "nbformat": 4,
 "nbformat_minor": 2
}
